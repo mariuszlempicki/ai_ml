{
 "cells": [
  {
   "cell_type": "markdown",
   "id": "da3c8cc1",
   "metadata": {},
   "source": [
    "# Dekoratory – zadania"
   ]
  },
  {
   "cell_type": "markdown",
   "id": "a7782b2d-d08e-404a-87d7-6e154f7ca2a5",
   "metadata": {},
   "source": [
    "1. Napisz funkcję, która w pętli wyprintuje liczby z zakresu 1-x (x jest parametrem) i po każdym princie odczeka sekundę. Następnie napisz dekorator, który mierzy oraz printuje czas działania funkcji i zastosuj go.\n",
    "\n",
    "---\n",
    "(czas: 8 min.)"
   ]
  },
  {
   "cell_type": "code",
   "execution_count": 2,
   "id": "bca3accd-9abb-4e73-8c85-5c0cb7da5f46",
   "metadata": {},
   "outputs": [],
   "source": [
    "import time"
   ]
  },
  {
   "cell_type": "code",
   "execution_count": 3,
   "id": "10858592-4e9f-4451-945c-0f0004566e14",
   "metadata": {},
   "outputs": [],
   "source": [
    "def measure_time(func):\n",
    "    def wrapper(*args, **kwargs):\n",
    "        start_time = time.time()\n",
    "        result = func(*args, **kwargs)\n",
    "        end_time = time.time()\n",
    "        elapsed_time = end_time - start_time\n",
    "        print(f\"Funkcja '{func.__name__}' wykonała się w: {elapsed_time:.2f} sekund\")\n",
    "        return result\n",
    "    return wrapper"
   ]
  },
  {
   "cell_type": "code",
   "execution_count": 4,
   "id": "7abfa3df-0698-4e59-9f31-4026f5dc6833",
   "metadata": {},
   "outputs": [],
   "source": [
    "@measure_time\n",
    "def print_numbers(x):\n",
    "    for i in range(1, x + 1):\n",
    "        print(i)\n",
    "        time.sleep(1)"
   ]
  },
  {
   "cell_type": "code",
   "execution_count": 5,
   "id": "6555cd1f-4a6e-4883-87e8-e82b01180ff9",
   "metadata": {},
   "outputs": [
    {
     "name": "stdout",
     "output_type": "stream",
     "text": [
      "1\n",
      "2\n",
      "3\n",
      "4\n",
      "5\n",
      "Funkcja 'print_numbers' wykonała się w: 5.01 sekund\n"
     ]
    }
   ],
   "source": [
    "print_numbers(5)"
   ]
  },
  {
   "cell_type": "markdown",
   "id": "6a5ab628-6348-4126-8e02-a7ef025d4127",
   "metadata": {},
   "source": [
    "2. Napisz dekorator, który zaloguje do pliku .txt wywołanie dowolnej funkcji zapisując informacje takie jak:\n",
    "   - aktualny timestamp\n",
    "   - nazwa funkcji\n",
    "   - listę przekazanych argumentów\n",
    "  \n",
    "   Format logów możesz dowolnie ustalić.\n",
    "\n",
    "---\n",
    "(czas: 9 min.)"
   ]
  },
  {
   "cell_type": "code",
   "execution_count": 18,
   "id": "545aca89-acce-4561-8851-509a04278602",
   "metadata": {},
   "outputs": [],
   "source": [
    "import time"
   ]
  },
  {
   "cell_type": "code",
   "execution_count": 19,
   "id": "9553d8a4-7d39-46fd-a3e5-09878e2bcefd",
   "metadata": {},
   "outputs": [],
   "source": [
    "def log_to_file(func):\n",
    "    def wrapper(*args, **kwargs):\n",
    "        # Uzyskiwanie aktualnego timestampu\n",
    "        timestamp = time.strftime(\"%Y-%m-%d %H:%M:%S\", time.localtime())\n",
    "\n",
    "        # Nazwa funkcji\n",
    "        function_name = func.__name__\n",
    "\n",
    "        # Lista argumentów\n",
    "        arguments = f\"args: {args}, kwargs: {kwargs}\"\n",
    "\n",
    "        # Tworzenie wpisu logu\n",
    "        log_entry = f\"{timestamp} - Called function: {function_name} - Arguments: {arguments}\\n\"\n",
    "        print(log_entry)\n",
    "        # Zapisywanie logu do pliku\n",
    "        with open(\"function_calls.txt\", \"a\") as log_file:\n",
    "            log_file.write(log_entry)\n",
    "\n",
    "        # Wywołanie oryginalnej funkcji\n",
    "        return func(*args, **kwargs)\n",
    "\n",
    "    return wrapper"
   ]
  },
  {
   "cell_type": "code",
   "execution_count": 20,
   "id": "793b1458-2336-41d9-883d-7c8857172a96",
   "metadata": {},
   "outputs": [],
   "source": [
    "@log_to_file\n",
    "def example_function(a, b, c=None):\n",
    "    print(f\"Doing something with: a={a}, b={b}, c={c}\")\n",
    "    return a + b if c is None else a + b + c"
   ]
  },
  {
   "cell_type": "code",
   "execution_count": 21,
   "id": "2a9f13e3-9b61-4673-988c-a68c1fc19917",
   "metadata": {},
   "outputs": [
    {
     "name": "stdout",
     "output_type": "stream",
     "text": [
      "2024-09-08 09:57:21 - Called function: example_function - Arguments: args: (3, 6), kwargs: {}\n",
      "\n",
      "Doing something with: a=3, b=6, c=None\n",
      "---------------------------\n",
      "2024-09-08 09:57:21 - Called function: example_function - Arguments: args: (4, 6), kwargs: {'c': 5}\n",
      "\n",
      "Doing something with: a=4, b=6, c=5\n"
     ]
    },
    {
     "data": {
      "text/plain": [
       "15"
      ]
     },
     "execution_count": 21,
     "metadata": {},
     "output_type": "execute_result"
    }
   ],
   "source": [
    "example_function(3, 6)\n",
    "print(\"---------------------------\")\n",
    "example_function(4, 6, c=5)"
   ]
  },
  {
   "cell_type": "markdown",
   "id": "3e597f18-8567-4bd4-9c7a-8dcb69bc7395",
   "metadata": {},
   "source": [
    "---\n",
    "---\n",
    "---"
   ]
  },
  {
   "cell_type": "markdown",
   "id": "9c575b85-6b33-4224-aed5-10306e455532",
   "metadata": {},
   "source": [
    "3. Połącz dwa powyższe dekoratory i zastosuj je dla dowolnej funkcji. Sprawdź czy kolejność ich użycia ma znaczenie.\n",
    "\n",
    "---\n",
    "(czas: 3 min.)"
   ]
  },
  {
   "cell_type": "code",
   "execution_count": 22,
   "id": "2ead0344-fcb8-4dbf-a9ad-2d6778873ca7",
   "metadata": {},
   "outputs": [],
   "source": [
    "import time"
   ]
  },
  {
   "cell_type": "code",
   "execution_count": 24,
   "id": "943b7c11-1bdb-4b4c-bf20-692beb80bc5c",
   "metadata": {},
   "outputs": [],
   "source": [
    "def measure_time(func):\n",
    "    def wrapper(*args, **kwargs):\n",
    "        start_time = time.time()\n",
    "        result = func(*args, **kwargs)\n",
    "        end_time = time.time()\n",
    "        elapsed_time = end_time - start_time\n",
    "        print(f\"Funkcja '{func.__name__}' wykonała się w: {elapsed_time:.2f} sekund\")\n",
    "        return result\n",
    "    return wrapper"
   ]
  },
  {
   "cell_type": "code",
   "execution_count": 45,
   "id": "75b2a75e-b648-4927-bc54-f4efcff2a919",
   "metadata": {},
   "outputs": [],
   "source": [
    "def log_to_file(func):\n",
    "    def wrapper(*args, **kwargs):\n",
    "        # Uzyskiwanie aktualnego timestampu\n",
    "        timestamp = time.strftime(\"%Y-%m-%d %H:%M:%S\", time.localtime())\n",
    "\n",
    "        # Nazwa funkcji\n",
    "        function_name = func.__name__\n",
    "\n",
    "        # Lista argumentów\n",
    "        arguments = f\"args: {args}, kwargs: {kwargs}\"\n",
    "\n",
    "        # Tworzenie wpisu logu\n",
    "        log_entry = f\"{timestamp} - Called function: {function_name} - Arguments: {arguments}\\n\"\n",
    "        print(log_entry)\n",
    "        # Zapisywanie logu do pliku\n",
    "        with open(\"function_calls.txt\", \"a\") as log_file:\n",
    "            log_file.write(log_entry)\n",
    "\n",
    "        # Wywołanie oryginalnej funkcji\n",
    "        return func(*args, **kwargs)\n",
    "\n",
    "    return wrapper"
   ]
  },
  {
   "cell_type": "code",
   "execution_count": 43,
   "id": "73e35700-93fd-4a72-bad7-09593ea5c34b",
   "metadata": {},
   "outputs": [],
   "source": [
    "@log_to_file\n",
    "@measure_time\n",
    "def example_function(a, b, c=None):\n",
    "    print(f\"Doing something with: a={a}, b={b}, c={c}\")\n",
    "    return a + b if c is None else a + b + c"
   ]
  },
  {
   "cell_type": "code",
   "execution_count": 48,
   "id": "0fb7f183-171c-4906-b6f4-0151a99426cb",
   "metadata": {},
   "outputs": [
    {
     "name": "stdout",
     "output_type": "stream",
     "text": [
      "2024-09-08 10:44:55 - Called function: wrapper - Arguments: args: (3, 6), kwargs: {}\n",
      "\n",
      "Doing something with: a=3, b=6, c=None\n",
      "Funkcja 'example_function' wykonała się w: 0.00 sekund\n",
      "\n",
      "---------------------------\n",
      "\n",
      "2024-09-08 10:44:55 - Called function: wrapper - Arguments: args: (4, 6), kwargs: {'c': 5}\n",
      "\n",
      "Doing something with: a=4, b=6, c=5\n",
      "Funkcja 'example_function' wykonała się w: 0.00 sekund\n"
     ]
    },
    {
     "data": {
      "text/plain": [
       "15"
      ]
     },
     "execution_count": 48,
     "metadata": {},
     "output_type": "execute_result"
    }
   ],
   "source": [
    "example_function(3, 6)\n",
    "print(\"\\n---------------------------\\n\")\n",
    "example_function(4, 6, c=5)"
   ]
  }
 ],
 "metadata": {
  "kernelspec": {
   "display_name": "Python 3 (ipykernel)",
   "language": "python",
   "name": "python3"
  },
  "language_info": {
   "codemirror_mode": {
    "name": "ipython",
    "version": 3
   },
   "file_extension": ".py",
   "mimetype": "text/x-python",
   "name": "python",
   "nbconvert_exporter": "python",
   "pygments_lexer": "ipython3",
   "version": "3.12.5"
  },
  "toc": {
   "base_numbering": 1,
   "nav_menu": {},
   "number_sections": true,
   "sideBar": true,
   "skip_h1_title": true,
   "title_cell": "Table of Contents",
   "title_sidebar": "Contents",
   "toc_cell": false,
   "toc_position": {},
   "toc_section_display": true,
   "toc_window_display": false
  },
  "varInspector": {
   "cols": {
    "lenName": 16,
    "lenType": 16,
    "lenVar": 40
   },
   "kernels_config": {
    "python": {
     "delete_cmd_postfix": "",
     "delete_cmd_prefix": "del ",
     "library": "var_list.py",
     "varRefreshCmd": "print(var_dic_list())"
    },
    "r": {
     "delete_cmd_postfix": ") ",
     "delete_cmd_prefix": "rm(",
     "library": "var_list.r",
     "varRefreshCmd": "cat(var_dic_list()) "
    }
   },
   "types_to_exclude": [
    "module",
    "function",
    "builtin_function_or_method",
    "instance",
    "_Feature"
   ],
   "window_display": false
  }
 },
 "nbformat": 4,
 "nbformat_minor": 5
}
