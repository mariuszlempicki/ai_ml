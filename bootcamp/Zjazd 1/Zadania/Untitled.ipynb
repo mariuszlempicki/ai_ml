{
 "cells": [
  {
   "cell_type": "code",
   "execution_count": 1,
   "id": "47714a38-b967-4946-b35a-2d5fc05484c0",
   "metadata": {},
   "outputs": [
    {
     "name": "stdout",
     "output_type": "stream",
     "text": [
      "<generator object <genexpr> at 0x000001A6F3CDBE80>\n",
      "5000050000\n"
     ]
    }
   ],
   "source": [
    "gen = (i for i in range(1, 100001))\n",
    "print(gen)\n",
    "print(sum(gen))"
   ]
  }
 ],
 "metadata": {
  "kernelspec": {
   "display_name": "Python 3 (ipykernel)",
   "language": "python",
   "name": "python3"
  },
  "language_info": {
   "codemirror_mode": {
    "name": "ipython",
    "version": 3
   },
   "file_extension": ".py",
   "mimetype": "text/x-python",
   "name": "python",
   "nbconvert_exporter": "python",
   "pygments_lexer": "ipython3",
   "version": "3.12.5"
  }
 },
 "nbformat": 4,
 "nbformat_minor": 5
}
