{
 "cells": [
  {
   "cell_type": "markdown",
   "id": "da3c8cc1",
   "metadata": {},
   "source": [
    "# Generatory – zadania"
   ]
  },
  {
   "cell_type": "markdown",
   "id": "a7782b2d-d08e-404a-87d7-6e154f7ca2a5",
   "metadata": {},
   "source": [
    "1. Stwórz generator, ktory bedzie przyjmował przez parametr ilość elementów, a nastepnie zwracał w pętli wartości o treści \"element o indeksie <x>\" (gdzie <x> bedzie numerem podawanego elementu). Przed zwróceniem każdego elementu zatrzymaj program na sekundę funkcją time.sleep().\n",
    "\n",
    "---\n",
    "(czas: 5 min.)"
   ]
  },
  {
   "cell_type": "code",
   "execution_count": 1,
   "id": "bca3accd-9abb-4e73-8c85-5c0cb7da5f46",
   "metadata": {},
   "outputs": [],
   "source": [
    "import time"
   ]
  },
  {
   "cell_type": "code",
   "execution_count": 2,
   "id": "bece8083-6c8d-422f-8d95-a959edf87108",
   "metadata": {},
   "outputs": [],
   "source": [
    "def element_generator(count):\n",
    "    for i in range(count):\n",
    "        time.sleep(1) \n",
    "        yield f\"element o indeksie {i}\""
   ]
  },
  {
   "cell_type": "code",
   "execution_count": 3,
   "id": "9a88557b-42eb-4f60-b027-fbc84368f48e",
   "metadata": {},
   "outputs": [],
   "source": [
    "# generator = element_generator(5)"
   ]
  },
  {
   "cell_type": "code",
   "execution_count": 4,
   "id": "9f84b961-561c-450e-824f-0981a3f96eea",
   "metadata": {},
   "outputs": [
    {
     "name": "stdout",
     "output_type": "stream",
     "text": [
      "element o indeksie 0\n",
      "element o indeksie 1\n",
      "element o indeksie 2\n",
      "element o indeksie 3\n",
      "element o indeksie 4\n"
     ]
    }
   ],
   "source": [
    "for element in element_generator(5):\n",
    "    print(element)"
   ]
  },
  {
   "cell_type": "markdown",
   "id": "6a5ab628-6348-4126-8e02-a7ef025d4127",
   "metadata": {},
   "source": [
    "2. Stwórz generator, który otworzy `plik.txt` i będzie zwracał kolejne linie z tego pliku nie wczytując go w całości.\n",
    "\n",
    "Podpowiedź: po otwartym pliku możesz iterować w pętli.\n",
    "\n",
    "---\n",
    "(czas: 7 min.)"
   ]
  },
  {
   "cell_type": "code",
   "execution_count": 5,
   "id": "37bd0515-08d0-497c-be6d-0f5b91eedc52",
   "metadata": {},
   "outputs": [
    {
     "name": "stdout",
     "output_type": "stream",
     "text": [
      "Linijka pierwsza\n",
      "Linijka druga\n",
      "Linijka trzecia\n",
      "Linijka czwarta\n"
     ]
    }
   ],
   "source": [
    "def line_generator(file_path):\n",
    "    with open(file_path, 'r') as file:\n",
    "        for line in file:\n",
    "            yield line.strip()\n",
    "\n",
    "file_path = 'plik.txt'\n",
    "generator = line_generator(file_path)\n",
    "\n",
    "for line in generator:\n",
    "    print(line)"
   ]
  },
  {
   "cell_type": "markdown",
   "id": "9c575b85-6b33-4224-aed5-10306e455532",
   "metadata": {},
   "source": [
    "3. Stwórz generator, który będzie podawał nieskończenie wiele liczb parzystych. Przetestuj go pobierając z niego kolejne wartości i wyświetlając je w konsoli.\n",
    "\n",
    "---\n",
    "(czas: 5 min.)"
   ]
  },
  {
   "cell_type": "code",
   "execution_count": 6,
   "id": "2ead0344-fcb8-4dbf-a9ad-2d6778873ca7",
   "metadata": {},
   "outputs": [
    {
     "name": "stdout",
     "output_type": "stream",
     "text": [
      "0\n",
      "2\n",
      "4\n",
      "6\n",
      "8\n",
      "10\n",
      "12\n",
      "14\n",
      "16\n",
      "18\n"
     ]
    }
   ],
   "source": [
    "def even_number_generator():\n",
    "    num = 0\n",
    "    while True:\n",
    "        yield num\n",
    "        num += 2\n",
    "\n",
    "generator = even_number_generator()\n",
    "\n",
    "for _ in range(10):\n",
    "    print(next(generator))"
   ]
  },
  {
   "cell_type": "code",
   "execution_count": 7,
   "id": "24f8ebb2-9c65-46c7-84f4-58f7f7859fb8",
   "metadata": {},
   "outputs": [],
   "source": [
    "generator = even_number_generator()"
   ]
  },
  {
   "cell_type": "code",
   "execution_count": 8,
   "id": "aaace8a7-0962-42b0-8e39-bcec93de526a",
   "metadata": {},
   "outputs": [],
   "source": [
    "for _ in range(10):\n",
    "    next(generator)"
   ]
  },
  {
   "cell_type": "markdown",
   "id": "b6f956da-7aa9-4b22-afd5-3f3372c7976e",
   "metadata": {},
   "source": [
    "4. Policz sumę ciągu liczb 1, 2, ..., 100000. Aby nie obciążać pamięci użyj do tego generator expression.\n",
    "\n",
    "---\n",
    "(czas: 2 min.)"
   ]
  },
  {
   "cell_type": "code",
   "execution_count": 9,
   "id": "3cbf5456-a848-47dc-806c-779451853833",
   "metadata": {},
   "outputs": [
    {
     "name": "stdout",
     "output_type": "stream",
     "text": [
      "<generator object <genexpr> at 0x000001B003BABF40>\n",
      "5000050000\n"
     ]
    }
   ],
   "source": [
    "gen_ex = (zonk for zonk in range(1, 100001))\n",
    "print(gen_ex)\n",
    "print(sum(gen_ex))"
   ]
  },
  {
   "cell_type": "code",
   "execution_count": 10,
   "id": "3efae213-a8f0-4922-b480-923c5a459164",
   "metadata": {},
   "outputs": [
    {
     "name": "stdout",
     "output_type": "stream",
     "text": [
      "Wersja Pythona: 3.12.5\n"
     ]
    }
   ],
   "source": [
    "import sys\n",
    "\n",
    "# Sprawdzanie wersji Pythona w postaci krotki\n",
    "version_info = sys.version_info\n",
    "\n",
    "# Wyświetlanie wersji Pythona w postaci major.minor.micro\n",
    "print(f\"Wersja Pythona: {version_info.major}.{version_info.minor}.{version_info.micro}\")"
   ]
  },
  {
   "cell_type": "code",
   "execution_count": 11,
   "id": "d432e6d2-e911-4aac-bd2a-789d90fbd1d8",
   "metadata": {},
   "outputs": [
    {
     "name": "stdout",
     "output_type": "stream",
     "text": [
      "<generator object <genexpr> at 0x000001B003BABDC0>\n",
      "5000050000\n"
     ]
    }
   ],
   "source": [
    "number_generator = (i for i in range(1, 100001))\n",
    "print(number_generator)\n",
    "\n",
    "# Obliczamy sumę wszystkich wartości generowanych przez generator\n",
    "total_sum = sum(number_generator)\n",
    "\n",
    "# Wyświetlamy wynik\n",
    "print(total_sum)"
   ]
  },
  {
   "cell_type": "code",
   "execution_count": 12,
   "id": "426bd633-245b-4705-9227-020112601e7e",
   "metadata": {},
   "outputs": [],
   "source": [
    "def infinite_generator():\n",
    "    \"\"\"\n",
    "    E.g. for generating id numbers\n",
    "    \"\"\"\n",
    "    i = 1\n",
    "    while True:\n",
    "        yield i\n",
    "        i += 1"
   ]
  },
  {
   "cell_type": "code",
   "execution_count": 13,
   "id": "f3a000fd-cbba-43b0-b9fa-a4cebd2a7796",
   "metadata": {},
   "outputs": [],
   "source": [
    "generator = infinite_generator()"
   ]
  },
  {
   "cell_type": "code",
   "execution_count": 14,
   "id": "f0af40be-b56a-4fb1-b776-7b48c8422a44",
   "metadata": {},
   "outputs": [
    {
     "name": "stdout",
     "output_type": "stream",
     "text": [
      "Suma: 5000050000\n"
     ]
    }
   ],
   "source": [
    "sum = 0;\n",
    "for _ in range(100000):\n",
    "    n = next(generator)\n",
    "    sum += n\n",
    "print(f\"Suma: {sum}\")"
   ]
  }
 ],
 "metadata": {
  "kernelspec": {
   "display_name": "Python 3 (ipykernel)",
   "language": "python",
   "name": "python3"
  },
  "language_info": {
   "codemirror_mode": {
    "name": "ipython",
    "version": 3
   },
   "file_extension": ".py",
   "mimetype": "text/x-python",
   "name": "python",
   "nbconvert_exporter": "python",
   "pygments_lexer": "ipython3",
   "version": "3.12.5"
  },
  "toc": {
   "base_numbering": 1,
   "nav_menu": {},
   "number_sections": true,
   "sideBar": true,
   "skip_h1_title": true,
   "title_cell": "Table of Contents",
   "title_sidebar": "Contents",
   "toc_cell": false,
   "toc_position": {},
   "toc_section_display": true,
   "toc_window_display": false
  },
  "varInspector": {
   "cols": {
    "lenName": 16,
    "lenType": 16,
    "lenVar": 40
   },
   "kernels_config": {
    "python": {
     "delete_cmd_postfix": "",
     "delete_cmd_prefix": "del ",
     "library": "var_list.py",
     "varRefreshCmd": "print(var_dic_list())"
    },
    "r": {
     "delete_cmd_postfix": ") ",
     "delete_cmd_prefix": "rm(",
     "library": "var_list.r",
     "varRefreshCmd": "cat(var_dic_list()) "
    }
   },
   "types_to_exclude": [
    "module",
    "function",
    "builtin_function_or_method",
    "instance",
    "_Feature"
   ],
   "window_display": false
  }
 },
 "nbformat": 4,
 "nbformat_minor": 5
}
