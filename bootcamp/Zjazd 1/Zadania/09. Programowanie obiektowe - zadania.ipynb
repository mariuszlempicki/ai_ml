{
 "cells": [
  {
   "cell_type": "markdown",
   "id": "c59c19fd",
   "metadata": {},
   "source": [
    "# 09. Programowanie obiektowe\n",
    "## Definicja klasy cz. 1"
   ]
  },
  {
   "cell_type": "markdown",
   "id": "9b70cac2",
   "metadata": {},
   "source": [
    "1. Napisz klasę `User`, która będzie reprezentować użytkownika naszej aplikacji. Powinien mieć on następujące atrybuty:\n",
    "- username\n",
    "- email_address\n",
    "- password\n",
    "\n",
    "a także metodę `save_to_database()`, która na razie może pozostać pusta (instrukcja `pass`).\n",
    "\n",
    "\n",
    "Przygotuj dwa warianty. W jednym z nich instancje klasy będą tworzone poprzez przekazanie do konstruktora trzech osobnych argumentów. W drugim do konstruktora trzeba będzie przekazać słownik zawierający komplet informacji.\n",
    "\n",
    "Możesz także stworzyć instancję klasy i spróbować wykonać na niej różne operacje.\n",
    "\n",
    "---\n",
    "(czas: 18 min.)"
   ]
  },
  {
   "cell_type": "code",
   "execution_count": null,
   "id": "f748b7e9",
   "metadata": {},
   "outputs": [],
   "source": [
    "# ..."
   ]
  },
  {
   "cell_type": "markdown",
   "id": "917d1bee",
   "metadata": {},
   "source": [
    "## Definicja klasy cz. 2"
   ]
  },
  {
   "cell_type": "markdown",
   "id": "82fdb3df",
   "metadata": {},
   "source": [
    "1. Stwórz klasę `Task`, która będzie posiadać następujące atrybuty:\n",
    "- `description`\n",
    "- `assignee`\n",
    "- `due_date`\n",
    "- `priority`\n",
    "- `time_logged`\n",
    "- `is_complete`\n",
    "- `tags`\n",
    "- `comments`\n",
    "\n",
    "Definiując atrybuty wykorzystaj *type annotations* - użyj takich typów, jakie uznasz za właściwe. Zastanów się również czy wszystkie atrybuty powinny przyjmować wartość podaną przez użytkownika, czy może domyślną.\n",
    "\n",
    "Dodaj do klasy i zaimplementuj poniższe metody:\n",
    "- `edit_description()`\n",
    "- `mark_as_complete()`\n",
    "- `add_comment()`\n",
    "\n",
    "Możesz także stworzyć instancję klasy i spróbować wykonać na niej różne operacje.\n",
    "\n",
    "---\n",
    "\n",
    "(czas: 20 min.)"
   ]
  },
  {
   "cell_type": "code",
   "execution_count": null,
   "id": "53b89814",
   "metadata": {},
   "outputs": [],
   "source": [
    "# ..."
   ]
  },
  {
   "cell_type": "markdown",
   "id": "595a019b",
   "metadata": {},
   "source": [
    "## Dziedziczenie"
   ]
  },
  {
   "cell_type": "markdown",
   "id": "569655e5",
   "metadata": {},
   "source": [
    "1. Rozszerz klasę `User` z poprzedniego zadania o atrybut `user_id` oraz metodę `change_my_password()`. Zaimplementuj tę metodę.\n",
    "\n",
    "---\n",
    "(czas: 8 min.)"
   ]
  },
  {
   "cell_type": "code",
   "execution_count": null,
   "id": "a3bacc00",
   "metadata": {},
   "outputs": [],
   "source": [
    "# ..."
   ]
  },
  {
   "cell_type": "markdown",
   "id": "cf102e5a",
   "metadata": {},
   "source": [
    "2. Napisz klasę `Admin`, która dziedziczy po `User`. Powinna mieć dodatkowy atrybut typu `bool` o nazwie `can_add_users`\n",
    "\n",
    "oraz dodatkowe metody:\n",
    "- `add_user()` - tworzy i zwraca instancję klasy `User`, ale tylko jeśli może to robić (atrybut `can_add_users`). W przeciwnym wypadku wygeneruj *Exception*\n",
    "- `change_password_of_another_user()` - zmienia hasło dowolnego użytkownika na takie, które przekazano do metody. Metoda powinna więc przyjmować dwa argumenty - instancję klasy `User` oraz string z nowym hasłem\n",
    "\n",
    "---\n",
    "(czas: 16 min.)"
   ]
  },
  {
   "cell_type": "code",
   "execution_count": null,
   "id": "6a103b60",
   "metadata": {},
   "outputs": [],
   "source": [
    "# ..."
   ]
  },
  {
   "cell_type": "markdown",
   "id": "4281ef3e",
   "metadata": {},
   "source": [
    "## Hermetyzacja, `staticmethod`, `classmethod`"
   ]
  },
  {
   "cell_type": "markdown",
   "id": "8927bd1b",
   "metadata": {},
   "source": [
    "1. Do klasy `Task` napisanej w jednym z poprzednich zadań dodaj chronioną metodę statyczną `_validate_comment()`, której zadaniem będzie sprawdzenie komentarza przed jego dodaniem. Komentarz powinien być słownikiem o kluczach `\"text\"` oraz `\"author\"`, pod którymi znajdą się wartości typu `str`.\n",
    "\n",
    "Ta funkcja została już napisana w jednym z poprzednich zadań.\n",
    "\n",
    "---\n",
    "\n",
    "(czas: 10 min.)"
   ]
  },
  {
   "cell_type": "code",
   "execution_count": 13,
   "id": "51575261",
   "metadata": {},
   "outputs": [],
   "source": [
    "class Task:\n",
    "    def __init__(self,\n",
    "                 description: str,\n",
    "                 assignee: str,\n",
    "                 due_date: str,\n",
    "                 priority: str,\n",
    "                 tags: list,\n",
    "                 time_logged: float = 0,\n",
    "                 is_complete: bool = False,\n",
    "                 comments: bool = []):\n",
    "        self.description = description\n",
    "        self.assignee = assignee\n",
    "        self.due_date = due_date\n",
    "        self.priority = priority\n",
    "        self.tags = tags\n",
    "        self.time_logged = time_logged\n",
    "        self.is_complete = is_complete\n",
    "        self.comments = comments\n",
    "\n",
    "    def edit_description(self):\n",
    "        pass\n",
    "\n",
    "    def mark_as_complete(self):\n",
    "        pass\n",
    "\n",
    "    def add_comment(self):\n",
    "        pass\n",
    "        \n",
    "    def add_comment(self, comment: dict):\n",
    "        if self._validate_comment(comment):\n",
    "            self.comments.append(comment)\n",
    "        # else:\n",
    "        #     raise ValueError(\"Invalid comment format. Must contain 'author' and 'text' fields with string values.\")\n",
    "\n",
    "    @staticmethod\n",
    "    def _validate_comment(comment: dict) -> bool:\n",
    "        \"\"\"\n",
    "        Chroniona metoda statyczna sprawdzająca poprawność komentarza.\n",
    "        Komentarz musi być słownikiem z kluczami 'author' oraz 'text', które mają wartości typu str.\n",
    "        \"\"\"\n",
    "        if not isinstance(comment, dict):\n",
    "            return False\n",
    "        if \"author\" not in comment or \"text\" not in comment:\n",
    "            return False\n",
    "        if not isinstance(comment[\"author\"], str) or not isinstance(comment[\"text\"], str):\n",
    "            return False\n",
    "        return True\n"
   ]
  },
  {
   "cell_type": "code",
   "execution_count": 14,
   "id": "0a07cf7b-84c6-4fca-a739-221622585b48",
   "metadata": {},
   "outputs": [
    {
     "name": "stdout",
     "output_type": "stream",
     "text": [
      "[{'author': 'Andrzej', 'text': 'Great progress!'}]\n"
     ]
    }
   ],
   "source": [
    "# Tworzenie obiektu Task\n",
    "task = Task(description=\"Finish report\", assignee=\"Alice\", due_date=\"2024-10-01\", priority=\"High\", tags=[\"work\"])\n",
    "\n",
    "# Przykład poprawnego komentarza\n",
    "valid_comment = {\"author\": \"Andrzej\", \"text\": \"Great progress!\"}\n",
    "task.add_comment(valid_comment)\n",
    "\n",
    "print(task.comments)  # Powinno wyświetlić listę z dodanym komentarzem\n",
    "\n",
    "# Przykład niepoprawnego komentarza\n",
    "invalid_comment = {\"author\": \"Andrzej\"}  # Brak klucza 'text'\n",
    "task.add_comment(invalid_comment)  # Zgłosi wyjątek ValueError"
   ]
  },
  {
   "cell_type": "markdown",
   "id": "04539e1b",
   "metadata": {},
   "source": [
    "2. Stwórz metodę klasową `from_tuple()`, która stworzy instancję klasy `Task` na podstawie tupli zawierającej szereg wartości potrzebnych do utworzenia zadania.\n",
    "\n",
    "---\n",
    "\n",
    "(czas: 10 min.)"
   ]
  },
  {
   "cell_type": "code",
   "execution_count": 5,
   "id": "922f5825",
   "metadata": {},
   "outputs": [],
   "source": [
    "class Task:\n",
    "    def __init__(self,\n",
    "                 description: str,\n",
    "                 assignee: str,\n",
    "                 due_date: str,\n",
    "                 priority: str,\n",
    "                 tags: list,\n",
    "                 time_logged: float = 0,\n",
    "                 is_complete: bool = False,\n",
    "                 comments: list = []):\n",
    "        self.description = description\n",
    "        self.assignee = assignee\n",
    "        self.due_date = due_date\n",
    "        self.priority = priority\n",
    "        self.tags = tags\n",
    "        self.time_logged = time_logged\n",
    "        self.is_complete = is_complete\n",
    "        self.comments = comments\n",
    "\n",
    "    def edit_description(self):\n",
    "        pass\n",
    "\n",
    "    def mark_as_complete(self):\n",
    "        self.is_complete = True\n",
    "\n",
    "    def add_comment(self, comment: dict):\n",
    "        if self._validate_comment(comment):\n",
    "            self.comments.append(comment)\n",
    "        else:\n",
    "            raise ValueError(\"Invalid comment format. Must contain 'author' and 'text' fields with string values.\")\n",
    "\n",
    "    @staticmethod\n",
    "    def _validate_comment(comment: dict) -> bool:\n",
    "        if not isinstance(comment, dict):\n",
    "            return False\n",
    "        if \"author\" not in comment or \"text\" not in comment:\n",
    "            return False\n",
    "        if not isinstance(comment[\"author\"], str) or not isinstance(comment[\"text\"], str):\n",
    "            return False\n",
    "        return True\n",
    "\n",
    "    @classmethod\n",
    "    def from_tuple(cls, task_tuple: tuple):\n",
    "        \"\"\"\n",
    "        Tworzy instancję klasy Task na podstawie podanej krotki (tuple).\n",
    "        \"\"\"\n",
    "        # Rozpakowywanie krotki\n",
    "        description, assignee, due_date, priority, tags, time_logged, is_complete, comments = task_tuple\n",
    "        \n",
    "        # Zwracanie nowej instancji klasy Task\n",
    "        return cls(description, assignee, due_date, priority, tags, time_logged, is_complete, comments)\n"
   ]
  },
  {
   "cell_type": "code",
   "execution_count": 7,
   "id": "d10fc77d-834d-4c9d-bfb8-6cf218e4a236",
   "metadata": {},
   "outputs": [
    {
     "name": "stdout",
     "output_type": "stream",
     "text": [
      "Finish the project report\n",
      "Alice\n",
      "2024-09-30\n",
      "High\n",
      "['work', 'urgent']\n",
      "3.5\n",
      "False\n",
      "[]\n"
     ]
    }
   ],
   "source": [
    "task_data = (\n",
    "    \"Finish the project report\",  # description\n",
    "    \"Alice\",                      # assignee\n",
    "    \"2024-09-30\",                 # due_date\n",
    "    \"High\",                       # priority\n",
    "    [\"work\", \"urgent\"],           # tags\n",
    "    3.5,                          # time_logged\n",
    "    False,                        # is_complete\n",
    "    []                            # comments\n",
    ")\n",
    "\n",
    "# Tworzenie instancji Task za pomocą metody from_tuple\n",
    "new_task = Task.from_tuple(task_data)\n",
    "\n",
    "# Sprawdzenie wynikowej instancji\n",
    "print(new_task.description)  # Output: Finish the project report\n",
    "print(new_task.assignee)     # Output: Alice\n",
    "print(new_task.due_date)     # Output: 2024-09-30\n",
    "print(new_task.priority)     # Output: High\n",
    "print(new_task.tags)         # Output: ['work', 'urgent']\n",
    "print(new_task.time_logged)  # Output: 3.5\n",
    "print(new_task.is_complete)  # Output: False\n",
    "print(new_task.comments)     # Output: []"
   ]
  },
  {
   "cell_type": "markdown",
   "id": "448538c1",
   "metadata": {},
   "source": [
    "## Stringifikacja i reprezentacja"
   ]
  },
  {
   "cell_type": "markdown",
   "id": "d4a0c12f",
   "metadata": {},
   "source": [
    "1. Dodaj do klasy `User` z jednego z poprzednich zadań reprezentację oraz stringifikację. Pierwsza powinna być schematycznym opisem obiektu, który zawiera informację o jego numerze id, a druga niech zwraca jego nazwę użytkownika.\n",
    "\n",
    "---\n",
    "(czas: 7 min.)"
   ]
  },
  {
   "cell_type": "code",
   "execution_count": 8,
   "id": "86d991cf",
   "metadata": {},
   "outputs": [],
   "source": [
    "class User:\n",
    "    def __init__(self, user_id, username, email_address, password):\n",
    "        self.user_id = user_id\n",
    "        self.username = username\n",
    "        self.email_address = email_address\n",
    "        self.password = password\n",
    "\n",
    "    def save_to_database(self):\n",
    "        pass\n",
    "\n",
    "    def change_my_password(self, old_password, new_password):\n",
    "        if self.password == old_password:\n",
    "            self.password = new_password\n",
    "\n",
    "    def __repr__(self):\n",
    "        \"\"\"\n",
    "        Zwraca szczegółowy opis obiektu User, zawierający jego ID.\n",
    "        \"\"\"\n",
    "        return f\"User(user_id={self.user_id}, username={self.username}, email_address={self.email_address})\"\n",
    "\n",
    "    def __str__(self):\n",
    "        \"\"\"\n",
    "        Zwraca nazwę użytkownika jako przyjazny użytkownikowi ciąg znaków.\n",
    "        \"\"\"\n",
    "        return self.username"
   ]
  },
  {
   "cell_type": "code",
   "execution_count": 23,
   "id": "554de07f-7cf9-4f96-8b84-c389756c6a4a",
   "metadata": {},
   "outputs": [
    {
     "name": "stdout",
     "output_type": "stream",
     "text": [
      "User(user_id=1, username=johndoe, email_address=johndoe@example.com)\n",
      "johndoe\n"
     ]
    }
   ],
   "source": [
    "# Tworzenie instancji User\n",
    "user = User(user_id=1, username=\"johndoe\", email_address=\"johndoe@example.com\", password=\"securepassword\")\n",
    "\n",
    "# Reprezentacja obiektu\n",
    "print(repr(user))  # Output: User(user_id=1, username=johndoe, email_address=johndoe@example.com)\n",
    "\n",
    "# Stringifikacja obiektu\n",
    "str(user)   # Output: johndoe\n",
    "\n",
    "# Automatyczne wywołanie __str__ przez print()\n",
    "print(user)        # Output: johndoe\n"
   ]
  },
  {
   "cell_type": "code",
   "execution_count": 21,
   "id": "ef90a00f-f07b-42cb-81cc-d91ed42bf0b4",
   "metadata": {},
   "outputs": [
    {
     "data": {
      "text/plain": [
       "User(user_id=1, username=johndoe, email_address=johndoe@example.com)"
      ]
     },
     "execution_count": 21,
     "metadata": {},
     "output_type": "execute_result"
    }
   ],
   "source": [
    "user"
   ]
  },
  {
   "cell_type": "code",
   "execution_count": 20,
   "id": "d30d6290-9410-4e7b-bb89-54d7ba8e3979",
   "metadata": {},
   "outputs": [
    {
     "data": {
      "text/plain": [
       "'johndoe'"
      ]
     },
     "execution_count": 20,
     "metadata": {},
     "output_type": "execute_result"
    }
   ],
   "source": [
    "str(user)"
   ]
  }
 ],
 "metadata": {
  "kernelspec": {
   "display_name": "Python 3 (ipykernel)",
   "language": "python",
   "name": "python3"
  },
  "language_info": {
   "codemirror_mode": {
    "name": "ipython",
    "version": 3
   },
   "file_extension": ".py",
   "mimetype": "text/x-python",
   "name": "python",
   "nbconvert_exporter": "python",
   "pygments_lexer": "ipython3",
   "version": "3.12.5"
  },
  "toc": {
   "base_numbering": 1,
   "nav_menu": {},
   "number_sections": true,
   "sideBar": true,
   "skip_h1_title": true,
   "title_cell": "Table of Contents",
   "title_sidebar": "Contents",
   "toc_cell": false,
   "toc_position": {},
   "toc_section_display": true,
   "toc_window_display": false
  },
  "varInspector": {
   "cols": {
    "lenName": 16,
    "lenType": 16,
    "lenVar": 40
   },
   "kernels_config": {
    "python": {
     "delete_cmd_postfix": "",
     "delete_cmd_prefix": "del ",
     "library": "var_list.py",
     "varRefreshCmd": "print(var_dic_list())"
    },
    "r": {
     "delete_cmd_postfix": ") ",
     "delete_cmd_prefix": "rm(",
     "library": "var_list.r",
     "varRefreshCmd": "cat(var_dic_list()) "
    }
   },
   "types_to_exclude": [
    "module",
    "function",
    "builtin_function_or_method",
    "instance",
    "_Feature"
   ],
   "window_display": false
  }
 },
 "nbformat": 4,
 "nbformat_minor": 5
}
