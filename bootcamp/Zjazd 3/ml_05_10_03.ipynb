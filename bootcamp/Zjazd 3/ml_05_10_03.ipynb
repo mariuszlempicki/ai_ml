{
 "cells": [
  {
   "cell_type": "code",
   "execution_count": null,
   "id": "0aa2a930-08f7-4c64-8d01-dcc990f85ff9",
   "metadata": {},
   "outputs": [],
   "source": []
  },
  {
   "cell_type": "markdown",
   "id": "9fb00967-4e67-4ef1-9eb4-8b082cd0f8f7",
   "metadata": {},
   "source": [
    "# Transformacje zmiennej celu i automatyzacja eksperymentów\n",
    "Zaimplementuj testy modelu regresji liniowej z różnymi transformacjami zmiennej celu (w zestawieniu uwzględnij też model bez transformacji). Użyj klasy `TranformedTargetRegressor` z modulu `sklearn.compose`. Nie używaj klasy `GridSearchCV`. Zaimplementuj funkcję, która zwróci tabelkę z wynikami testów - informacją jakie przekształcenia dało jakie wyniki (metryka r-kwadrat), a arguemntem będzie lista transformacji do rozważenia (+ inne konieczne zmienne).\n",
    "Zaimplementuj testy tak, aby rozszerzanie ich o inne transformacje wymagało minimalnego nakładu pracy."
   ]
  },
  {
   "cell_type": "code",
   "execution_count": 5,
   "id": "05d8c34b-1101-4776-95df-85bee02cf7ad",
   "metadata": {},
   "outputs": [],
   "source": [
    "import numpy as np\n",
    "import pandas as pd\n",
    "import matplotlib.pyplot as plt\n",
    "from sklearn.datasets import fetch_california_housing\n",
    "from sklearn.model_selection import train_test_split\n",
    "from sklearn.linear_model import LinearRegression\n",
    "from sklearn.metrics import r2_score\n",
    "from sklearn.compose import TransformedTargetRegressor"
   ]
  },
  {
   "cell_type": "code",
   "execution_count": 2,
   "id": "b9d90f43-c26d-4103-b95f-3a5cd7218c2c",
   "metadata": {},
   "outputs": [
    {
     "name": "stdout",
     "output_type": "stream",
     "text": [
      "       MedInc  HouseAge  AveRooms  AveBedrms  Population  AveOccup\n",
      "0      8.3252      41.0  6.984127   1.023810       322.0  2.555556\n",
      "1      8.3014      21.0  6.238137   0.971880      2401.0  2.109842\n",
      "2      7.2574      52.0  8.288136   1.073446       496.0  2.802260\n",
      "3      5.6431      52.0  5.817352   1.073059       558.0  2.547945\n",
      "4      3.8462      52.0  6.281853   1.081081       565.0  2.181467\n",
      "...       ...       ...       ...        ...         ...       ...\n",
      "20635  1.5603      25.0  5.045455   1.133333       845.0  2.560606\n",
      "20636  2.5568      18.0  6.114035   1.315789       356.0  3.122807\n",
      "20637  1.7000      17.0  5.205543   1.120092      1007.0  2.325635\n",
      "20638  1.8672      18.0  5.329513   1.171920       741.0  2.123209\n",
      "20639  2.3886      16.0  5.254717   1.162264      1387.0  2.616981\n",
      "\n",
      "[20640 rows x 6 columns]\n"
     ]
    }
   ],
   "source": [
    "X, y = fetch_california_housing(return_X_y=True, as_frame=True)\n",
    "X = X.iloc[:, :-2]\n",
    "print(X)"
   ]
  },
  {
   "cell_type": "code",
   "execution_count": 89,
   "id": "3597228b-feba-4c6d-badf-649be3222e01",
   "metadata": {},
   "outputs": [],
   "source": [
    "def transform_log(x):\n",
    "    return np.log1p(x)  # log(1 + x)\n",
    "\n",
    "def inverse_log(x):\n",
    "    return np.expm1(x)  # exp(x) - 1\n",
    "\n",
    "def transform_sqrt(x):\n",
    "    return np.sqrt(x)\n",
    "\n",
    "def inverse_sqrt(x):\n",
    "    return np.power(x, 2)"
   ]
  },
  {
   "cell_type": "code",
   "execution_count": 90,
   "id": "d680d3b1-4235-4985-b54b-1bad30ce4fa8",
   "metadata": {},
   "outputs": [
    {
     "data": {
      "text/plain": [
       "((20640, 6), (20640,))"
      ]
     },
     "execution_count": 90,
     "metadata": {},
     "output_type": "execute_result"
    }
   ],
   "source": [
    "X.shape, y.shape"
   ]
  },
  {
   "cell_type": "code",
   "execution_count": 100,
   "id": "b869e00c-cddf-4258-910c-e4f7e4be7b7f",
   "metadata": {},
   "outputs": [],
   "source": [
    "# Główna funkcja do testowania różnych transformacji\n",
    "def test_regression_with_transformations(X, y, transformations):\n",
    "    results = []  # Lista na wyniki\n",
    "\n",
    "    # Podział danych na treningowe i testowe\n",
    "    X_train, X_test, y_train, y_test = train_test_split(X, y, test_size=0.2, random_state=42)\n",
    "\n",
    "    # Testowanie modelu bez transformacji\n",
    "    # model = LinearRegression()\n",
    "    # model.fit(X_train, y_train)\n",
    "    # y_pred = model.predict(X_test)\n",
    "    # r2 = r2_score(y_test, y_pred)\n",
    "    # results.append({'Transformation': 'None', 'R^2': r2})\n",
    "\n",
    "    # Testowanie modeli z transformacjami\n",
    "    for name, (transform, inverse_transform) in transformations.items():\n",
    "        print(name)\n",
    "        # print(transform)\n",
    "        # print(inverse_transform)\n",
    "        # Stworzenie modelu z przekształceniami\n",
    "        model = TransformedTargetRegressor(regressor=LinearRegression(),func=transform, inverse_func=inverse_transform)\n",
    "        model.fit(X_train, y_train)\n",
    "        y_pred = model.predict(X_test)\n",
    "        r2 = r2_score(y_test, y_pred)\n",
    "        # print(results)\n",
    "        # Zapisanie wyników\n",
    "        results.append({'Transformation': name, 'R^2': r2})\n",
    "        # print(results)\n",
    "\n",
    "    # Zwrócenie wyników jako DataFrame\n",
    "    return pd.DataFrame(results)"
   ]
  },
  {
   "cell_type": "code",
   "execution_count": 101,
   "id": "8adec941-2283-4b57-960d-f7839361a5af",
   "metadata": {},
   "outputs": [
    {
     "name": "stdout",
     "output_type": "stream",
     "text": [
      "       MedInc  HouseAge  AveRooms  AveBedrms  Population  AveOccup\n",
      "0      8.3252      41.0  6.984127   1.023810       322.0  2.555556\n",
      "1      8.3014      21.0  6.238137   0.971880      2401.0  2.109842\n",
      "2      7.2574      52.0  8.288136   1.073446       496.0  2.802260\n",
      "3      5.6431      52.0  5.817352   1.073059       558.0  2.547945\n",
      "4      3.8462      52.0  6.281853   1.081081       565.0  2.181467\n",
      "...       ...       ...       ...        ...         ...       ...\n",
      "20635  1.5603      25.0  5.045455   1.133333       845.0  2.560606\n",
      "20636  2.5568      18.0  6.114035   1.315789       356.0  3.122807\n",
      "20637  1.7000      17.0  5.205543   1.120092      1007.0  2.325635\n",
      "20638  1.8672      18.0  5.329513   1.171920       741.0  2.123209\n",
      "20639  2.3886      16.0  5.254717   1.162264      1387.0  2.616981\n",
      "\n",
      "[20640 rows x 6 columns]\n"
     ]
    }
   ],
   "source": [
    "# Przykładowe dane\n",
    "X, y = fetch_california_housing(return_X_y=True, as_frame=True)\n",
    "X = X.iloc[:, :-2]\n",
    "print(X)"
   ]
  },
  {
   "cell_type": "code",
   "execution_count": 105,
   "id": "c1d03bf0-632f-47be-8942-4a3279944a32",
   "metadata": {},
   "outputs": [
    {
     "name": "stdout",
     "output_type": "stream",
     "text": [
      "None\n",
      "Log\n",
      "Sqrt\n",
      "  Transformation       R^2\n",
      "0           None  0.509934\n",
      "1            Log  0.153178\n",
      "2           Sqrt  0.410320\n"
     ]
    }
   ],
   "source": [
    "# Definicja transformacji (nazwa + funkcje)\n",
    "transformations = {\n",
    "    'None': (None, None),\n",
    "    'Log': (transform_log, inverse_log),\n",
    "    'Sqrt': (transform_sqrt, inverse_sqrt),\n",
    "}\n",
    "\n",
    "# Wywołanie funkcji\n",
    "results_df = test_regression_with_transformations(X, y, transformations)\n",
    "\n",
    "# Wyświetlenie wyników\n",
    "print(results_df)"
   ]
  },
  {
   "cell_type": "code",
   "execution_count": null,
   "id": "0a8b6ef1-a7e8-49b6-a1a9-9410485d62e5",
   "metadata": {},
   "outputs": [],
   "source": []
  },
  {
   "cell_type": "markdown",
   "id": "4fa936e2-8f57-44e1-b9d5-9be285d5fa0b",
   "metadata": {},
   "source": [
    "### ---------------------------------------------------------------------------------"
   ]
  },
  {
   "cell_type": "code",
   "execution_count": 73,
   "id": "567f0897-a047-4fbc-81ee-f2d1c06667c8",
   "metadata": {},
   "outputs": [],
   "source": [
    "def test_transformation(transform_func, inverse_func, X_train, X_test, y_train, y_test):\n",
    "    model = TransformedTargetRegressor(LinearRegression(), func=transform_func, inverse_func=inverse_func)\n",
    "    model.fit(X_train, y_train)\n",
    "    y_pred = model.predict(X_test)\n",
    "    r2 = r2_score(y_test, y_pred)\n",
    "    return {\n",
    "        'transform_func': transform_func,\n",
    "        'inverse_func': inverse_func,\n",
    "        'r2': r2\n",
    "    }\n",
    "def test_transformations(transformations: list[tuple], X, y):\n",
    "    X_train, X_test, y_train, y_test = train_test_split(X, y, test_size=0.2)\n",
    "    return pd.DataFrame([test_transformation(transformation[0], transformation[1], X_train, X_test, y_train, y_test) for transformation in transformations])"
   ]
  },
  {
   "cell_type": "code",
   "execution_count": 74,
   "id": "22abd120-7f27-431f-bb5e-95d90567610a",
   "metadata": {},
   "outputs": [],
   "source": [
    "X, y = fetch_california_housing(return_X_y=True, as_frame=True)\n",
    "X = X.drop(columns=['Latitude', 'Longitude'])"
   ]
  },
  {
   "cell_type": "code",
   "execution_count": 82,
   "id": "2b5f2500-36ea-4638-a2bd-e6142def4a95",
   "metadata": {},
   "outputs": [
    {
     "data": {
      "text/html": [
       "<div>\n",
       "<style scoped>\n",
       "    .dataframe tbody tr th:only-of-type {\n",
       "        vertical-align: middle;\n",
       "    }\n",
       "\n",
       "    .dataframe tbody tr th {\n",
       "        vertical-align: top;\n",
       "    }\n",
       "\n",
       "    .dataframe thead th {\n",
       "        text-align: right;\n",
       "    }\n",
       "</style>\n",
       "<table border=\"1\" class=\"dataframe\">\n",
       "  <thead>\n",
       "    <tr style=\"text-align: right;\">\n",
       "      <th></th>\n",
       "      <th>transform_func</th>\n",
       "      <th>inverse_func</th>\n",
       "      <th>r2</th>\n",
       "    </tr>\n",
       "  </thead>\n",
       "  <tbody>\n",
       "    <tr>\n",
       "      <th>0</th>\n",
       "      <td>None</td>\n",
       "      <td>None</td>\n",
       "      <td>0.527292</td>\n",
       "    </tr>\n",
       "    <tr>\n",
       "      <th>1</th>\n",
       "      <td>&lt;ufunc 'log'&gt;</td>\n",
       "      <td>&lt;ufunc 'exp'&gt;</td>\n",
       "      <td>-1.236635</td>\n",
       "    </tr>\n",
       "    <tr>\n",
       "      <th>2</th>\n",
       "      <td>&lt;ufunc 'sqrt'&gt;</td>\n",
       "      <td>&lt;ufunc 'square'&gt;</td>\n",
       "      <td>0.430965</td>\n",
       "    </tr>\n",
       "  </tbody>\n",
       "</table>\n",
       "</div>"
      ],
      "text/plain": [
       "   transform_func      inverse_func        r2\n",
       "0            None              None  0.527292\n",
       "1   <ufunc 'log'>     <ufunc 'exp'> -1.236635\n",
       "2  <ufunc 'sqrt'>  <ufunc 'square'>  0.430965"
      ]
     },
     "execution_count": 82,
     "metadata": {},
     "output_type": "execute_result"
    }
   ],
   "source": [
    "results = test_transformations(\n",
    "    [(None, None), (np.log, np.exp),(np.sqrt, np.square)],\n",
    "     X,\n",
    "     y\n",
    ")\n",
    "results"
   ]
  },
  {
   "cell_type": "code",
   "execution_count": null,
   "id": "0f2b7716-13ba-44d2-80c0-fed2499ac211",
   "metadata": {},
   "outputs": [],
   "source": []
  },
  {
   "cell_type": "markdown",
   "id": "b7d83dfe-4f9a-4479-913c-35cc000b5139",
   "metadata": {},
   "source": [
    "### ---------------------------------------------------------------------------------"
   ]
  },
  {
   "cell_type": "code",
   "execution_count": 95,
   "id": "3026a945-3a75-45c1-b9e7-de2e58cbc9fc",
   "metadata": {},
   "outputs": [
    {
     "data": {
      "text/plain": [
       "[{'func': None, 'inverse_func': None},\n",
       " {'func': <ufunc 'log'>, 'inverse_func': <ufunc 'exp'>},\n",
       " {'func': <ufunc 'sqrt'>, 'inverse_func': <ufunc 'square'>}]"
      ]
     },
     "execution_count": 95,
     "metadata": {},
     "output_type": "execute_result"
    }
   ],
   "source": [
    "target_transformations = [(None, None), (np.log, np.exp),(np.sqrt, np.square)]\n",
    "target_transformations = [{\"func\": func, \"inverse_func\": inverse_func} for func, inverse_func in target_transformations]\n",
    "target_transformations"
   ]
  },
  {
   "cell_type": "code",
   "execution_count": 252,
   "id": "350e5db0-672b-4aa6-9989-6e8f95954b73",
   "metadata": {},
   "outputs": [
    {
     "data": {
      "text/plain": [
       "[{'func': None, 'inverse_func': None},\n",
       " {'func': <ufunc 'log'>, 'inverse_func': <ufunc 'exp'>},\n",
       " {'func': <ufunc 'log'>, 'inverse_func': <function __main__.<lambda>(x)>},\n",
       " {'func': <ufunc 'sqrt'>, 'inverse_func': <ufunc 'square'>},\n",
       " {'func': <function __main__.identity(x)>,\n",
       "  'inverse_func': <function __main__.<lambda>(y)>}]"
      ]
     },
     "execution_count": 252,
     "metadata": {},
     "output_type": "execute_result"
    }
   ],
   "source": [
    "MIN_PRED, MAX_PRED = 0, 5\n",
    "\n",
    "target_transformations = [\n",
    "    (None, None), \n",
    "    (np.log, np.exp),\n",
    "    (np.log, lambda x: np.clip(np.exp(x), MIN_PRED, MAX_PRED)),\n",
    "    (np.sqrt, np.square), \n",
    "    (identity, lambda y: np.clip(y, MIN_PRED, MAX_PRED))\n",
    "]\n",
    "target_transformations = [{\"func\": func, \"inverse_func\": inverse_func} for func, inverse_func in target_transformations]\n",
    "target_transformations"
   ]
  },
  {
   "cell_type": "code",
   "execution_count": 253,
   "id": "39f191a6-2e44-4308-9be6-2f3f979a7e33",
   "metadata": {},
   "outputs": [
    {
     "name": "stderr",
     "output_type": "stream",
     "text": [
      "C:\\Users\\mlempicki\\AI_ML\\venv\\Lib\\site-packages\\sklearn\\preprocessing\\_function_transformer.py:202: UserWarning: The provided functions are not strictly inverse of each other. If you are sure you want to proceed regardless, set 'check_inverse=False'.\n",
      "  warnings.warn(\n",
      "C:\\Users\\mlempicki\\AI_ML\\venv\\Lib\\site-packages\\sklearn\\preprocessing\\_function_transformer.py:202: UserWarning: The provided functions are not strictly inverse of each other. If you are sure you want to proceed regardless, set 'check_inverse=False'.\n",
      "  warnings.warn(\n"
     ]
    },
    {
     "data": {
      "text/html": [
       "<div>\n",
       "<style scoped>\n",
       "    .dataframe tbody tr th:only-of-type {\n",
       "        vertical-align: middle;\n",
       "    }\n",
       "\n",
       "    .dataframe tbody tr th {\n",
       "        vertical-align: top;\n",
       "    }\n",
       "\n",
       "    .dataframe thead th {\n",
       "        text-align: right;\n",
       "    }\n",
       "</style>\n",
       "<table border=\"1\" class=\"dataframe\">\n",
       "  <thead>\n",
       "    <tr style=\"text-align: right;\">\n",
       "      <th></th>\n",
       "      <th>transform_func</th>\n",
       "      <th>inverse_func</th>\n",
       "      <th>r2</th>\n",
       "    </tr>\n",
       "  </thead>\n",
       "  <tbody>\n",
       "    <tr>\n",
       "      <th>0</th>\n",
       "      <td>identity</td>\n",
       "      <td>identity</td>\n",
       "      <td>0.534294</td>\n",
       "    </tr>\n",
       "    <tr>\n",
       "      <th>1</th>\n",
       "      <td>log</td>\n",
       "      <td>exp</td>\n",
       "      <td>-0.223176</td>\n",
       "    </tr>\n",
       "    <tr>\n",
       "      <th>2</th>\n",
       "      <td>log</td>\n",
       "      <td>&lt;lambda&gt;</td>\n",
       "      <td>0.510607</td>\n",
       "    </tr>\n",
       "    <tr>\n",
       "      <th>3</th>\n",
       "      <td>sqrt</td>\n",
       "      <td>square</td>\n",
       "      <td>0.474427</td>\n",
       "    </tr>\n",
       "    <tr>\n",
       "      <th>4</th>\n",
       "      <td>identity</td>\n",
       "      <td>&lt;lambda&gt;</td>\n",
       "      <td>0.553320</td>\n",
       "    </tr>\n",
       "  </tbody>\n",
       "</table>\n",
       "</div>"
      ],
      "text/plain": [
       "  transform_func inverse_func        r2\n",
       "0       identity     identity  0.534294\n",
       "1            log          exp -0.223176\n",
       "2            log     <lambda>  0.510607\n",
       "3           sqrt       square  0.474427\n",
       "4       identity     <lambda>  0.553320"
      ]
     },
     "execution_count": 253,
     "metadata": {},
     "output_type": "execute_result"
    }
   ],
   "source": [
    "def test_transformation(transformation, X_train, X_test, y_train, y_test):\n",
    "    model = TransformedTargetRegressor(LinearRegression(), \n",
    "                                       func=transformation[\"func\"], \n",
    "                                       inverse_func=transformation[\"inverse_func\"])\n",
    "    model.fit(X_train, y_train)\n",
    "    y_pred = model.predict(X_test)\n",
    "    r2 = r2_score(y_test, y_pred)\n",
    "    \n",
    "    return {\n",
    "        'transform_func': \"identity\" if  transformation[\"func\"] is None else transformation[\"func\"].__name__,\n",
    "        'inverse_func': \"identity\" if transformation[\"inverse_func\"] is None else transformation[\"inverse_func\"].__name__,\n",
    "        'r2': r2\n",
    "    }\n",
    "def test_transformations(transformations: list[dict], X_train, X_test, y_train, y_test):\n",
    "    results = pd.DataFrame([test_transformation(transformation, X_train, X_test, y_train, y_test) for transformation in transformations])\n",
    "    return results\n",
    "\n",
    "X, y = fetch_california_housing(return_X_y=True, as_frame=True)\n",
    "X = X.iloc[:, :-2]\n",
    "\n",
    "# random_state = 123213\n",
    "random_state = None\n",
    "X_train, X_test, y_train, y_test = train_test_split(X, y, test_size=0.2, random_state=random_state)\n",
    "test_transformations(target_transformations, X_train, X_test, y_train, y_test)"
   ]
  },
  {
   "cell_type": "markdown",
   "id": "e0321c4f-7345-4007-b821-edb80b2e7c7b",
   "metadata": {},
   "source": [
    "## Można tu użyć dekoratora lub zdefiniowac funkcję, która będzie zwracała funkcję przyciętą"
   ]
  },
  {
   "cell_type": "code",
   "execution_count": 257,
   "id": "f36e3d84-6147-4caa-81d6-7d8684933898",
   "metadata": {},
   "outputs": [],
   "source": [
    "def convert_to_clipped(f):\n",
    "    def f_clipped(x):\n",
    "        y = f(x)\n",
    "        y_clipped = np.clip(y, MIN_PRED, MAX_PRED)\n",
    "        return y_clipped\n",
    "    return f_clipped"
   ]
  },
  {
   "cell_type": "code",
   "execution_count": 258,
   "id": "fb393949-5402-4f91-a1be-b017c38d5685",
   "metadata": {},
   "outputs": [
    {
     "data": {
      "text/plain": [
       "[{'func': None, 'inverse_func': None},\n",
       " {'func': <ufunc 'log'>, 'inverse_func': <ufunc 'exp'>},\n",
       " {'func': <ufunc 'log'>,\n",
       "  'inverse_func': <function __main__.convert_to_clipped.<locals>.f_clipped(x)>},\n",
       " {'func': <ufunc 'sqrt'>, 'inverse_func': <ufunc 'square'>},\n",
       " {'func': <ufunc 'sqrt'>,\n",
       "  'inverse_func': <function __main__.convert_to_clipped.<locals>.f_clipped(x)>}]"
      ]
     },
     "execution_count": 258,
     "metadata": {},
     "output_type": "execute_result"
    }
   ],
   "source": [
    "MIN_PRED, MAX_PRED = 0, 5\n",
    "\n",
    "target_transformations = [\n",
    "    (None, None), \n",
    "    (np.log, np.exp),\n",
    "    (np.log, convert_to_clipped(np.exp)),\n",
    "    (np.sqrt, np.square), \n",
    "    (np.sqrt, convert_to_clipped(np.square)), \n",
    "]\n",
    "\n",
    "target_transformations = [{\"func\": func, \"inverse_func\": inverse_func} for func, inverse_func in target_transformations]\n",
    "target_transformations"
   ]
  },
  {
   "cell_type": "code",
   "execution_count": 259,
   "id": "9ed6630e-f898-404b-ad95-3085b1ddacea",
   "metadata": {},
   "outputs": [
    {
     "name": "stderr",
     "output_type": "stream",
     "text": [
      "C:\\Users\\mlempicki\\AI_ML\\venv\\Lib\\site-packages\\sklearn\\preprocessing\\_function_transformer.py:202: UserWarning: The provided functions are not strictly inverse of each other. If you are sure you want to proceed regardless, set 'check_inverse=False'.\n",
      "  warnings.warn(\n",
      "C:\\Users\\mlempicki\\AI_ML\\venv\\Lib\\site-packages\\sklearn\\preprocessing\\_function_transformer.py:202: UserWarning: The provided functions are not strictly inverse of each other. If you are sure you want to proceed regardless, set 'check_inverse=False'.\n",
      "  warnings.warn(\n"
     ]
    },
    {
     "data": {
      "text/html": [
       "<div>\n",
       "<style scoped>\n",
       "    .dataframe tbody tr th:only-of-type {\n",
       "        vertical-align: middle;\n",
       "    }\n",
       "\n",
       "    .dataframe tbody tr th {\n",
       "        vertical-align: top;\n",
       "    }\n",
       "\n",
       "    .dataframe thead th {\n",
       "        text-align: right;\n",
       "    }\n",
       "</style>\n",
       "<table border=\"1\" class=\"dataframe\">\n",
       "  <thead>\n",
       "    <tr style=\"text-align: right;\">\n",
       "      <th></th>\n",
       "      <th>transform_func</th>\n",
       "      <th>inverse_func</th>\n",
       "      <th>r2</th>\n",
       "    </tr>\n",
       "  </thead>\n",
       "  <tbody>\n",
       "    <tr>\n",
       "      <th>0</th>\n",
       "      <td>identity</td>\n",
       "      <td>identity</td>\n",
       "      <td>0.528756</td>\n",
       "    </tr>\n",
       "    <tr>\n",
       "      <th>1</th>\n",
       "      <td>log</td>\n",
       "      <td>exp</td>\n",
       "      <td>-0.098357</td>\n",
       "    </tr>\n",
       "    <tr>\n",
       "      <th>2</th>\n",
       "      <td>log</td>\n",
       "      <td>f_clipped</td>\n",
       "      <td>0.518923</td>\n",
       "    </tr>\n",
       "    <tr>\n",
       "      <th>3</th>\n",
       "      <td>sqrt</td>\n",
       "      <td>square</td>\n",
       "      <td>0.486382</td>\n",
       "    </tr>\n",
       "    <tr>\n",
       "      <th>4</th>\n",
       "      <td>sqrt</td>\n",
       "      <td>f_clipped</td>\n",
       "      <td>0.554137</td>\n",
       "    </tr>\n",
       "  </tbody>\n",
       "</table>\n",
       "</div>"
      ],
      "text/plain": [
       "  transform_func inverse_func        r2\n",
       "0       identity     identity  0.528756\n",
       "1            log          exp -0.098357\n",
       "2            log    f_clipped  0.518923\n",
       "3           sqrt       square  0.486382\n",
       "4           sqrt    f_clipped  0.554137"
      ]
     },
     "execution_count": 259,
     "metadata": {},
     "output_type": "execute_result"
    }
   ],
   "source": [
    "def test_transformation(transformation, X_train, X_test, y_train, y_test):\n",
    "    model = TransformedTargetRegressor(LinearRegression(), \n",
    "                                       func=transformation[\"func\"], \n",
    "                                       inverse_func=transformation[\"inverse_func\"])\n",
    "    model.fit(X_train, y_train)\n",
    "    y_pred = model.predict(X_test)\n",
    "    r2 = r2_score(y_test, y_pred)\n",
    "    \n",
    "    return {\n",
    "        'transform_func': \"identity\" if  transformation[\"func\"] is None else transformation[\"func\"].__name__,\n",
    "        'inverse_func': \"identity\" if transformation[\"inverse_func\"] is None else transformation[\"inverse_func\"].__name__,\n",
    "        'r2': r2\n",
    "    }\n",
    "def test_transformations(transformations: list[dict], X_train, X_test, y_train, y_test):\n",
    "    results = pd.DataFrame([test_transformation(transformation, X_train, X_test, y_train, y_test) for transformation in transformations])\n",
    "    return results\n",
    "\n",
    "X, y = fetch_california_housing(return_X_y=True, as_frame=True)\n",
    "X = X.iloc[:, :-2]\n",
    "\n",
    "# random_state = 123213\n",
    "random_state = None\n",
    "X_train, X_test, y_train, y_test = train_test_split(X, y, test_size=0.2, random_state=random_state)\n",
    "test_transformations(target_transformations, X_train, X_test, y_train, y_test)"
   ]
  },
  {
   "cell_type": "code",
   "execution_count": null,
   "id": "8794f4c5-3736-4a70-a271-c2d5a22505fb",
   "metadata": {},
   "outputs": [],
   "source": []
  }
 ],
 "metadata": {
  "kernelspec": {
   "display_name": "Python 3 (ipykernel)",
   "language": "python",
   "name": "python3"
  },
  "language_info": {
   "codemirror_mode": {
    "name": "ipython",
    "version": 3
   },
   "file_extension": ".py",
   "mimetype": "text/x-python",
   "name": "python",
   "nbconvert_exporter": "python",
   "pygments_lexer": "ipython3",
   "version": "3.12.5"
  }
 },
 "nbformat": 4,
 "nbformat_minor": 5
}
