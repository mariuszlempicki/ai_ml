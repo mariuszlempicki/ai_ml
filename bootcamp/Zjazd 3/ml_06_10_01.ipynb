{
 "cells": [
  {
   "cell_type": "code",
   "execution_count": 1,
   "id": "c2e4ff1c-0bcc-4513-91d1-6458e7fa613a",
   "metadata": {},
   "outputs": [],
   "source": [
    "import numpy as np\n",
    "import pandas as pd\n",
    "import matplotlib.pyplot as plt\n",
    "from sklearn.model_selection import train_test_split\n",
    "from sklearn.linear_model import LinearRegression\n",
    "from sklearn.metrics import r2_score\n",
    "from sklearn.datasets import fetch_california_housing\n",
    "from sklearn.compose import TransformedTargetRegressor"
   ]
  },
  {
   "cell_type": "code",
   "execution_count": 2,
   "id": "738e7ff0-0bc1-48c4-8442-0ccc2f54fb72",
   "metadata": {},
   "outputs": [
    {
     "data": {
      "text/html": [
       "<div>\n",
       "<style scoped>\n",
       "    .dataframe tbody tr th:only-of-type {\n",
       "        vertical-align: middle;\n",
       "    }\n",
       "\n",
       "    .dataframe tbody tr th {\n",
       "        vertical-align: top;\n",
       "    }\n",
       "\n",
       "    .dataframe thead th {\n",
       "        text-align: right;\n",
       "    }\n",
       "</style>\n",
       "<table border=\"1\" class=\"dataframe\">\n",
       "  <thead>\n",
       "    <tr style=\"text-align: right;\">\n",
       "      <th></th>\n",
       "      <th>MedInc</th>\n",
       "      <th>HouseAge</th>\n",
       "      <th>AveRooms</th>\n",
       "      <th>AveBedrms</th>\n",
       "      <th>Population</th>\n",
       "      <th>AveOccup</th>\n",
       "    </tr>\n",
       "  </thead>\n",
       "  <tbody>\n",
       "    <tr>\n",
       "      <th>0</th>\n",
       "      <td>8.3252</td>\n",
       "      <td>41.0</td>\n",
       "      <td>6.984127</td>\n",
       "      <td>1.023810</td>\n",
       "      <td>322.0</td>\n",
       "      <td>2.555556</td>\n",
       "    </tr>\n",
       "    <tr>\n",
       "      <th>1</th>\n",
       "      <td>8.3014</td>\n",
       "      <td>21.0</td>\n",
       "      <td>6.238137</td>\n",
       "      <td>0.971880</td>\n",
       "      <td>2401.0</td>\n",
       "      <td>2.109842</td>\n",
       "    </tr>\n",
       "    <tr>\n",
       "      <th>2</th>\n",
       "      <td>7.2574</td>\n",
       "      <td>52.0</td>\n",
       "      <td>8.288136</td>\n",
       "      <td>1.073446</td>\n",
       "      <td>496.0</td>\n",
       "      <td>2.802260</td>\n",
       "    </tr>\n",
       "    <tr>\n",
       "      <th>3</th>\n",
       "      <td>5.6431</td>\n",
       "      <td>52.0</td>\n",
       "      <td>5.817352</td>\n",
       "      <td>1.073059</td>\n",
       "      <td>558.0</td>\n",
       "      <td>2.547945</td>\n",
       "    </tr>\n",
       "    <tr>\n",
       "      <th>4</th>\n",
       "      <td>3.8462</td>\n",
       "      <td>52.0</td>\n",
       "      <td>6.281853</td>\n",
       "      <td>1.081081</td>\n",
       "      <td>565.0</td>\n",
       "      <td>2.181467</td>\n",
       "    </tr>\n",
       "  </tbody>\n",
       "</table>\n",
       "</div>"
      ],
      "text/plain": [
       "   MedInc  HouseAge  AveRooms  AveBedrms  Population  AveOccup\n",
       "0  8.3252      41.0  6.984127   1.023810       322.0  2.555556\n",
       "1  8.3014      21.0  6.238137   0.971880      2401.0  2.109842\n",
       "2  7.2574      52.0  8.288136   1.073446       496.0  2.802260\n",
       "3  5.6431      52.0  5.817352   1.073059       558.0  2.547945\n",
       "4  3.8462      52.0  6.281853   1.081081       565.0  2.181467"
      ]
     },
     "execution_count": 2,
     "metadata": {},
     "output_type": "execute_result"
    }
   ],
   "source": [
    "X, y = fetch_california_housing(return_X_y=True, as_frame=True)\n",
    "X = X.iloc[:, :-2]\n",
    "X.head()"
   ]
  },
  {
   "cell_type": "code",
   "execution_count": null,
   "id": "6b999eae-a31c-4647-a0f3-02fd83234a7f",
   "metadata": {},
   "outputs": [],
   "source": []
  },
  {
   "cell_type": "code",
   "execution_count": 23,
   "id": "0e902263-b802-473e-b0ac-411685b80d0f",
   "metadata": {},
   "outputs": [],
   "source": [
    "def convert_to_clipped(f):\n",
    "    # print(\"-------------------\")\n",
    "    # print(\"1. run convert_to_clipped\")\n",
    "    print(f)\n",
    "    def f_clipped(x):\n",
    "        # print(\"-------------------\")\n",
    "        # print(\"2. inside f_clipped\")\n",
    "        y = f(x)\n",
    "        y_clipped = np.clip(y, MIN_PRED, MAX_PRED)\n",
    "        # print(\"-------------------\")\n",
    "        # print(\"3. return y_clipped\")\n",
    "        return y_clipped\n",
    "    # print(\"-------------------\")\n",
    "    # print(\"4. return f_clipped in convert_to_clipped\")\n",
    "    return f_clipped"
   ]
  },
  {
   "cell_type": "code",
   "execution_count": 24,
   "id": "1b616227-b32a-4503-9435-e36c549b5386",
   "metadata": {},
   "outputs": [
    {
     "name": "stdout",
     "output_type": "stream",
     "text": [
      "<function exp_clipped at 0x000002416712B7E0>\n"
     ]
    }
   ],
   "source": [
    "@convert_to_clipped\n",
    "def exp_clipped(x):\n",
    "    # print(\"******************\")\n",
    "    # print(\"1. run exp_clipped\")\n",
    "    return np.exp(x)"
   ]
  },
  {
   "cell_type": "code",
   "execution_count": 25,
   "id": "9c41c509-455a-440e-8700-198c9b98b3b3",
   "metadata": {},
   "outputs": [
    {
     "data": {
      "text/plain": [
       "[{'func': <ufunc 'log'>,\n",
       "  'inverse_func': <function __main__.convert_to_clipped.<locals>.f_clipped(x)>}]"
      ]
     },
     "execution_count": 25,
     "metadata": {},
     "output_type": "execute_result"
    }
   ],
   "source": [
    "MIN_PRED, MAX_PRED = 0, 5\n",
    "\n",
    "target_transformations = [\n",
    "    # (None, None), \n",
    "    # (np.log, np.exp),\n",
    "    # (np.log, convert_to_clipped(np.exp)),\n",
    "    # (np.sqrt, np.square), \n",
    "    # (np.sqrt, convert_to_clipped(np.square)),  \n",
    "    (np.log, exp_clipped), \n",
    "]\n",
    "\n",
    "target_transformations = [{\"func\": func, \"inverse_func\": inverse_func} for func, inverse_func in target_transformations]\n",
    "target_transformations"
   ]
  },
  {
   "cell_type": "code",
   "execution_count": 26,
   "id": "44e33bb3-d2c8-4765-96d2-473f7fcd8d5c",
   "metadata": {},
   "outputs": [],
   "source": [
    "def test_transformation(transformation, X_train, X_test, y_train, y_test):\n",
    "    model = TransformedTargetRegressor(LinearRegression(), \n",
    "                                       func=transformation[\"func\"], \n",
    "                                       inverse_func=transformation[\"inverse_func\"])\n",
    "    model.fit(X_train, y_train)\n",
    "    y_pred = model.predict(X_test)\n",
    "    r2 = r2_score(y_test, y_pred)\n",
    "    \n",
    "    return {\n",
    "        'transform_func': \"identity\" if  transformation[\"func\"] is None else transformation[\"func\"].__name__,\n",
    "        'inverse_func': \"identity\" if transformation[\"inverse_func\"] is None else transformation[\"inverse_func\"].__name__,\n",
    "        'r2': r2\n",
    "    }\n",
    "def test_transformations(transformations: list[dict], X_train, X_test, y_train, y_test):\n",
    "    results = pd.DataFrame([test_transformation(transformation, X_train, X_test, y_train, y_test) for transformation in transformations])\n",
    "    return results"
   ]
  },
  {
   "cell_type": "code",
   "execution_count": 27,
   "id": "41e509ee-e7b9-4ae0-ac17-3a08aa1a3b81",
   "metadata": {},
   "outputs": [
    {
     "name": "stderr",
     "output_type": "stream",
     "text": [
      "C:\\Users\\mlempicki\\AI_ML\\venv\\Lib\\site-packages\\sklearn\\preprocessing\\_function_transformer.py:202: UserWarning: The provided functions are not strictly inverse of each other. If you are sure you want to proceed regardless, set 'check_inverse=False'.\n",
      "  warnings.warn(\n"
     ]
    },
    {
     "data": {
      "text/html": [
       "<div>\n",
       "<style scoped>\n",
       "    .dataframe tbody tr th:only-of-type {\n",
       "        vertical-align: middle;\n",
       "    }\n",
       "\n",
       "    .dataframe tbody tr th {\n",
       "        vertical-align: top;\n",
       "    }\n",
       "\n",
       "    .dataframe thead th {\n",
       "        text-align: right;\n",
       "    }\n",
       "</style>\n",
       "<table border=\"1\" class=\"dataframe\">\n",
       "  <thead>\n",
       "    <tr style=\"text-align: right;\">\n",
       "      <th></th>\n",
       "      <th>transform_func</th>\n",
       "      <th>inverse_func</th>\n",
       "      <th>r2</th>\n",
       "    </tr>\n",
       "  </thead>\n",
       "  <tbody>\n",
       "    <tr>\n",
       "      <th>0</th>\n",
       "      <td>log</td>\n",
       "      <td>f_clipped</td>\n",
       "      <td>0.537479</td>\n",
       "    </tr>\n",
       "  </tbody>\n",
       "</table>\n",
       "</div>"
      ],
      "text/plain": [
       "  transform_func inverse_func        r2\n",
       "0            log    f_clipped  0.537479"
      ]
     },
     "execution_count": 27,
     "metadata": {},
     "output_type": "execute_result"
    }
   ],
   "source": [
    "# random_state = 123213\n",
    "random_state = None\n",
    "\n",
    "X_train, X_test, y_train, y_test = train_test_split(X, y, test_size=0.2, random_state=random_state)\n",
    "test_transformations(target_transformations, X_train, X_test, y_train, y_test)"
   ]
  },
  {
   "cell_type": "code",
   "execution_count": null,
   "id": "8a648c3c-8c88-4beb-beca-5b8f4d089505",
   "metadata": {},
   "outputs": [],
   "source": []
  },
  {
   "cell_type": "code",
   "execution_count": null,
   "id": "92b3bf92-aacd-4350-b314-bbf7945298d0",
   "metadata": {},
   "outputs": [],
   "source": []
  }
 ],
 "metadata": {
  "kernelspec": {
   "display_name": "Python 3 (ipykernel)",
   "language": "python",
   "name": "python3"
  },
  "language_info": {
   "codemirror_mode": {
    "name": "ipython",
    "version": 3
   },
   "file_extension": ".py",
   "mimetype": "text/x-python",
   "name": "python",
   "nbconvert_exporter": "python",
   "pygments_lexer": "ipython3",
   "version": "3.12.5"
  }
 },
 "nbformat": 4,
 "nbformat_minor": 5
}
