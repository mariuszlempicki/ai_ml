{
 "cells": [
  {
   "cell_type": "markdown",
   "id": "d9c29042-7fcf-4708-ae78-b438c9676396",
   "metadata": {},
   "source": [
    "Ptzetestować jedną pętlą:\n",
    "- czystą regresję liniową\n",
    "- regresję liniowąz zlogarytmowaną zmienną celu\n",
    "- pipeline z przeksztalceniem potęgowym zmiennych objaśniających (X)\n",
    "- połaczenie 2 i 3"
   ]
  },
  {
   "cell_type": "code",
   "execution_count": 14,
   "id": "08c6a047-ba91-43ae-938e-5f7ff8e1053d",
   "metadata": {},
   "outputs": [],
   "source": [
    "import numpy as np\n",
    "import pandas as pd\n",
    "import matplotlib.pyplot as plt\n",
    "from sklearn.model_selection import train_test_split\n",
    "from sklearn.linear_model import LinearRegression\n",
    "from sklearn.metrics import r2_score\n",
    "from sklearn.datasets import fetch_california_housing\n",
    "from sklearn.compose import TransformedTargetRegressor\n",
    "from sklearn.preprocessing import PowerTransformer\n",
    "from sklearn.pipeline import Pipeline\n",
    "from sklearn.preprocessing import PolynomialFeatures"
   ]
  },
  {
   "cell_type": "code",
   "execution_count": 2,
   "id": "8055cd15-efbe-4a76-a3e1-e5fa6f9dee36",
   "metadata": {},
   "outputs": [
    {
     "data": {
      "text/html": [
       "<div>\n",
       "<style scoped>\n",
       "    .dataframe tbody tr th:only-of-type {\n",
       "        vertical-align: middle;\n",
       "    }\n",
       "\n",
       "    .dataframe tbody tr th {\n",
       "        vertical-align: top;\n",
       "    }\n",
       "\n",
       "    .dataframe thead th {\n",
       "        text-align: right;\n",
       "    }\n",
       "</style>\n",
       "<table border=\"1\" class=\"dataframe\">\n",
       "  <thead>\n",
       "    <tr style=\"text-align: right;\">\n",
       "      <th></th>\n",
       "      <th>MedInc</th>\n",
       "      <th>HouseAge</th>\n",
       "      <th>AveRooms</th>\n",
       "      <th>AveBedrms</th>\n",
       "      <th>Population</th>\n",
       "      <th>AveOccup</th>\n",
       "    </tr>\n",
       "  </thead>\n",
       "  <tbody>\n",
       "    <tr>\n",
       "      <th>0</th>\n",
       "      <td>8.3252</td>\n",
       "      <td>41.0</td>\n",
       "      <td>6.984127</td>\n",
       "      <td>1.023810</td>\n",
       "      <td>322.0</td>\n",
       "      <td>2.555556</td>\n",
       "    </tr>\n",
       "    <tr>\n",
       "      <th>1</th>\n",
       "      <td>8.3014</td>\n",
       "      <td>21.0</td>\n",
       "      <td>6.238137</td>\n",
       "      <td>0.971880</td>\n",
       "      <td>2401.0</td>\n",
       "      <td>2.109842</td>\n",
       "    </tr>\n",
       "    <tr>\n",
       "      <th>2</th>\n",
       "      <td>7.2574</td>\n",
       "      <td>52.0</td>\n",
       "      <td>8.288136</td>\n",
       "      <td>1.073446</td>\n",
       "      <td>496.0</td>\n",
       "      <td>2.802260</td>\n",
       "    </tr>\n",
       "    <tr>\n",
       "      <th>3</th>\n",
       "      <td>5.6431</td>\n",
       "      <td>52.0</td>\n",
       "      <td>5.817352</td>\n",
       "      <td>1.073059</td>\n",
       "      <td>558.0</td>\n",
       "      <td>2.547945</td>\n",
       "    </tr>\n",
       "    <tr>\n",
       "      <th>4</th>\n",
       "      <td>3.8462</td>\n",
       "      <td>52.0</td>\n",
       "      <td>6.281853</td>\n",
       "      <td>1.081081</td>\n",
       "      <td>565.0</td>\n",
       "      <td>2.181467</td>\n",
       "    </tr>\n",
       "  </tbody>\n",
       "</table>\n",
       "</div>"
      ],
      "text/plain": [
       "   MedInc  HouseAge  AveRooms  AveBedrms  Population  AveOccup\n",
       "0  8.3252      41.0  6.984127   1.023810       322.0  2.555556\n",
       "1  8.3014      21.0  6.238137   0.971880      2401.0  2.109842\n",
       "2  7.2574      52.0  8.288136   1.073446       496.0  2.802260\n",
       "3  5.6431      52.0  5.817352   1.073059       558.0  2.547945\n",
       "4  3.8462      52.0  6.281853   1.081081       565.0  2.181467"
      ]
     },
     "execution_count": 2,
     "metadata": {},
     "output_type": "execute_result"
    }
   ],
   "source": [
    "X, y = fetch_california_housing(return_X_y=True, as_frame=True)\n",
    "X = X.iloc[:, :-2]\n",
    "X.head()"
   ]
  },
  {
   "cell_type": "code",
   "execution_count": 7,
   "id": "e1067165-4933-455f-8b57-9a0f0d83b2ee",
   "metadata": {},
   "outputs": [],
   "source": [
    "random_state = None\n",
    "\n",
    "X_train, X_test, y_train, y_test = train_test_split(X, y, test_size=0.2, random_state=random_state)"
   ]
  },
  {
   "cell_type": "code",
   "execution_count": 8,
   "id": "7213f45b-3f3b-45c2-af11-b5b5e3aab6fc",
   "metadata": {},
   "outputs": [],
   "source": [
    "def evaluate_pipeline(X_train, X_test, y_train, y_test, pipeline_args):\n",
    "    pipeline = Pipeline([\n",
    "        ('transformer', pipeline_args.get('transformer')),\n",
    "        ('regressor', pipeline_args.get('regressor'))\n",
    "    ])\n",
    "    pipeline.fit(X_train,y_train)\n",
    "    return r2_score(y_test, pipeline.predict(X_test))"
   ]
  },
  {
   "cell_type": "code",
   "execution_count": 9,
   "id": "369ed13b-f15f-42a8-839f-9d0568efd058",
   "metadata": {},
   "outputs": [],
   "source": [
    "experiments = {\n",
    "    'lr' : {\n",
    "        'transformer' : None,\n",
    "        'regressor' : LinearRegression()\n",
    "    },\n",
    "    'lr_log_y' : {\n",
    "        'transformer' : None,\n",
    "        'regressor' : TransformedTargetRegressor(\n",
    "            LinearRegression(),\n",
    "            func = np.log,\n",
    "            inverse_func = np.exp\n",
    "        )\n",
    "    },\n",
    "    'lr_pwr_transf_X' : {\n",
    "        'transformer' : PowerTransformer(),\n",
    "        'regressor' : LinearRegression()\n",
    "    },\n",
    "    'lr_log_y_pwr_transf_X' : {\n",
    "        'transformer' : PowerTransformer(),\n",
    "        'regressor' : TransformedTargetRegressor(\n",
    "            LinearRegression(),\n",
    "            func = np.log,\n",
    "            inverse_func = np.exp\n",
    "        )\n",
    "    }\n",
    "}"
   ]
  },
  {
   "cell_type": "code",
   "execution_count": 12,
   "id": "754ef1e3-38f1-4fa7-b0f5-1561894b1022",
   "metadata": {},
   "outputs": [],
   "source": [
    "experiments_scores = {}\n",
    "for experiment, pipeline_args in experiments.items():\n",
    "    experiments_scores[experiment] = evaluate_pipeline(\n",
    "        X_train,\n",
    "        X_test,\n",
    "        y_train,\n",
    "        y_test,\n",
    "        pipeline_args\n",
    "    )"
   ]
  },
  {
   "cell_type": "code",
   "execution_count": 13,
   "id": "8c541dd8-acaa-46c9-9593-4f169a01c40c",
   "metadata": {},
   "outputs": [
    {
     "data": {
      "text/html": [
       "<div>\n",
       "<style scoped>\n",
       "    .dataframe tbody tr th:only-of-type {\n",
       "        vertical-align: middle;\n",
       "    }\n",
       "\n",
       "    .dataframe tbody tr th {\n",
       "        vertical-align: top;\n",
       "    }\n",
       "\n",
       "    .dataframe thead th {\n",
       "        text-align: right;\n",
       "    }\n",
       "</style>\n",
       "<table border=\"1\" class=\"dataframe\">\n",
       "  <thead>\n",
       "    <tr style=\"text-align: right;\">\n",
       "      <th></th>\n",
       "      <th>r2_score</th>\n",
       "    </tr>\n",
       "  </thead>\n",
       "  <tbody>\n",
       "    <tr>\n",
       "      <th>lr</th>\n",
       "      <td>0.538602</td>\n",
       "    </tr>\n",
       "    <tr>\n",
       "      <th>lr_log_y</th>\n",
       "      <td>-0.113824</td>\n",
       "    </tr>\n",
       "    <tr>\n",
       "      <th>lr_pwr_transf_X</th>\n",
       "      <td>0.568519</td>\n",
       "    </tr>\n",
       "    <tr>\n",
       "      <th>lr_log_y_pwr_transf_X</th>\n",
       "      <td>0.605712</td>\n",
       "    </tr>\n",
       "  </tbody>\n",
       "</table>\n",
       "</div>"
      ],
      "text/plain": [
       "                       r2_score\n",
       "lr                     0.538602\n",
       "lr_log_y              -0.113824\n",
       "lr_pwr_transf_X        0.568519\n",
       "lr_log_y_pwr_transf_X  0.605712"
      ]
     },
     "execution_count": 13,
     "metadata": {},
     "output_type": "execute_result"
    }
   ],
   "source": [
    "pd.DataFrame(experiments_scores,index = ['r2_score']).T"
   ]
  },
  {
   "cell_type": "code",
   "execution_count": null,
   "id": "5a40d693-bfa8-4e8a-b973-7d27bfd8047e",
   "metadata": {},
   "outputs": [],
   "source": []
  },
  {
   "cell_type": "markdown",
   "id": "78592a21-359c-4084-8473-e4fd9c98a770",
   "metadata": {},
   "source": [
    "### ***********************************************************"
   ]
  },
  {
   "cell_type": "code",
   "execution_count": null,
   "id": "bf8be820-c209-4479-81c9-26c6c219a99e",
   "metadata": {},
   "outputs": [],
   "source": []
  },
  {
   "cell_type": "code",
   "execution_count": 15,
   "id": "52d93e11-c13d-4200-8ab9-e8dfce188559",
   "metadata": {},
   "outputs": [
    {
     "name": "stdout",
     "output_type": "stream",
     "text": [
      "r2_score(y_true=y_test, y_pred=y_pred)=0.5386023261548197\n",
      "r2_score(y_true=y_test, y_pred=y_pred)=0.3605590719280388\n",
      "r2_score(y_true=y_test, y_pred=y_pred)=0.6012032681228154\n",
      "r2_score(y_true=y_test, y_pred=y_pred)=0.5973128759650113\n"
     ]
    }
   ],
   "source": [
    "pipelines_to_test = [\n",
    "    [('model', LinearRegression())],\n",
    "    [('model', TransformedTargetRegressor(func=np.log1p, inverse_func=np.expm1))],\n",
    "    [('exp_transform', PolynomialFeatures(2)), ('model', LinearRegression())],\n",
    "    [('exp_transform', PolynomialFeatures(2)), ('model', TransformedTargetRegressor(func=np.log1p, inverse_func=np.expm1))]\n",
    "]\n",
    "\n",
    "for pipe in pipelines_to_test:\n",
    "    pipeline = Pipeline(pipe)\n",
    "    pipeline.fit(X_train, y_train)\n",
    "    y_pred = pipeline.predict(X_test)\n",
    "    print(f\"{r2_score(y_true=y_test, y_pred=y_pred)=}\")"
   ]
  },
  {
   "cell_type": "code",
   "execution_count": null,
   "id": "4aecbdec-c4c6-4310-bbc6-390345f310df",
   "metadata": {},
   "outputs": [],
   "source": []
  },
  {
   "cell_type": "markdown",
   "id": "f0c1d28d-1473-44f0-b9e8-8d1e57ea9ec5",
   "metadata": {},
   "source": [
    "### ***********************************************************"
   ]
  },
  {
   "cell_type": "code",
   "execution_count": null,
   "id": "63a2646d-801e-4e73-b5ea-15d2c125c858",
   "metadata": {},
   "outputs": [],
   "source": []
  },
  {
   "cell_type": "code",
   "execution_count": 18,
   "id": "04844c0f-8a61-4179-b7e7-a357ee9098e5",
   "metadata": {},
   "outputs": [
    {
     "data": {
      "text/html": [
       "<div>\n",
       "<style scoped>\n",
       "    .dataframe tbody tr th:only-of-type {\n",
       "        vertical-align: middle;\n",
       "    }\n",
       "\n",
       "    .dataframe tbody tr th {\n",
       "        vertical-align: top;\n",
       "    }\n",
       "\n",
       "    .dataframe thead th {\n",
       "        text-align: right;\n",
       "    }\n",
       "</style>\n",
       "<table border=\"1\" class=\"dataframe\">\n",
       "  <thead>\n",
       "    <tr style=\"text-align: right;\">\n",
       "      <th></th>\n",
       "      <th>model</th>\n",
       "      <th>r2</th>\n",
       "    </tr>\n",
       "  </thead>\n",
       "  <tbody>\n",
       "    <tr>\n",
       "      <th>0</th>\n",
       "      <td>LinearRegression()</td>\n",
       "      <td>0.546378</td>\n",
       "    </tr>\n",
       "    <tr>\n",
       "      <th>1</th>\n",
       "      <td>TransformedTargetRegressor(func=&lt;ufunc 'log1p'...</td>\n",
       "      <td>0.287420</td>\n",
       "    </tr>\n",
       "    <tr>\n",
       "      <th>2</th>\n",
       "      <td>(PowerTransformer(), LinearRegression())</td>\n",
       "      <td>0.578175</td>\n",
       "    </tr>\n",
       "    <tr>\n",
       "      <th>3</th>\n",
       "      <td>(PowerTransformer(), TransformedTargetRegresso...</td>\n",
       "      <td>0.620399</td>\n",
       "    </tr>\n",
       "  </tbody>\n",
       "</table>\n",
       "</div>"
      ],
      "text/plain": [
       "                                               model        r2\n",
       "0                                 LinearRegression()  0.546378\n",
       "1  TransformedTargetRegressor(func=<ufunc 'log1p'...  0.287420\n",
       "2           (PowerTransformer(), LinearRegression())  0.578175\n",
       "3  (PowerTransformer(), TransformedTargetRegresso...  0.620399"
      ]
     },
     "execution_count": 18,
     "metadata": {},
     "output_type": "execute_result"
    }
   ],
   "source": [
    "regressors = [\n",
    "    LinearRegression(),\n",
    "    TransformedTargetRegressor(LinearRegression(), func=np.log1p, inverse_func=np.expm1),\n",
    "    Pipeline([\n",
    "         (\"power_transformer\", PowerTransformer()),\n",
    "         (\"model\", LinearRegression())\n",
    "    ]),\n",
    "    Pipeline([\n",
    "         (\"power_transformer\", PowerTransformer()),\n",
    "         (\"model\", TransformedTargetRegressor(LinearRegression(), func=np.log1p, inverse_func=np.expm1))\n",
    "    ]),\n",
    "]\n",
    "X_train, X_test, y_train, y_test = train_test_split(X, y, test_size=0.2)\n",
    "results = []\n",
    "for regressor in regressors:\n",
    "    regressor.fit(X_train, y_train)\n",
    "    y_pred = regressor.predict(X_test)\n",
    "    results.append({\n",
    "        'model': regressor,\n",
    "        'r2': r2_score(y_test, y_pred)\n",
    "    }) \n",
    "\n",
    "pd.DataFrame(results)"
   ]
  },
  {
   "cell_type": "code",
   "execution_count": null,
   "id": "da080d16-c821-4f61-a985-ae2fb5c09dd2",
   "metadata": {},
   "outputs": [],
   "source": []
  },
  {
   "cell_type": "markdown",
   "id": "bae4501d-40ac-44f8-98b6-88680f362a0f",
   "metadata": {},
   "source": [
    "### ***********************************************************"
   ]
  },
  {
   "cell_type": "code",
   "execution_count": null,
   "id": "394a6bca-3634-4629-8e71-f16d0dbd17ae",
   "metadata": {},
   "outputs": [],
   "source": []
  },
  {
   "cell_type": "code",
   "execution_count": null,
   "id": "5b7dfda3-e464-4eec-a391-8830f4e2315d",
   "metadata": {},
   "outputs": [],
   "source": []
  },
  {
   "cell_type": "code",
   "execution_count": null,
   "id": "685ff134-589b-4432-b6dc-37d9d103b26e",
   "metadata": {},
   "outputs": [],
   "source": []
  },
  {
   "cell_type": "code",
   "execution_count": null,
   "id": "87b409e9-9d4e-4bb4-96cd-a19763d1e75c",
   "metadata": {},
   "outputs": [],
   "source": []
  }
 ],
 "metadata": {
  "kernelspec": {
   "display_name": "Python 3 (ipykernel)",
   "language": "python",
   "name": "python3"
  },
  "language_info": {
   "codemirror_mode": {
    "name": "ipython",
    "version": 3
   },
   "file_extension": ".py",
   "mimetype": "text/x-python",
   "name": "python",
   "nbconvert_exporter": "python",
   "pygments_lexer": "ipython3",
   "version": "3.12.5"
  }
 },
 "nbformat": 4,
 "nbformat_minor": 5
}
