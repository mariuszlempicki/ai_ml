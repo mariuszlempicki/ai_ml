{
 "cells": [
  {
   "cell_type": "markdown",
   "id": "77313c17-5f9a-49c0-8a24-e2bec201e6ed",
   "metadata": {},
   "source": [
    "# Numpy – sudoku"
   ]
  },
  {
   "cell_type": "markdown",
   "id": "58122c90-76ae-4379-a256-65cb923f1f07",
   "metadata": {},
   "source": [
    "## Model gry"
   ]
  },
  {
   "cell_type": "markdown",
   "id": "2f118725-cfb9-4472-bafb-1b5fcd96fc4b",
   "metadata": {},
   "source": [
    "1. Napisz klasę `Sudoku`, która będzie miała następujące atrybuty klasy:\n",
    "   - `ORDER` - określa rząd sudoku (dla klasycznego sudoku jest to 3)\n",
    "   - `VALUES` - określa zbiór cyfr, które będą wpisywane (wynika z poprzedniego atrybutu)\n",
    "   - `EMPTY_CELL_VALUE` - jest to wartość, która będzie znajdować się w pustych komórkach\n",
    "  \n",
    "Oprócz tego niech klasa posiada metodę `__init__`, która będzie posiadała opcjonalny parametr grid, do którego będzie przekazywana tablica numpy.\n",
    "\n",
    "Niech będą zdefiniowane w niej również następujące atrybuty:\n",
    "- `grid` - tablica numpy, reprezentująca sudoku. Jeżeli nie przekazano nic do parametru `grid` niech znajdzie się tam tablica wypełniona wartością `EMPTY_CELL_VALUE`\n",
    "- `initial_grid` - w przeciwieństwie do powyższego atrybutu, ten nie będzie modyfikowany\n",
    "- `insertions` - lista, w której zostaną umieszczone informacje o kolejnych wstawionych cyfrach"
   ]
  },
  {
   "cell_type": "markdown",
   "id": "01764258-3457-49f6-a59c-2d3481afa4b7",
   "metadata": {},
   "source": [
    "2. Napisz trzy metody `@property`:\n",
    "   - `rows`\n",
    "   - `columns`\n",
    "   - `boxes`\n",
    "  \n",
    "Każda z nich powinna zwracać tablicę reprezentującą:\n",
    "- listę wierszy\n",
    "- listę kolumn\n",
    "- macierz macierzy 3x3"
   ]
  },
  {
   "cell_type": "markdown",
   "id": "54d7dc32-a618-4bb2-8820-8730ebd27c33",
   "metadata": {},
   "source": [
    "3. Napisz metodę `is_empty`, która przyjmie wartość i zwróci informację, czy ta wartość oznacza puste pole w tablicy sudoku. Przez puste pole należy rozumieć `nan` lub wartość atrybutu `EMPTY_CELL_VALUE`."
   ]
  },
  {
   "cell_type": "markdown",
   "id": "d2e41eb8-331b-4990-a5bd-71126f85841e",
   "metadata": {},
   "source": [
    "4. Wklej do klasy tę metodę, która zwróci reprezentację tekstową siatki sudoku. Napisz również metodę `__repr__`, która wyświetli tę reprezentację.\n",
    "\n",
    "\n",
    "\n",
    "```python\n",
    "@property\n",
    "    def text_repr(self):\n",
    "        line_sep = \"+\" + (\"-\" * (2 * self.ORDER + 1) + \"+\") * self.ORDER + \"\\n\"\n",
    "        table = \"\"\n",
    "        for r in range(self.ORDER**2):\n",
    "            if r % self.ORDER == 0:\n",
    "                table += line_sep\n",
    "            row = \"\"\n",
    "            for c in range(self.ORDER**2):\n",
    "                if c % self.ORDER == 0:\n",
    "                    row += \"| \"\n",
    "                value = self.grid[r][c]\n",
    "                initial_value = self.initial_grid[r][c]\n",
    "                if self.is_empty(value):\n",
    "                    row += \"  \"\n",
    "                elif self.is_empty(initial_value):\n",
    "                    row += f\"{int(value):<2}\"\n",
    "                else:\n",
    "                    row += f\"\\033[31m{int(value):<2}\\033[0m\"\n",
    "            table += (row + \"|\\n\")      \n",
    "        table += line_sep\n",
    "        return table\n",
    "```"
   ]
  },
  {
   "cell_type": "code",
   "execution_count": 2,
   "id": "fba2441e-b470-4e91-9ab2-f8e42718f310",
   "metadata": {},
   "outputs": [],
   "source": [
    "import numpy as np"
   ]
  },
  {
   "cell_type": "code",
   "execution_count": 84,
   "id": "ca14f3cd-d2e6-45a3-a271-25775af9dbcf",
   "metadata": {},
   "outputs": [],
   "source": [
    "class Sudoku:\n",
    "    ORDER = 3\n",
    "    VALUES = np.array(range(1, ORDER**2 + 1))\n",
    "    EMPTY_CELL_VALUE = np.float64(np.nan)\n",
    "    \n",
    "    def __init__(self, grid=None):\n",
    "        self.grid = grid if grid is not None else np.full((self.ORDER**2, self.ORDER**2), self.EMPTY_CELL_VALUE)\n",
    "        self.INITIAL_GRID = self.grid.copy()\n",
    "        self.insertions = []\n",
    "\n",
    "    def __repr__(self):\n",
    "        return self.text_repr\n",
    "    \n",
    "    @property\n",
    "    def rows(self):\n",
    "        return self.grid\n",
    "\n",
    "    @property\n",
    "    def cols(self):\n",
    "        return self.grid.T\n",
    "\n",
    "    @property\n",
    "    def boxes(self):\n",
    "        return self.grid.reshape(self.ORDER, self.ORDER, self.ORDER, self.ORDER).transpose(0, 2, 1, 3)\n",
    "\n",
    "    def is_empty(self, value):\n",
    "        return value == self.EMPTY_CELL_VALUE or np.isnan(value)\n",
    "    \n",
    "    @property\n",
    "    def text_repr(self):\n",
    "        line_sep = \"+\" + (\"-\" * (2 * self.ORDER + 1) + \"+\") * self.ORDER + \"\\n\"\n",
    "        table = \"\"\n",
    "        for r in range(self.ORDER**2):\n",
    "            if r % self.ORDER == 0:\n",
    "                table += line_sep\n",
    "            row = \"\"\n",
    "            for c in range(self.ORDER**2):\n",
    "                if c % self.ORDER == 0:\n",
    "                    row += \"| \"\n",
    "                value = self.grid[r][c]\n",
    "                initial_value = self.INITIAL_GRID[r][c]\n",
    "                if self.is_empty(value):\n",
    "                    row += \"  \"\n",
    "                elif self.is_empty(initial_value):\n",
    "                    row += f\"{int(value):<2}\"\n",
    "                else:\n",
    "                    row += f\"\\033[31m{int(value):<2}\\033[0m\"\n",
    "            table += (row + \"|\\n\")      \n",
    "        table += line_sep\n",
    "        return table"
   ]
  },
  {
   "cell_type": "code",
   "execution_count": 75,
   "id": "6193119f-d3a6-4622-bc41-b24eb5224f1f",
   "metadata": {},
   "outputs": [],
   "source": [
    "n = np.nan\n",
    "array = np.array(\n",
    "    [[5, 2, 7, 6, 9, 3, 1, 4, 8],\n",
    "     [3, 1, 4, 5, 7, n, 6, n, n],\n",
    "     [8, n, n, 2, n, n, 3, 5, 7],\n",
    "     \n",
    "     [1, n, 3, n, n, n, n, n, n],\n",
    "     [n, 8, n, 3, 2, n, n, 7, n],\n",
    "     [n, n, n, n, n, n, 4, n, 3],\n",
    "     \n",
    "     [n, n, n, n, n, n, n, n, n],\n",
    "     [n, n, 5, n, 3, 2, 7, n, n],\n",
    "     [9, n, n, 4, 5, n, 2, 3, 6]]\n",
    ")"
   ]
  },
  {
   "cell_type": "code",
   "execution_count": 76,
   "id": "80963fdf-8382-4fe9-b76e-b6965705bf11",
   "metadata": {},
   "outputs": [
    {
     "data": {
      "text/plain": [
       "+-------+-------+-------+\n",
       "| \u001b[31m5 \u001b[0m\u001b[31m2 \u001b[0m\u001b[31m7 \u001b[0m| \u001b[31m6 \u001b[0m\u001b[31m9 \u001b[0m\u001b[31m3 \u001b[0m| \u001b[31m1 \u001b[0m\u001b[31m4 \u001b[0m\u001b[31m8 \u001b[0m|\n",
       "| \u001b[31m3 \u001b[0m\u001b[31m1 \u001b[0m\u001b[31m4 \u001b[0m| \u001b[31m5 \u001b[0m\u001b[31m7 \u001b[0m  | \u001b[31m6 \u001b[0m    |\n",
       "| \u001b[31m8 \u001b[0m    | \u001b[31m2 \u001b[0m    | \u001b[31m3 \u001b[0m\u001b[31m5 \u001b[0m\u001b[31m7 \u001b[0m|\n",
       "+-------+-------+-------+\n",
       "| \u001b[31m1 \u001b[0m  \u001b[31m3 \u001b[0m|       |       |\n",
       "|   \u001b[31m8 \u001b[0m  | \u001b[31m3 \u001b[0m\u001b[31m2 \u001b[0m  |   \u001b[31m7 \u001b[0m  |\n",
       "|       |       | \u001b[31m4 \u001b[0m  \u001b[31m3 \u001b[0m|\n",
       "+-------+-------+-------+\n",
       "|       |       |       |\n",
       "|     \u001b[31m5 \u001b[0m|   \u001b[31m3 \u001b[0m\u001b[31m2 \u001b[0m| \u001b[31m7 \u001b[0m    |\n",
       "| \u001b[31m9 \u001b[0m    | \u001b[31m4 \u001b[0m\u001b[31m5 \u001b[0m  | \u001b[31m2 \u001b[0m\u001b[31m3 \u001b[0m\u001b[31m6 \u001b[0m|\n",
       "+-------+-------+-------+"
      ]
     },
     "execution_count": 76,
     "metadata": {},
     "output_type": "execute_result"
    }
   ],
   "source": [
    "sudoku = Sudoku(array)\n",
    "sudoku"
   ]
  },
  {
   "cell_type": "code",
   "execution_count": 77,
   "id": "b589f7e1-a94d-41e3-8742-12bf94052bef",
   "metadata": {},
   "outputs": [
    {
     "data": {
      "text/plain": [
       "array([[ 5.,  2.,  7.,  6.,  9.,  3.,  1.,  4.,  8.],\n",
       "       [ 3.,  1.,  4.,  5.,  7., nan,  6., nan, nan],\n",
       "       [ 8., nan, nan,  2., nan, nan,  3.,  5.,  7.],\n",
       "       [ 1., nan,  3., nan, nan, nan, nan, nan, nan],\n",
       "       [nan,  8., nan,  3.,  2., nan, nan,  7., nan],\n",
       "       [nan, nan, nan, nan, nan, nan,  4., nan,  3.],\n",
       "       [nan, nan, nan, nan, nan, nan, nan, nan, nan],\n",
       "       [nan, nan,  5., nan,  3.,  2.,  7., nan, nan],\n",
       "       [ 9., nan, nan,  4.,  5., nan,  2.,  3.,  6.]])"
      ]
     },
     "execution_count": 77,
     "metadata": {},
     "output_type": "execute_result"
    }
   ],
   "source": [
    "sudoku.grid"
   ]
  },
  {
   "cell_type": "code",
   "execution_count": 78,
   "id": "62242a10-283c-4bcf-967b-1b3915d1f605",
   "metadata": {},
   "outputs": [
    {
     "data": {
      "text/plain": [
       "array([[ 5.,  2.,  7.,  6.,  9.,  3.,  1.,  4.,  8.],\n",
       "       [ 3.,  1.,  4.,  5.,  7., nan,  6., nan, nan],\n",
       "       [ 8., nan, nan,  2., nan, nan,  3.,  5.,  7.],\n",
       "       [ 1., nan,  3., nan, nan, nan, nan, nan, nan],\n",
       "       [nan,  8., nan,  3.,  2., nan, nan,  7., nan],\n",
       "       [nan, nan, nan, nan, nan, nan,  4., nan,  3.],\n",
       "       [nan, nan, nan, nan, nan, nan, nan, nan, nan],\n",
       "       [nan, nan,  5., nan,  3.,  2.,  7., nan, nan],\n",
       "       [ 9., nan, nan,  4.,  5., nan,  2.,  3.,  6.]])"
      ]
     },
     "execution_count": 78,
     "metadata": {},
     "output_type": "execute_result"
    }
   ],
   "source": [
    "sudoku.rows"
   ]
  },
  {
   "cell_type": "code",
   "execution_count": 79,
   "id": "a71aac93-5810-4cf0-a8de-d790ec2a7cf7",
   "metadata": {},
   "outputs": [
    {
     "data": {
      "text/plain": [
       "array([[ 5.,  3.,  8.,  1., nan, nan, nan, nan,  9.],\n",
       "       [ 2.,  1., nan, nan,  8., nan, nan, nan, nan],\n",
       "       [ 7.,  4., nan,  3., nan, nan, nan,  5., nan],\n",
       "       [ 6.,  5.,  2., nan,  3., nan, nan, nan,  4.],\n",
       "       [ 9.,  7., nan, nan,  2., nan, nan,  3.,  5.],\n",
       "       [ 3., nan, nan, nan, nan, nan, nan,  2., nan],\n",
       "       [ 1.,  6.,  3., nan, nan,  4., nan,  7.,  2.],\n",
       "       [ 4., nan,  5., nan,  7., nan, nan, nan,  3.],\n",
       "       [ 8., nan,  7., nan, nan,  3., nan, nan,  6.]])"
      ]
     },
     "execution_count": 79,
     "metadata": {},
     "output_type": "execute_result"
    }
   ],
   "source": [
    "sudoku.cols"
   ]
  },
  {
   "cell_type": "code",
   "execution_count": 80,
   "id": "c4e9e5fa-7367-4814-b9b1-f70bfbe26087",
   "metadata": {},
   "outputs": [
    {
     "data": {
      "text/plain": [
       "array([[ 5.,  2.,  7.],\n",
       "       [ 3.,  1.,  4.],\n",
       "       [ 8., nan, nan]])"
      ]
     },
     "execution_count": 80,
     "metadata": {},
     "output_type": "execute_result"
    }
   ],
   "source": [
    "sudoku.boxes[0,0]"
   ]
  },
  {
   "cell_type": "code",
   "execution_count": 81,
   "id": "0ac437b6-2b88-4a5e-b3b0-f50ee262f61f",
   "metadata": {},
   "outputs": [
    {
     "data": {
      "text/plain": [
       "np.float64(nan)"
      ]
     },
     "execution_count": 81,
     "metadata": {},
     "output_type": "execute_result"
    }
   ],
   "source": [
    "sudoku.grid[2][5]"
   ]
  },
  {
   "cell_type": "code",
   "execution_count": 82,
   "id": "fb67cd74-4034-43aa-bab3-0a2a1b54f6a7",
   "metadata": {},
   "outputs": [
    {
     "data": {
      "text/plain": [
       "np.True_"
      ]
     },
     "execution_count": 82,
     "metadata": {},
     "output_type": "execute_result"
    }
   ],
   "source": [
    "sudoku.is_empty(sudoku.grid[2][5])"
   ]
  },
  {
   "cell_type": "code",
   "execution_count": null,
   "id": "372509ca-fc17-4d0d-bbf3-7c6ad7d68b9e",
   "metadata": {},
   "outputs": [],
   "source": []
  },
  {
   "cell_type": "code",
   "execution_count": null,
   "id": "2549fe4c-e00f-426e-87f4-d6a7b8c95831",
   "metadata": {},
   "outputs": [],
   "source": []
  },
  {
   "cell_type": "code",
   "execution_count": 83,
   "id": "a9e6c1fb-47b5-4527-81c3-1a0afd578cd2",
   "metadata": {},
   "outputs": [],
   "source": [
    "# ..."
   ]
  },
  {
   "cell_type": "markdown",
   "id": "2ab554cb-b6ff-455d-973e-964e11ec60c6",
   "metadata": {},
   "source": [
    "5. Napisz i przetestuj dwie metody klasy;\n",
    "   - `from_npy`, która utworzy instancję klasy na podstawie ścieżki do pliku `.npy` który przechowuje zapisaną tablicą sudoku\n",
    "   - `from_pysudoku`, która zrobi to samo, ale na podstawie tablicy wygenerowanej przez [PySudoku](https://pypi.org/project/py-sudoku/). Parametrem tej metody powinien być poziom trudności (`difficulty`)"
   ]
  },
  {
   "cell_type": "code",
   "execution_count": 2,
   "id": "3e883783-0834-4dde-b60d-257739a0e2d3",
   "metadata": {},
   "outputs": [],
   "source": [
    "import numpy as np\n",
    "from sudoku import Sudoku as PySudoku"
   ]
  },
  {
   "cell_type": "code",
   "execution_count": 12,
   "id": "35331dc5-6041-4f5f-87fa-b697b8a98f6a",
   "metadata": {},
   "outputs": [],
   "source": [
    "class Sudoku:\n",
    "    ORDER = 3\n",
    "    VALUES = np.array(range(1, ORDER**2 + 1))\n",
    "    EMPTY_CELL_VALUE = np.float64(np.nan)\n",
    "    \n",
    "    def __init__(self, grid=None):\n",
    "        self.grid = grid if grid is not None else np.full((self.ORDER**2, self.ORDER**2), self.EMPTY_CELL_VALUE)\n",
    "        self.INITIAL_GRID = self.grid.copy()\n",
    "        self.insertions = []\n",
    "\n",
    "    def __repr__(self):\n",
    "        return self.text_repr\n",
    "\n",
    "    @classmethod\n",
    "    def from_npy(cls, file_path):\n",
    "        grid = np.load(file_path)\n",
    "        return cls(grid)\n",
    "        \n",
    "    @classmethod\n",
    "    def from_pysudoku(cls, difficulty):\n",
    "        grid = np.array(PySudoku(cls.ORDER).difficulty(difficulty).board, dtype=float)\n",
    "        return cls(grid)     \n",
    "        \n",
    "    @property\n",
    "    def rows(self):\n",
    "        return self.grid\n",
    "\n",
    "    @property\n",
    "    def cols(self):\n",
    "        return self.grid.T\n",
    "\n",
    "    @property\n",
    "    def boxes(self):\n",
    "        return self.grid.reshape(self.ORDER, self.ORDER, self.ORDER, self.ORDER).transpose(0, 2, 1, 3)\n",
    "\n",
    "    def is_empty(self, value):\n",
    "        return value == self.EMPTY_CELL_VALUE or np.isnan(value)\n",
    "    \n",
    "    @property\n",
    "    def text_repr(self):\n",
    "        line_sep = \"+\" + (\"-\" * (2 * self.ORDER + 1) + \"+\") * self.ORDER + \"\\n\"\n",
    "        table = \"\"\n",
    "        for r in range(self.ORDER**2):\n",
    "            if r % self.ORDER == 0:\n",
    "                table += line_sep\n",
    "            row = \"\"\n",
    "            for c in range(self.ORDER**2):\n",
    "                if c % self.ORDER == 0:\n",
    "                    row += \"| \"\n",
    "                value = self.grid[r][c]\n",
    "                initial_value = self.INITIAL_GRID[r][c]\n",
    "                if self.is_empty(value):\n",
    "                    row += \"  \"\n",
    "                elif self.is_empty(initial_value):\n",
    "                    row += f\"{int(value):<2}\"\n",
    "                else:\n",
    "                    row += f\"\\033[31m{int(value):<2}\\033[0m\"\n",
    "            table += (row + \"|\\n\")      \n",
    "        table += line_sep\n",
    "        return table"
   ]
  },
  {
   "cell_type": "code",
   "execution_count": null,
   "id": "bc80ef90-cd49-4c93-bed6-36b440d99b80",
   "metadata": {},
   "outputs": [],
   "source": []
  },
  {
   "cell_type": "code",
   "execution_count": 20,
   "id": "29261dc2-89bc-4aee-bd0c-b88dcc86ea41",
   "metadata": {},
   "outputs": [],
   "source": [
    "n = np.nan\n",
    "array = np.array(\n",
    "    [[5, 2, 7, 6, 9, 3, 1, 4, 8],\n",
    "     [3, 1, 4, 5, 7, n, 6, n, n],\n",
    "     [8, n, n, 2, n, n, 3, 5, 7],\n",
    "     \n",
    "     [1, n, 3, n, n, n, n, n, n],\n",
    "     [n, 8, n, 3, 2, n, n, 7, n],\n",
    "     [n, n, n, n, n, n, 4, n, 3],\n",
    "     \n",
    "     [n, n, n, n, n, n, n, n, n],\n",
    "     [n, n, 5, n, 3, 2, 7, n, n],\n",
    "     [9, n, n, 4, 5, n, 2, 3, 6]]\n",
    ")\n",
    "np.save(\"sudoku.npy\", array)"
   ]
  },
  {
   "cell_type": "code",
   "execution_count": 21,
   "id": "dd04be60-a6f2-4e86-a97f-ce8ee6b57f86",
   "metadata": {},
   "outputs": [
    {
     "data": {
      "text/plain": [
       "+-------+-------+-------+\n",
       "| \u001b[31m5 \u001b[0m\u001b[31m2 \u001b[0m\u001b[31m7 \u001b[0m| \u001b[31m6 \u001b[0m\u001b[31m9 \u001b[0m\u001b[31m3 \u001b[0m| \u001b[31m1 \u001b[0m\u001b[31m4 \u001b[0m\u001b[31m8 \u001b[0m|\n",
       "| \u001b[31m3 \u001b[0m\u001b[31m1 \u001b[0m\u001b[31m4 \u001b[0m| \u001b[31m5 \u001b[0m\u001b[31m7 \u001b[0m  | \u001b[31m6 \u001b[0m    |\n",
       "| \u001b[31m8 \u001b[0m    | \u001b[31m2 \u001b[0m    | \u001b[31m3 \u001b[0m\u001b[31m5 \u001b[0m\u001b[31m7 \u001b[0m|\n",
       "+-------+-------+-------+\n",
       "| \u001b[31m1 \u001b[0m  \u001b[31m3 \u001b[0m|       |       |\n",
       "|   \u001b[31m8 \u001b[0m  | \u001b[31m3 \u001b[0m\u001b[31m2 \u001b[0m  |   \u001b[31m7 \u001b[0m  |\n",
       "|       |       | \u001b[31m4 \u001b[0m  \u001b[31m3 \u001b[0m|\n",
       "+-------+-------+-------+\n",
       "|       |       |       |\n",
       "|     \u001b[31m5 \u001b[0m|   \u001b[31m3 \u001b[0m\u001b[31m2 \u001b[0m| \u001b[31m7 \u001b[0m    |\n",
       "| \u001b[31m9 \u001b[0m    | \u001b[31m4 \u001b[0m\u001b[31m5 \u001b[0m  | \u001b[31m2 \u001b[0m\u001b[31m3 \u001b[0m\u001b[31m6 \u001b[0m|\n",
       "+-------+-------+-------+"
      ]
     },
     "execution_count": 21,
     "metadata": {},
     "output_type": "execute_result"
    }
   ],
   "source": [
    "sudoku = Sudoku.from_npy(\"sudoku.npy\")\n",
    "sudoku"
   ]
  },
  {
   "cell_type": "code",
   "execution_count": 25,
   "id": "6898d586-c496-46b7-a19c-84d113c66b48",
   "metadata": {},
   "outputs": [
    {
     "data": {
      "text/plain": [
       "+-------+-------+-------+\n",
       "| \u001b[31m4 \u001b[0m  \u001b[31m8 \u001b[0m| \u001b[31m6 \u001b[0m\u001b[31m5 \u001b[0m\u001b[31m9 \u001b[0m|   \u001b[31m3 \u001b[0m\u001b[31m1 \u001b[0m|\n",
       "|   \u001b[31m9 \u001b[0m\u001b[31m5 \u001b[0m| \u001b[31m1 \u001b[0m\u001b[31m2 \u001b[0m  |   \u001b[31m8 \u001b[0m\u001b[31m4 \u001b[0m|\n",
       "|     \u001b[31m1 \u001b[0m|   \u001b[31m4 \u001b[0m  |   \u001b[31m9 \u001b[0m  |\n",
       "+-------+-------+-------+\n",
       "|   \u001b[31m4 \u001b[0m\u001b[31m3 \u001b[0m| \u001b[31m8 \u001b[0m  \u001b[31m1 \u001b[0m| \u001b[31m5 \u001b[0m\u001b[31m2 \u001b[0m  |\n",
       "| \u001b[31m7 \u001b[0m    |       | \u001b[31m9 \u001b[0m    |\n",
       "| \u001b[31m5 \u001b[0m\u001b[31m8 \u001b[0m\u001b[31m6 \u001b[0m| \u001b[31m4 \u001b[0m\u001b[31m9 \u001b[0m\u001b[31m2 \u001b[0m| \u001b[31m1 \u001b[0m  \u001b[31m3 \u001b[0m|\n",
       "+-------+-------+-------+\n",
       "| \u001b[31m6 \u001b[0m  \u001b[31m4 \u001b[0m|       |       |\n",
       "| \u001b[31m1 \u001b[0m  \u001b[31m9 \u001b[0m|     \u001b[31m5 \u001b[0m|   \u001b[31m6 \u001b[0m  |\n",
       "|       | \u001b[31m2 \u001b[0m\u001b[31m6 \u001b[0m  |     \u001b[31m9 \u001b[0m|\n",
       "+-------+-------+-------+"
      ]
     },
     "execution_count": 25,
     "metadata": {},
     "output_type": "execute_result"
    }
   ],
   "source": [
    "sudoku = Sudoku.from_pysudoku(0.5)\n",
    "sudoku"
   ]
  },
  {
   "cell_type": "markdown",
   "id": "1203affe-d806-42cf-8ec3-133df2b1dca7",
   "metadata": {},
   "source": [
    "6. Napisz metodę `get_box_coords`, która na podstawie współrzędnych komórki w tablicy zwróci współrzędne małego kwadratu, w którym ta komórka się znajduje. Np. dla planszy 9x9 prawdziwe będą następujące zależności\n",
    "   - `get_box_coords(1, 2) == (0, 0)`\n",
    "   - `get_box_coords(3, 7) == (1, 2)`\n",
    "   - `get_box_coords(8, 0) == (2, 0)`"
   ]
  },
  {
   "cell_type": "code",
   "execution_count": 32,
   "id": "e778a7e6-5d73-4c14-8274-67b845ba6ef7",
   "metadata": {},
   "outputs": [],
   "source": [
    "class Sudoku:\n",
    "    ORDER = 3\n",
    "    VALUES = np.array(range(1, ORDER**2 + 1))\n",
    "    EMPTY_CELL_VALUE = np.float64(np.nan)\n",
    "    \n",
    "    def __init__(self, grid=None):\n",
    "        self.grid = grid if grid is not None else np.full((self.ORDER**2, self.ORDER**2), self.EMPTY_CELL_VALUE)\n",
    "        self.INITIAL_GRID = self.grid.copy()\n",
    "        self.insertions = []\n",
    "\n",
    "    def __repr__(self):\n",
    "        return self.text_repr\n",
    "\n",
    "    @classmethod\n",
    "    def from_npy(cls, file_path = \"sudoku.npy\"):\n",
    "        grid = np.load(file_path)\n",
    "        return cls(grid)\n",
    "        \n",
    "    @classmethod\n",
    "    def from_pysudoku(cls, difficulty):\n",
    "        grid = np.array(PySudoku(cls.ORDER).difficulty(difficulty).board, dtype=float)\n",
    "        return cls(grid)\n",
    "        \n",
    "    @property\n",
    "    def rows(self):\n",
    "        return self.grid\n",
    "\n",
    "    @property\n",
    "    def cols(self):\n",
    "        return self.grid.T\n",
    "\n",
    "    @property\n",
    "    def boxes(self):\n",
    "        return self.grid.reshape(self.ORDER, self.ORDER, self.ORDER, self.ORDER).transpose(0, 2, 1, 3)\n",
    "\n",
    "    def is_empty(self, value):\n",
    "        return value == self.EMPTY_CELL_VALUE or np.isnan(value)\n",
    "    \n",
    "    @property\n",
    "    def text_repr(self):\n",
    "        line_sep = \"+\" + (\"-\" * (2 * self.ORDER + 1) + \"+\") * self.ORDER + \"\\n\"\n",
    "        table = \"\"\n",
    "        for r in range(self.ORDER**2):\n",
    "            if r % self.ORDER == 0:\n",
    "                table += line_sep\n",
    "            row = \"\"\n",
    "            for c in range(self.ORDER**2):\n",
    "                if c % self.ORDER == 0:\n",
    "                    row += \"| \"\n",
    "                value = self.grid[r][c]\n",
    "                initial_value = self.INITIAL_GRID[r][c]\n",
    "                if self.is_empty(value):\n",
    "                    row += \"  \"\n",
    "                elif self.is_empty(initial_value):\n",
    "                    row += f\"{int(value):<2}\"\n",
    "                else:\n",
    "                    row += f\"\\033[31m{int(value):<2}\\033[0m\"\n",
    "            table += (row + \"|\\n\")      \n",
    "        table += line_sep\n",
    "        return table\n",
    "\n",
    "    def get_box_coords(self, r, c):\n",
    "        return r//self.ORDER, c//self.ORDER "
   ]
  },
  {
   "cell_type": "code",
   "execution_count": 35,
   "id": "88e074ed-5eb3-44d0-a4e0-39925fafd0e5",
   "metadata": {},
   "outputs": [
    {
     "data": {
      "text/plain": [
       "+-------+-------+-------+\n",
       "| \u001b[31m5 \u001b[0m\u001b[31m2 \u001b[0m\u001b[31m7 \u001b[0m| \u001b[31m6 \u001b[0m\u001b[31m9 \u001b[0m\u001b[31m3 \u001b[0m| \u001b[31m1 \u001b[0m\u001b[31m4 \u001b[0m\u001b[31m8 \u001b[0m|\n",
       "| \u001b[31m3 \u001b[0m\u001b[31m1 \u001b[0m\u001b[31m4 \u001b[0m| \u001b[31m5 \u001b[0m\u001b[31m7 \u001b[0m  | \u001b[31m6 \u001b[0m    |\n",
       "| \u001b[31m8 \u001b[0m    | \u001b[31m2 \u001b[0m    | \u001b[31m3 \u001b[0m\u001b[31m5 \u001b[0m\u001b[31m7 \u001b[0m|\n",
       "+-------+-------+-------+\n",
       "| \u001b[31m1 \u001b[0m  \u001b[31m3 \u001b[0m|       |       |\n",
       "|   \u001b[31m8 \u001b[0m  | \u001b[31m3 \u001b[0m\u001b[31m2 \u001b[0m  |   \u001b[31m7 \u001b[0m  |\n",
       "|       |       | \u001b[31m4 \u001b[0m  \u001b[31m3 \u001b[0m|\n",
       "+-------+-------+-------+\n",
       "|       |       |       |\n",
       "|     \u001b[31m5 \u001b[0m|   \u001b[31m3 \u001b[0m\u001b[31m2 \u001b[0m| \u001b[31m7 \u001b[0m    |\n",
       "| \u001b[31m9 \u001b[0m    | \u001b[31m4 \u001b[0m\u001b[31m5 \u001b[0m  | \u001b[31m2 \u001b[0m\u001b[31m3 \u001b[0m\u001b[31m6 \u001b[0m|\n",
       "+-------+-------+-------+"
      ]
     },
     "execution_count": 35,
     "metadata": {},
     "output_type": "execute_result"
    }
   ],
   "source": [
    "sudoku = Sudoku.from_npy()\n",
    "sudoku"
   ]
  },
  {
   "cell_type": "code",
   "execution_count": 37,
   "id": "4deaf42a-62dd-48b3-bcf6-5492c09de384",
   "metadata": {},
   "outputs": [
    {
     "data": {
      "text/plain": [
       "(1, 0)"
      ]
     },
     "execution_count": 37,
     "metadata": {},
     "output_type": "execute_result"
    }
   ],
   "source": [
    "sudoku.get_box_coords(4, 0)"
   ]
  },
  {
   "cell_type": "code",
   "execution_count": 39,
   "id": "9d2e00e2-eb05-4ff6-9c3e-d8b30301e982",
   "metadata": {},
   "outputs": [
    {
     "data": {
      "text/plain": [
       "True"
      ]
     },
     "execution_count": 39,
     "metadata": {},
     "output_type": "execute_result"
    }
   ],
   "source": [
    "sudoku.get_box_coords(1, 2) == (0, 0)\n",
    "sudoku.get_box_coords(3, 7) == (1, 2)\n",
    "sudoku.get_box_coords(8, 0) == (2, 0)"
   ]
  },
  {
   "cell_type": "markdown",
   "id": "054d3dd3-7447-4078-ab44-98a014344810",
   "metadata": {},
   "source": [
    "7. Napisz metodę `__is_valid_insertion()`, która przyjmie jako argumenty:\n",
    "   - indeks wiersza\n",
    "   - indeks kolumny\n",
    "   - wartość\n",
    "  \n",
    "   i sprawdzi, czy ta wartość może zostać wpisana w danej komórce."
   ]
  },
  {
   "cell_type": "code",
   "execution_count": 44,
   "id": "24df495f-fbe6-4020-9bbe-e15a863fd471",
   "metadata": {},
   "outputs": [],
   "source": [
    "class Sudoku:\n",
    "    ORDER = 3\n",
    "    VALUES = np.array(range(1, ORDER**2 + 1))\n",
    "    EMPTY_CELL_VALUE = np.float64(np.nan)\n",
    "    \n",
    "    def __init__(self, grid=None):\n",
    "        self.grid = grid if grid is not None else np.full((self.ORDER**2, self.ORDER**2), self.EMPTY_CELL_VALUE)\n",
    "        self.INITIAL_GRID = self.grid.copy()\n",
    "        self.insertions = []\n",
    "\n",
    "    def __repr__(self):\n",
    "        return self.text_repr\n",
    "\n",
    "    @classmethod\n",
    "    def from_npy(cls, file_path = \"sudoku.npy\"):\n",
    "        grid = np.load(file_path)\n",
    "        return cls(grid)\n",
    "        \n",
    "    @classmethod\n",
    "    def from_pysudoku(cls, difficulty):\n",
    "        grid = np.array(PySudoku(cls.ORDER).difficulty(difficulty).board, dtype=float)\n",
    "        return cls(grid)\n",
    "        \n",
    "    @property\n",
    "    def rows(self):\n",
    "        return self.grid\n",
    "\n",
    "    @property\n",
    "    def cols(self):\n",
    "        return self.grid.T\n",
    "\n",
    "    @property\n",
    "    def boxes(self):\n",
    "        return self.grid.reshape(self.ORDER, self.ORDER, self.ORDER, self.ORDER).transpose(0, 2, 1, 3)\n",
    "\n",
    "    def is_empty(self, value):\n",
    "        return value == self.EMPTY_CELL_VALUE or np.isnan(value)\n",
    "    \n",
    "    @property\n",
    "    def text_repr(self):\n",
    "        line_sep = \"+\" + (\"-\" * (2 * self.ORDER + 1) + \"+\") * self.ORDER + \"\\n\"\n",
    "        table = \"\"\n",
    "        for r in range(self.ORDER**2):\n",
    "            if r % self.ORDER == 0:\n",
    "                table += line_sep\n",
    "            row = \"\"\n",
    "            for c in range(self.ORDER**2):\n",
    "                if c % self.ORDER == 0:\n",
    "                    row += \"| \"\n",
    "                value = self.grid[r][c]\n",
    "                initial_value = self.INITIAL_GRID[r][c]\n",
    "                if self.is_empty(value):\n",
    "                    row += \"  \"\n",
    "                elif self.is_empty(initial_value):\n",
    "                    row += f\"{int(value):<2}\"\n",
    "                else:\n",
    "                    row += f\"\\033[31m{int(value):<2}\\033[0m\"\n",
    "            table += (row + \"|\\n\")      \n",
    "        table += line_sep\n",
    "        return table\n",
    "\n",
    "    def get_box_coords(self, r, c):\n",
    "        return r//self.ORDER, c//self.ORDER \n",
    "\n",
    "    def __is_valid_insertion(self, r, c, value):\n",
    "        return (value not in self.rows[r]\n",
    "            and value not in self.cols[c]\n",
    "            and value not in self.boxes[*self.get_box_coords(r, c)]\n",
    "            and value in self.VALUES)"
   ]
  },
  {
   "cell_type": "code",
   "execution_count": 45,
   "id": "8772a8d4-5124-47f8-9e1b-96557f6c02a8",
   "metadata": {},
   "outputs": [
    {
     "data": {
      "text/plain": [
       "+-------+-------+-------+\n",
       "| \u001b[31m5 \u001b[0m\u001b[31m2 \u001b[0m\u001b[31m7 \u001b[0m| \u001b[31m6 \u001b[0m\u001b[31m9 \u001b[0m\u001b[31m3 \u001b[0m| \u001b[31m1 \u001b[0m\u001b[31m4 \u001b[0m\u001b[31m8 \u001b[0m|\n",
       "| \u001b[31m3 \u001b[0m\u001b[31m1 \u001b[0m\u001b[31m4 \u001b[0m| \u001b[31m5 \u001b[0m\u001b[31m7 \u001b[0m  | \u001b[31m6 \u001b[0m    |\n",
       "| \u001b[31m8 \u001b[0m    | \u001b[31m2 \u001b[0m    | \u001b[31m3 \u001b[0m\u001b[31m5 \u001b[0m\u001b[31m7 \u001b[0m|\n",
       "+-------+-------+-------+\n",
       "| \u001b[31m1 \u001b[0m  \u001b[31m3 \u001b[0m|       |       |\n",
       "|   \u001b[31m8 \u001b[0m  | \u001b[31m3 \u001b[0m\u001b[31m2 \u001b[0m  |   \u001b[31m7 \u001b[0m  |\n",
       "|       |       | \u001b[31m4 \u001b[0m  \u001b[31m3 \u001b[0m|\n",
       "+-------+-------+-------+\n",
       "|       |       |       |\n",
       "|     \u001b[31m5 \u001b[0m|   \u001b[31m3 \u001b[0m\u001b[31m2 \u001b[0m| \u001b[31m7 \u001b[0m    |\n",
       "| \u001b[31m9 \u001b[0m    | \u001b[31m4 \u001b[0m\u001b[31m5 \u001b[0m  | \u001b[31m2 \u001b[0m\u001b[31m3 \u001b[0m\u001b[31m6 \u001b[0m|\n",
       "+-------+-------+-------+"
      ]
     },
     "execution_count": 45,
     "metadata": {},
     "output_type": "execute_result"
    }
   ],
   "source": [
    "sudoku = Sudoku.from_npy()\n",
    "sudoku"
   ]
  },
  {
   "cell_type": "code",
   "execution_count": 46,
   "id": "165339b5-0ea7-4363-be0b-0d390ae31d76",
   "metadata": {},
   "outputs": [
    {
     "data": {
      "text/plain": [
       "False"
      ]
     },
     "execution_count": 46,
     "metadata": {},
     "output_type": "execute_result"
    }
   ],
   "source": [
    "sudoku._Sudoku__is_valid_insertion(1, 0, 5)"
   ]
  },
  {
   "cell_type": "code",
   "execution_count": null,
   "id": "1ce6598b-b5e3-46b1-80fe-0f429654bcb8",
   "metadata": {},
   "outputs": [],
   "source": []
  },
  {
   "cell_type": "code",
   "execution_count": null,
   "id": "0acb6b00-7c29-4845-8c9d-14b2ac960720",
   "metadata": {},
   "outputs": [],
   "source": []
  },
  {
   "cell_type": "markdown",
   "id": "a07794f7-b45c-490a-92a3-0a6dfd10bfc1",
   "metadata": {},
   "source": [
    "8. Napisz metodę `put`, która przyjmie:\n",
    "   - indeks wiersza\n",
    "   - indeks kolumny\n",
    "   - wartość\n",
    "  \n",
    "i wpisze wartość w odpowiednie miejsce jeżeli jest to dopuszczalne. Niech zaloguje również to zdarzenie do atrybutu `insertions`."
   ]
  },
  {
   "cell_type": "code",
   "execution_count": 52,
   "id": "3c61ebc9-ab3d-4284-aab9-5cb3dad886d0",
   "metadata": {},
   "outputs": [],
   "source": [
    "class Sudoku:\n",
    "    ORDER = 3\n",
    "    VALUES = np.array(range(1, ORDER**2 + 1))\n",
    "    EMPTY_CELL_VALUE = np.float64(np.nan)\n",
    "    \n",
    "    def __init__(self, grid=None):\n",
    "        self.grid = grid if grid is not None else np.full((self.ORDER**2, self.ORDER**2), self.EMPTY_CELL_VALUE)\n",
    "        self.INITIAL_GRID = self.grid.copy()\n",
    "        self.insertions = []\n",
    "\n",
    "    def __repr__(self):\n",
    "        return self.text_repr\n",
    "\n",
    "    @classmethod\n",
    "    def from_npy(cls, file_path = \"sudoku.npy\"):\n",
    "        grid = np.load(file_path)\n",
    "        return cls(grid)\n",
    "        \n",
    "    @classmethod\n",
    "    def from_pysudoku(cls, difficulty):\n",
    "        grid = np.array(PySudoku(cls.ORDER).difficulty(difficulty).board, dtype=float)\n",
    "        return cls(grid)\n",
    "        \n",
    "    @property\n",
    "    def rows(self):\n",
    "        return self.grid\n",
    "\n",
    "    @property\n",
    "    def cols(self):\n",
    "        return self.grid.T\n",
    "\n",
    "    @property\n",
    "    def boxes(self):\n",
    "        return self.grid.reshape(self.ORDER, self.ORDER, self.ORDER, self.ORDER).transpose(0, 2, 1, 3)\n",
    "\n",
    "    def is_empty(self, value):\n",
    "        return value == self.EMPTY_CELL_VALUE or np.isnan(value)\n",
    "    \n",
    "    @property\n",
    "    def text_repr(self):\n",
    "        line_sep = \"+\" + (\"-\" * (2 * self.ORDER + 1) + \"+\") * self.ORDER + \"\\n\"\n",
    "        table = \"\"\n",
    "        for r in range(self.ORDER**2):\n",
    "            if r % self.ORDER == 0:\n",
    "                table += line_sep\n",
    "            row = \"\"\n",
    "            for c in range(self.ORDER**2):\n",
    "                if c % self.ORDER == 0:\n",
    "                    row += \"| \"\n",
    "                value = self.grid[r][c]\n",
    "                initial_value = self.INITIAL_GRID[r][c]\n",
    "                if self.is_empty(value):\n",
    "                    row += \"  \"\n",
    "                elif self.is_empty(initial_value):\n",
    "                    row += f\"{int(value):<2}\"\n",
    "                else:\n",
    "                    row += f\"\\033[31m{int(value):<2}\\033[0m\"\n",
    "            table += (row + \"|\\n\")      \n",
    "        table += line_sep\n",
    "        return table\n",
    "\n",
    "    def get_box_coords(self, r, c):\n",
    "        return r//self.ORDER, c//self.ORDER \n",
    "\n",
    "    def put(self, r, c, value):\n",
    "        if self.__is_valid_insertion(r, c, value):\n",
    "            self.grid[r][c] = value\n",
    "            self.insertions.append({\n",
    "                'coordinates':(r, c),\n",
    "                'value': value\n",
    "            })\n",
    "            return True\n",
    "        return False\n",
    "            \n",
    "    def __is_valid_insertion(self, r, c, value):\n",
    "        return (\n",
    "            self.is_empty(self.grid[r][c])\n",
    "            and value not in self.rows[r]\n",
    "            and value not in self.cols[c]\n",
    "            and value not in self.boxes[*self.get_box_coords(r, c)]\n",
    "            and value in self.VALUES)"
   ]
  },
  {
   "cell_type": "code",
   "execution_count": 53,
   "id": "0714a5ae-0ffe-4312-9c27-f931dfc74445",
   "metadata": {},
   "outputs": [
    {
     "data": {
      "text/plain": [
       "+-------+-------+-------+\n",
       "| \u001b[31m5 \u001b[0m\u001b[31m2 \u001b[0m\u001b[31m7 \u001b[0m| \u001b[31m6 \u001b[0m\u001b[31m9 \u001b[0m\u001b[31m3 \u001b[0m| \u001b[31m1 \u001b[0m\u001b[31m4 \u001b[0m\u001b[31m8 \u001b[0m|\n",
       "| \u001b[31m3 \u001b[0m\u001b[31m1 \u001b[0m\u001b[31m4 \u001b[0m| \u001b[31m5 \u001b[0m\u001b[31m7 \u001b[0m  | \u001b[31m6 \u001b[0m    |\n",
       "| \u001b[31m8 \u001b[0m    | \u001b[31m2 \u001b[0m    | \u001b[31m3 \u001b[0m\u001b[31m5 \u001b[0m\u001b[31m7 \u001b[0m|\n",
       "+-------+-------+-------+\n",
       "| \u001b[31m1 \u001b[0m  \u001b[31m3 \u001b[0m|       |       |\n",
       "|   \u001b[31m8 \u001b[0m  | \u001b[31m3 \u001b[0m\u001b[31m2 \u001b[0m  |   \u001b[31m7 \u001b[0m  |\n",
       "|       |       | \u001b[31m4 \u001b[0m  \u001b[31m3 \u001b[0m|\n",
       "+-------+-------+-------+\n",
       "|       |       |       |\n",
       "|     \u001b[31m5 \u001b[0m|   \u001b[31m3 \u001b[0m\u001b[31m2 \u001b[0m| \u001b[31m7 \u001b[0m    |\n",
       "| \u001b[31m9 \u001b[0m    | \u001b[31m4 \u001b[0m\u001b[31m5 \u001b[0m  | \u001b[31m2 \u001b[0m\u001b[31m3 \u001b[0m\u001b[31m6 \u001b[0m|\n",
       "+-------+-------+-------+"
      ]
     },
     "execution_count": 53,
     "metadata": {},
     "output_type": "execute_result"
    }
   ],
   "source": [
    "sudoku = Sudoku.from_npy()\n",
    "sudoku"
   ]
  },
  {
   "cell_type": "code",
   "execution_count": 57,
   "id": "bbf23ea7-69bb-4839-93aa-a203ece4f2b2",
   "metadata": {},
   "outputs": [
    {
     "data": {
      "text/plain": [
       "True"
      ]
     },
     "execution_count": 57,
     "metadata": {},
     "output_type": "execute_result"
    }
   ],
   "source": [
    "sudoku.put(2, 1, 9)"
   ]
  },
  {
   "cell_type": "code",
   "execution_count": 58,
   "id": "a8277922-c2da-4ba0-96c0-02dc12d2432a",
   "metadata": {},
   "outputs": [
    {
     "data": {
      "text/plain": [
       "+-------+-------+-------+\n",
       "| \u001b[31m5 \u001b[0m\u001b[31m2 \u001b[0m\u001b[31m7 \u001b[0m| \u001b[31m6 \u001b[0m\u001b[31m9 \u001b[0m\u001b[31m3 \u001b[0m| \u001b[31m1 \u001b[0m\u001b[31m4 \u001b[0m\u001b[31m8 \u001b[0m|\n",
       "| \u001b[31m3 \u001b[0m\u001b[31m1 \u001b[0m\u001b[31m4 \u001b[0m| \u001b[31m5 \u001b[0m\u001b[31m7 \u001b[0m  | \u001b[31m6 \u001b[0m    |\n",
       "| \u001b[31m8 \u001b[0m9   | \u001b[31m2 \u001b[0m    | \u001b[31m3 \u001b[0m\u001b[31m5 \u001b[0m\u001b[31m7 \u001b[0m|\n",
       "+-------+-------+-------+\n",
       "| \u001b[31m1 \u001b[0m  \u001b[31m3 \u001b[0m|       |       |\n",
       "|   \u001b[31m8 \u001b[0m  | \u001b[31m3 \u001b[0m\u001b[31m2 \u001b[0m  |   \u001b[31m7 \u001b[0m  |\n",
       "|       |       | \u001b[31m4 \u001b[0m  \u001b[31m3 \u001b[0m|\n",
       "+-------+-------+-------+\n",
       "|       |       |       |\n",
       "|     \u001b[31m5 \u001b[0m|   \u001b[31m3 \u001b[0m\u001b[31m2 \u001b[0m| \u001b[31m7 \u001b[0m    |\n",
       "| \u001b[31m9 \u001b[0m    | \u001b[31m4 \u001b[0m\u001b[31m5 \u001b[0m  | \u001b[31m2 \u001b[0m\u001b[31m3 \u001b[0m\u001b[31m6 \u001b[0m|\n",
       "+-------+-------+-------+"
      ]
     },
     "execution_count": 58,
     "metadata": {},
     "output_type": "execute_result"
    }
   ],
   "source": [
    "sudoku"
   ]
  },
  {
   "cell_type": "markdown",
   "id": "c7b1704a-a8df-4488-8db7-55ad624c73cd",
   "metadata": {},
   "source": [
    "## Model solvera"
   ]
  },
  {
   "cell_type": "markdown",
   "id": "186ddccb-038c-4520-b15b-e6ca43498ecb",
   "metadata": {},
   "source": [
    "1. Stwórz klasę `SudokuSolver` wraz z funkcją `__init__`, która przyjmie jako argument instancję klasy `Sudoku` i utworzy dwa atrybuty:\n",
    "   - `sudoku` - instancja klasy `Sudoku`\n",
    "   - `iteration` - początkowo 0, ta wartość będzie oznaczała liczbę wykonanych iteracji algorytmu"
   ]
  },
  {
   "cell_type": "code",
   "execution_count": 15,
   "id": "cfb0acb6-0f29-4c73-9669-ffd6dddd9944",
   "metadata": {},
   "outputs": [],
   "source": [
    "# ..."
   ]
  },
  {
   "cell_type": "markdown",
   "id": "fdf327f6-82d4-4c14-9e96-7d8901eeae3b",
   "metadata": {},
   "source": [
    "2. Napisz metodę `find_missing_values`, która przyjmie zbiór wartości mogących pojawić się w sudoku i zwróci te wartości, których brakuje żeby skompletować cały komplet, np. 1-9."
   ]
  },
  {
   "cell_type": "code",
   "execution_count": 16,
   "id": "47859b78-372f-459d-8801-cb96d434d1c1",
   "metadata": {},
   "outputs": [],
   "source": [
    "# ..."
   ]
  },
  {
   "cell_type": "markdown",
   "id": "104c5230-f292-4178-a9d3-17baa13c4b38",
   "metadata": {},
   "source": [
    "3. Napisz `property` o nazwie `possible`, które zwróci macierz 3D, w której dla każdej komórki sudoku będzie informacja o wszystkich możliwych wartościach w danym miejscu."
   ]
  },
  {
   "cell_type": "code",
   "execution_count": 17,
   "id": "d2e5b652-9ed8-42d2-ba0d-2514b725d5ca",
   "metadata": {},
   "outputs": [],
   "source": [
    "# ..."
   ]
  },
  {
   "cell_type": "markdown",
   "id": "a0c3cd98-240c-4d18-bbdd-6405b13b8d7c",
   "metadata": {},
   "source": [
    "4. Napisz `property` o nazwie `n_possible`, które zliczy ile jest możliwych wartości w poszczególnych komórkach na podstawie `possible`."
   ]
  },
  {
   "cell_type": "code",
   "execution_count": 19,
   "id": "20db7fb5-b94d-4ba1-80d8-9974c7b671fe",
   "metadata": {},
   "outputs": [],
   "source": [
    "# ..."
   ]
  },
  {
   "cell_type": "markdown",
   "id": "c8775ba9-e06f-4973-83fb-a582105a3963",
   "metadata": {},
   "source": [
    "5. Napisz metodę `is_possible_to_fill`, która przyjmie indeksy komórki w sudoku oraz wartość i zwróci informację, czy w tym miejscu można wstawić daną wartość."
   ]
  },
  {
   "cell_type": "code",
   "execution_count": 20,
   "id": "b83dc8b7-fa7f-4e6d-a385-e53b4ebc9d83",
   "metadata": {},
   "outputs": [],
   "source": [
    "# ..."
   ]
  },
  {
   "cell_type": "markdown",
   "id": "391d308a-f1b3-46f1-8350-0bf2d91b602c",
   "metadata": {},
   "source": [
    "6. Napisz metodę `fill_unambiguous_cells`, która dla wszystkich komórek gdzie pasuje tylko jedna wartość wpisze tę wartość."
   ]
  },
  {
   "cell_type": "code",
   "execution_count": 21,
   "id": "222cb021-facc-41da-98fc-d19de60257f9",
   "metadata": {},
   "outputs": [],
   "source": [
    "# ..."
   ]
  },
  {
   "cell_type": "markdown",
   "id": "7406bb9e-bd51-49a2-ae9c-43873b55041d",
   "metadata": {},
   "source": [
    "7. Napisz metody `fill_single_row` i `fill_single_column` (lub jedną, która będzie działać uniwersalnie). Powinny one przyjmować indeks wiersza/kolumny i dla wszystkich brakujących w danym wierszu/kolumnie wartości sprawdzić jakie są możliwe położenia tej wartości. Jeżeli jest tylko jedno - wstaw ją tam."
   ]
  },
  {
   "cell_type": "code",
   "execution_count": 22,
   "id": "5f7038ef-3062-4a6d-8d4d-3251c3810c4d",
   "metadata": {},
   "outputs": [],
   "source": [
    "# ..."
   ]
  },
  {
   "cell_type": "markdown",
   "id": "1c1056f4-9d54-48fa-9f21-2c31df4c4edf",
   "metadata": {},
   "source": [
    "8. Napisz analogicznie działającą metodę `fill_single_box`, która przyjmie współrzędne małego kwadratu."
   ]
  },
  {
   "cell_type": "code",
   "execution_count": 23,
   "id": "57f70aa1-75a7-429f-a959-2e5aa502d0b0",
   "metadata": {},
   "outputs": [],
   "source": [
    "# ..."
   ]
  },
  {
   "cell_type": "markdown",
   "id": "58267d95-354d-450e-89c3-145c42f9a453",
   "metadata": {},
   "source": [
    "9. Napisz metodę `fill_all_units`, która dla wszystkich wierszy, kolumn i boxów wywoła odpowiednią metodę w celu ich wypełnienia."
   ]
  },
  {
   "cell_type": "code",
   "execution_count": 24,
   "id": "57f88583-f483-47ec-8ab7-f9095858b525",
   "metadata": {},
   "outputs": [],
   "source": [
    "# ..."
   ]
  },
  {
   "cell_type": "markdown",
   "id": "d14e932a-2864-47f0-9132-99e6edcce5c5",
   "metadata": {},
   "source": [
    "10. Napisz metodę `solve_by_methods`, która wywoła wszystkie zaimplementowane metody rozwiązywania sudoku. Aktualnie są to:\n",
    "    - `fill_unambiguous_cells`\n",
    "    - `fill_all_units`"
   ]
  },
  {
   "cell_type": "code",
   "execution_count": 25,
   "id": "7ea8db14-88c9-40bc-8c29-8c6adaed903c",
   "metadata": {},
   "outputs": [],
   "source": [
    "# ..."
   ]
  },
  {
   "cell_type": "markdown",
   "id": "9d956caf-93af-419d-a331-176851a34595",
   "metadata": {},
   "source": [
    "11. Napisz metodę `solve`, która:\n",
    "    - wykona inkrementację iteracji\n",
    "    - wywoła `solve_by_methods` sprawdzając czy przed i po tym działaniu zmniejszyła się liczba pustych pól\n",
    "    - jeśli tak - wywołaj ponownie `solve` poprzez rekurencję\n",
    "    - jeśli nie - oznacza to, że dalsze rozwiązywanie sudoku nie jest możliwe\n",
    "    - jeśli liczba pustych pól wynosi 0 - oznacza to, że sudoku zostało rozwiązane"
   ]
  },
  {
   "cell_type": "code",
   "execution_count": 26,
   "id": "3967519e-ba60-4f58-8fb3-1ddb8b4c23cd",
   "metadata": {},
   "outputs": [],
   "source": [
    "# ..."
   ]
  },
  {
   "cell_type": "code",
   "execution_count": null,
   "id": "c7427c91-b2ff-4a4f-8926-25e65323e800",
   "metadata": {},
   "outputs": [],
   "source": []
  }
 ],
 "metadata": {
  "kernelspec": {
   "display_name": "Python 3 (ipykernel)",
   "language": "python",
   "name": "python3"
  },
  "language_info": {
   "codemirror_mode": {
    "name": "ipython",
    "version": 3
   },
   "file_extension": ".py",
   "mimetype": "text/x-python",
   "name": "python",
   "nbconvert_exporter": "python",
   "pygments_lexer": "ipython3",
   "version": "3.12.5"
  }
 },
 "nbformat": 4,
 "nbformat_minor": 5
}
