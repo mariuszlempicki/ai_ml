{
 "cells": [
  {
   "cell_type": "markdown",
   "metadata": {},
   "source": [
    "# Pandas\n",
    "## Podstawowe typy danych"
   ]
  },
  {
   "cell_type": "code",
   "execution_count": 1,
   "metadata": {},
   "outputs": [],
   "source": [
    "import pandas as pd"
   ]
  },
  {
   "cell_type": "markdown",
   "metadata": {},
   "source": [
    "### Series\n",
    "\n",
    "Series, czyli szereg, jest typem danych, który można interpretować jako pojedyncza kolumna w tabeli - ma nazwę oraz listę wartości. Nazwa nie jest obowiązkowa.\n",
    "\n",
    "Dokumentacja:\n",
    "https://pandas.pydata.org/pandas-docs/stable/reference/api/pandas.Series.html"
   ]
  },
  {
   "cell_type": "code",
   "execution_count": 2,
   "metadata": {},
   "outputs": [
    {
     "data": {
      "text/plain": [
       "0    8\n",
       "1    2\n",
       "2   -3\n",
       "3    0\n",
       "4    1\n",
       "dtype: int64"
      ]
     },
     "execution_count": 2,
     "metadata": {},
     "output_type": "execute_result"
    }
   ],
   "source": [
    "my_list = [8, 2, -3, 0, 1]\n",
    "\n",
    "pd.Series(my_list)"
   ]
  },
  {
   "cell_type": "code",
   "execution_count": 3,
   "metadata": {},
   "outputs": [
    {
     "data": {
      "text/plain": [
       "pandas.core.series.Series"
      ]
     },
     "execution_count": 3,
     "metadata": {},
     "output_type": "execute_result"
    }
   ],
   "source": [
    "my_series = pd.Series(my_list)\n",
    "\n",
    "type(my_series)"
   ]
  },
  {
   "cell_type": "code",
   "execution_count": 4,
   "metadata": {},
   "outputs": [
    {
     "data": {
      "text/plain": [
       "RangeIndex(start=0, stop=5, step=1)"
      ]
     },
     "execution_count": 4,
     "metadata": {},
     "output_type": "execute_result"
    }
   ],
   "source": [
    "my_series.index"
   ]
  },
  {
   "cell_type": "code",
   "execution_count": 5,
   "metadata": {},
   "outputs": [
    {
     "data": {
      "text/plain": [
       "array([ 8,  2, -3,  0,  1])"
      ]
     },
     "execution_count": 5,
     "metadata": {},
     "output_type": "execute_result"
    }
   ],
   "source": [
    "my_series.values"
   ]
  },
  {
   "cell_type": "code",
   "execution_count": 6,
   "metadata": {},
   "outputs": [
    {
     "data": {
      "text/plain": [
       "dtype('int64')"
      ]
     },
     "execution_count": 6,
     "metadata": {},
     "output_type": "execute_result"
    }
   ],
   "source": [
    "my_series.dtype"
   ]
  },
  {
   "cell_type": "markdown",
   "metadata": {},
   "source": [
    "Indeksy szeregu można zmienić. Domyślnie są to liczby całkowite 0, 1, 2, ..."
   ]
  },
  {
   "cell_type": "code",
   "execution_count": 7,
   "metadata": {},
   "outputs": [
    {
     "data": {
      "text/plain": [
       "a    8\n",
       "b    2\n",
       "c   -3\n",
       "d    0\n",
       "e    1\n",
       "dtype: int64"
      ]
     },
     "execution_count": 7,
     "metadata": {},
     "output_type": "execute_result"
    }
   ],
   "source": [
    "index_labels = [\"a\", \"b\", \"c\", \"d\", \"e\"]\n",
    "\n",
    "pd.Series(my_list, index=index_labels)"
   ]
  },
  {
   "cell_type": "code",
   "execution_count": 8,
   "metadata": {},
   "outputs": [
    {
     "data": {
      "text/plain": [
       "Index(['a', 'b', 'c', 'd', 'e'], dtype='object')"
      ]
     },
     "execution_count": 8,
     "metadata": {},
     "output_type": "execute_result"
    }
   ],
   "source": [
    "pd.Series(my_list, index=index_labels).index"
   ]
  },
  {
   "cell_type": "markdown",
   "metadata": {},
   "source": [
    "---\n",
    "Series można utworzyć również z wektora numpy"
   ]
  },
  {
   "cell_type": "code",
   "execution_count": 9,
   "metadata": {},
   "outputs": [
    {
     "data": {
      "text/plain": [
       "0    5\n",
       "1    6\n",
       "2    7\n",
       "3    8\n",
       "4    9\n",
       "dtype: int64"
      ]
     },
     "execution_count": 9,
     "metadata": {},
     "output_type": "execute_result"
    }
   ],
   "source": [
    "import numpy as np \n",
    "array = np.array([5, 6, 7, 8, 9])\n",
    "pd.Series(array)"
   ]
  },
  {
   "cell_type": "markdown",
   "metadata": {},
   "source": [
    "Series może zawierać różne typy danych, również stringi"
   ]
  },
  {
   "cell_type": "code",
   "execution_count": 10,
   "metadata": {},
   "outputs": [
    {
     "data": {
      "text/plain": [
       "0    a\n",
       "1    b\n",
       "2    c\n",
       "3    d\n",
       "4    e\n",
       "dtype: object"
      ]
     },
     "execution_count": 10,
     "metadata": {},
     "output_type": "execute_result"
    }
   ],
   "source": [
    "pd.Series([\"a\", \"b\", \"c\", \"d\", \"e\"])"
   ]
  },
  {
   "cell_type": "markdown",
   "metadata": {},
   "source": [
    "### DataFrame"
   ]
  },
  {
   "cell_type": "markdown",
   "metadata": {},
   "source": [
    "DataFrame to typ danych, który można utożsamić z tabelą. Każda jej kolumna to odrębny Series.\n",
    "\n",
    "Dokumentacja:\n",
    "https://pandas.pydata.org/pandas-docs/stable/reference/api/pandas.DataFrame.html"
   ]
  },
  {
   "cell_type": "markdown",
   "metadata": {},
   "source": [
    "Istnieje kilka sposobów na utworzenie data frame'a. Można zrobić to na przykład na bazie słownika. Listy, które stanowią wartości słownika to kolumny a nie wiersze."
   ]
  },
  {
   "cell_type": "code",
   "execution_count": 11,
   "metadata": {},
   "outputs": [
    {
     "data": {
      "text/html": [
       "<div>\n",
       "<style scoped>\n",
       "    .dataframe tbody tr th:only-of-type {\n",
       "        vertical-align: middle;\n",
       "    }\n",
       "\n",
       "    .dataframe tbody tr th {\n",
       "        vertical-align: top;\n",
       "    }\n",
       "\n",
       "    .dataframe thead th {\n",
       "        text-align: right;\n",
       "    }\n",
       "</style>\n",
       "<table border=\"1\" class=\"dataframe\">\n",
       "  <thead>\n",
       "    <tr style=\"text-align: right;\">\n",
       "      <th></th>\n",
       "      <th>a</th>\n",
       "      <th>b</th>\n",
       "    </tr>\n",
       "  </thead>\n",
       "  <tbody>\n",
       "    <tr>\n",
       "      <th>0</th>\n",
       "      <td>12</td>\n",
       "      <td>45</td>\n",
       "    </tr>\n",
       "    <tr>\n",
       "      <th>1</th>\n",
       "      <td>23</td>\n",
       "      <td>56</td>\n",
       "    </tr>\n",
       "    <tr>\n",
       "      <th>2</th>\n",
       "      <td>34</td>\n",
       "      <td>67</td>\n",
       "    </tr>\n",
       "  </tbody>\n",
       "</table>\n",
       "</div>"
      ],
      "text/plain": [
       "    a   b\n",
       "0  12  45\n",
       "1  23  56\n",
       "2  34  67"
      ]
     },
     "execution_count": 11,
     "metadata": {},
     "output_type": "execute_result"
    }
   ],
   "source": [
    "my_dict = {\"a\": [12, 23, 34], \"b\": [45, 56, 67]}\n",
    "\n",
    "my_df = pd.DataFrame(my_dict)\n",
    "my_df"
   ]
  },
  {
   "cell_type": "code",
   "execution_count": 12,
   "metadata": {},
   "outputs": [
    {
     "data": {
      "text/plain": [
       "pandas.core.frame.DataFrame"
      ]
     },
     "execution_count": 12,
     "metadata": {},
     "output_type": "execute_result"
    }
   ],
   "source": [
    "type(my_df)"
   ]
  },
  {
   "cell_type": "markdown",
   "metadata": {},
   "source": [
    "Możemy również zdefiniować indeks df-a (analogicznie jak dla series)"
   ]
  },
  {
   "cell_type": "code",
   "execution_count": 13,
   "metadata": {},
   "outputs": [
    {
     "data": {
      "text/html": [
       "<div>\n",
       "<style scoped>\n",
       "    .dataframe tbody tr th:only-of-type {\n",
       "        vertical-align: middle;\n",
       "    }\n",
       "\n",
       "    .dataframe tbody tr th {\n",
       "        vertical-align: top;\n",
       "    }\n",
       "\n",
       "    .dataframe thead th {\n",
       "        text-align: right;\n",
       "    }\n",
       "</style>\n",
       "<table border=\"1\" class=\"dataframe\">\n",
       "  <thead>\n",
       "    <tr style=\"text-align: right;\">\n",
       "      <th></th>\n",
       "      <th>a</th>\n",
       "      <th>b</th>\n",
       "    </tr>\n",
       "  </thead>\n",
       "  <tbody>\n",
       "    <tr>\n",
       "      <th>1</th>\n",
       "      <td>12</td>\n",
       "      <td>45</td>\n",
       "    </tr>\n",
       "    <tr>\n",
       "      <th>2</th>\n",
       "      <td>23</td>\n",
       "      <td>56</td>\n",
       "    </tr>\n",
       "    <tr>\n",
       "      <th>3</th>\n",
       "      <td>34</td>\n",
       "      <td>67</td>\n",
       "    </tr>\n",
       "  </tbody>\n",
       "</table>\n",
       "</div>"
      ],
      "text/plain": [
       "    a   b\n",
       "1  12  45\n",
       "2  23  56\n",
       "3  34  67"
      ]
     },
     "execution_count": 13,
     "metadata": {},
     "output_type": "execute_result"
    }
   ],
   "source": [
    "my_df = pd.DataFrame(my_dict, index=[1, 2, 3])\n",
    "my_df"
   ]
  },
  {
   "cell_type": "code",
   "execution_count": 14,
   "metadata": {},
   "outputs": [
    {
     "data": {
      "text/plain": [
       "Index([1, 2, 3], dtype='int64')"
      ]
     },
     "execution_count": 14,
     "metadata": {},
     "output_type": "execute_result"
    }
   ],
   "source": [
    "my_df.index"
   ]
  },
  {
   "cell_type": "code",
   "execution_count": 15,
   "metadata": {},
   "outputs": [
    {
     "data": {
      "text/plain": [
       "array([[12, 45],\n",
       "       [23, 56],\n",
       "       [34, 67]])"
      ]
     },
     "execution_count": 15,
     "metadata": {},
     "output_type": "execute_result"
    }
   ],
   "source": [
    "my_df.values"
   ]
  },
  {
   "cell_type": "markdown",
   "metadata": {},
   "source": [
    "---"
   ]
  },
  {
   "cell_type": "markdown",
   "metadata": {},
   "source": [
    "Typ DataFrame jest najczęściej wykorzystywany do analizy danych tabelarycznych. Jeśli chcemy analizować takie dane to zwykle mamy je dostarczone, np. w pliku o rozszerzeniu .csv (comma separated values). Wykorzystajmy dołączony plik .csv żeby utworzyć DataFrame"
   ]
  },
  {
   "cell_type": "code",
   "execution_count": 16,
   "metadata": {},
   "outputs": [],
   "source": [
    "df = pd.read_csv(\"data/cars.csv\")   # więcej info w dokumentacji --> https://pandas.pydata.org/docs/reference/api/pandas.read_csv.html"
   ]
  },
  {
   "cell_type": "code",
   "execution_count": 17,
   "metadata": {},
   "outputs": [
    {
     "data": {
      "text/html": [
       "<div>\n",
       "<style scoped>\n",
       "    .dataframe tbody tr th:only-of-type {\n",
       "        vertical-align: middle;\n",
       "    }\n",
       "\n",
       "    .dataframe tbody tr th {\n",
       "        vertical-align: top;\n",
       "    }\n",
       "\n",
       "    .dataframe thead th {\n",
       "        text-align: right;\n",
       "    }\n",
       "</style>\n",
       "<table border=\"1\" class=\"dataframe\">\n",
       "  <thead>\n",
       "    <tr style=\"text-align: right;\">\n",
       "      <th></th>\n",
       "      <th>price</th>\n",
       "      <th>currency</th>\n",
       "      <th>brand</th>\n",
       "      <th>body</th>\n",
       "      <th>engine_vol</th>\n",
       "      <th>fuel</th>\n",
       "      <th>drive</th>\n",
       "      <th>power</th>\n",
       "      <th>gearbox_is_manual</th>\n",
       "      <th>prod_year</th>\n",
       "      <th>orig_country</th>\n",
       "      <th>mileage</th>\n",
       "      <th>color</th>\n",
       "      <th>title</th>\n",
       "      <th>offer_timestamp</th>\n",
       "    </tr>\n",
       "  </thead>\n",
       "  <tbody>\n",
       "    <tr>\n",
       "      <th>0</th>\n",
       "      <td>32900</td>\n",
       "      <td>PLN</td>\n",
       "      <td>Škoda</td>\n",
       "      <td>Sedan</td>\n",
       "      <td>1598.0</td>\n",
       "      <td>Diesel</td>\n",
       "      <td>Przód</td>\n",
       "      <td>115.0</td>\n",
       "      <td>True</td>\n",
       "      <td>2017</td>\n",
       "      <td>Polska</td>\n",
       "      <td>175000.0</td>\n",
       "      <td>Srebrny</td>\n",
       "      <td>Škoda RAPID</td>\n",
       "      <td>2021-02-28 12:53:00</td>\n",
       "    </tr>\n",
       "    <tr>\n",
       "      <th>1</th>\n",
       "      <td>32500</td>\n",
       "      <td>PLN</td>\n",
       "      <td>BMW</td>\n",
       "      <td>Kompakt</td>\n",
       "      <td>1598.0</td>\n",
       "      <td>Diesel</td>\n",
       "      <td>Tył</td>\n",
       "      <td>116.0</td>\n",
       "      <td>True</td>\n",
       "      <td>2012</td>\n",
       "      <td>NaN</td>\n",
       "      <td>228000.0</td>\n",
       "      <td>Biały</td>\n",
       "      <td>BMW Seria 1 116d</td>\n",
       "      <td>2021-02-28 12:52:00</td>\n",
       "    </tr>\n",
       "    <tr>\n",
       "      <th>2</th>\n",
       "      <td>7900</td>\n",
       "      <td>PLN</td>\n",
       "      <td>Fiat</td>\n",
       "      <td>Auta małe</td>\n",
       "      <td>1242.0</td>\n",
       "      <td>Benzyna</td>\n",
       "      <td>Przód</td>\n",
       "      <td>69.0</td>\n",
       "      <td>True</td>\n",
       "      <td>2012</td>\n",
       "      <td>Polska</td>\n",
       "      <td>2610000.0</td>\n",
       "      <td>Szary</td>\n",
       "      <td>Fiat Panda 1.2</td>\n",
       "      <td>2021-02-28 12:50:00</td>\n",
       "    </tr>\n",
       "    <tr>\n",
       "      <th>3</th>\n",
       "      <td>39990</td>\n",
       "      <td>PLN</td>\n",
       "      <td>Kia</td>\n",
       "      <td>SUV</td>\n",
       "      <td>1685.0</td>\n",
       "      <td>Diesel</td>\n",
       "      <td>Przód</td>\n",
       "      <td>115.0</td>\n",
       "      <td>True</td>\n",
       "      <td>2012</td>\n",
       "      <td>Niemcy</td>\n",
       "      <td>138123.0</td>\n",
       "      <td>Szary</td>\n",
       "      <td>Kia Sportage 1.7</td>\n",
       "      <td>2021-02-28 12:57:00</td>\n",
       "    </tr>\n",
       "    <tr>\n",
       "      <th>4</th>\n",
       "      <td>42900</td>\n",
       "      <td>PLN</td>\n",
       "      <td>Kia</td>\n",
       "      <td>SUV</td>\n",
       "      <td>1685.0</td>\n",
       "      <td>Diesel</td>\n",
       "      <td>Przód</td>\n",
       "      <td>115.0</td>\n",
       "      <td>True</td>\n",
       "      <td>2012</td>\n",
       "      <td>NaN</td>\n",
       "      <td>175962.0</td>\n",
       "      <td>Biały</td>\n",
       "      <td>Kia Sportage</td>\n",
       "      <td>2021-02-28 12:50:00</td>\n",
       "    </tr>\n",
       "  </tbody>\n",
       "</table>\n",
       "</div>"
      ],
      "text/plain": [
       "   price currency  brand       body  engine_vol     fuel  drive  power  \\\n",
       "0  32900      PLN  Škoda      Sedan      1598.0   Diesel  Przód  115.0   \n",
       "1  32500      PLN    BMW    Kompakt      1598.0   Diesel    Tył  116.0   \n",
       "2   7900      PLN   Fiat  Auta małe      1242.0  Benzyna  Przód   69.0   \n",
       "3  39990      PLN    Kia        SUV      1685.0   Diesel  Przód  115.0   \n",
       "4  42900      PLN    Kia        SUV      1685.0   Diesel  Przód  115.0   \n",
       "\n",
       "  gearbox_is_manual  prod_year orig_country    mileage    color  \\\n",
       "0              True       2017       Polska   175000.0  Srebrny   \n",
       "1              True       2012          NaN   228000.0    Biały   \n",
       "2              True       2012       Polska  2610000.0    Szary   \n",
       "3              True       2012       Niemcy   138123.0    Szary   \n",
       "4              True       2012          NaN   175962.0    Biały   \n",
       "\n",
       "              title      offer_timestamp  \n",
       "0       Škoda RAPID  2021-02-28 12:53:00  \n",
       "1  BMW Seria 1 116d  2021-02-28 12:52:00  \n",
       "2    Fiat Panda 1.2  2021-02-28 12:50:00  \n",
       "3  Kia Sportage 1.7  2021-02-28 12:57:00  \n",
       "4      Kia Sportage  2021-02-28 12:50:00  "
      ]
     },
     "execution_count": 17,
     "metadata": {},
     "output_type": "execute_result"
    }
   ],
   "source": [
    "df.head()"
   ]
  },
  {
   "cell_type": "code",
   "execution_count": 18,
   "metadata": {},
   "outputs": [
    {
     "data": {
      "text/html": [
       "<div>\n",
       "<style scoped>\n",
       "    .dataframe tbody tr th:only-of-type {\n",
       "        vertical-align: middle;\n",
       "    }\n",
       "\n",
       "    .dataframe tbody tr th {\n",
       "        vertical-align: top;\n",
       "    }\n",
       "\n",
       "    .dataframe thead th {\n",
       "        text-align: right;\n",
       "    }\n",
       "</style>\n",
       "<table border=\"1\" class=\"dataframe\">\n",
       "  <thead>\n",
       "    <tr style=\"text-align: right;\">\n",
       "      <th></th>\n",
       "      <th>price</th>\n",
       "      <th>currency</th>\n",
       "      <th>brand</th>\n",
       "      <th>body</th>\n",
       "      <th>engine_vol</th>\n",
       "      <th>fuel</th>\n",
       "      <th>drive</th>\n",
       "      <th>power</th>\n",
       "      <th>gearbox_is_manual</th>\n",
       "      <th>prod_year</th>\n",
       "      <th>orig_country</th>\n",
       "      <th>mileage</th>\n",
       "      <th>color</th>\n",
       "      <th>title</th>\n",
       "      <th>offer_timestamp</th>\n",
       "    </tr>\n",
       "  </thead>\n",
       "  <tbody>\n",
       "    <tr>\n",
       "      <th>0</th>\n",
       "      <td>32900</td>\n",
       "      <td>PLN</td>\n",
       "      <td>Škoda</td>\n",
       "      <td>Sedan</td>\n",
       "      <td>1598.0</td>\n",
       "      <td>Diesel</td>\n",
       "      <td>Przód</td>\n",
       "      <td>115.0</td>\n",
       "      <td>True</td>\n",
       "      <td>2017</td>\n",
       "      <td>Polska</td>\n",
       "      <td>175000.0</td>\n",
       "      <td>Srebrny</td>\n",
       "      <td>Škoda RAPID</td>\n",
       "      <td>2021-02-28 12:53:00</td>\n",
       "    </tr>\n",
       "    <tr>\n",
       "      <th>1</th>\n",
       "      <td>32500</td>\n",
       "      <td>PLN</td>\n",
       "      <td>BMW</td>\n",
       "      <td>Kompakt</td>\n",
       "      <td>1598.0</td>\n",
       "      <td>Diesel</td>\n",
       "      <td>Tył</td>\n",
       "      <td>116.0</td>\n",
       "      <td>True</td>\n",
       "      <td>2012</td>\n",
       "      <td>NaN</td>\n",
       "      <td>228000.0</td>\n",
       "      <td>Biały</td>\n",
       "      <td>BMW Seria 1 116d</td>\n",
       "      <td>2021-02-28 12:52:00</td>\n",
       "    </tr>\n",
       "    <tr>\n",
       "      <th>2</th>\n",
       "      <td>7900</td>\n",
       "      <td>PLN</td>\n",
       "      <td>Fiat</td>\n",
       "      <td>Auta małe</td>\n",
       "      <td>1242.0</td>\n",
       "      <td>Benzyna</td>\n",
       "      <td>Przód</td>\n",
       "      <td>69.0</td>\n",
       "      <td>True</td>\n",
       "      <td>2012</td>\n",
       "      <td>Polska</td>\n",
       "      <td>2610000.0</td>\n",
       "      <td>Szary</td>\n",
       "      <td>Fiat Panda 1.2</td>\n",
       "      <td>2021-02-28 12:50:00</td>\n",
       "    </tr>\n",
       "    <tr>\n",
       "      <th>3</th>\n",
       "      <td>39990</td>\n",
       "      <td>PLN</td>\n",
       "      <td>Kia</td>\n",
       "      <td>SUV</td>\n",
       "      <td>1685.0</td>\n",
       "      <td>Diesel</td>\n",
       "      <td>Przód</td>\n",
       "      <td>115.0</td>\n",
       "      <td>True</td>\n",
       "      <td>2012</td>\n",
       "      <td>Niemcy</td>\n",
       "      <td>138123.0</td>\n",
       "      <td>Szary</td>\n",
       "      <td>Kia Sportage 1.7</td>\n",
       "      <td>2021-02-28 12:57:00</td>\n",
       "    </tr>\n",
       "    <tr>\n",
       "      <th>4</th>\n",
       "      <td>42900</td>\n",
       "      <td>PLN</td>\n",
       "      <td>Kia</td>\n",
       "      <td>SUV</td>\n",
       "      <td>1685.0</td>\n",
       "      <td>Diesel</td>\n",
       "      <td>Przód</td>\n",
       "      <td>115.0</td>\n",
       "      <td>True</td>\n",
       "      <td>2012</td>\n",
       "      <td>NaN</td>\n",
       "      <td>175962.0</td>\n",
       "      <td>Biały</td>\n",
       "      <td>Kia Sportage</td>\n",
       "      <td>2021-02-28 12:50:00</td>\n",
       "    </tr>\n",
       "    <tr>\n",
       "      <th>5</th>\n",
       "      <td>19400</td>\n",
       "      <td>PLN</td>\n",
       "      <td>BMW</td>\n",
       "      <td>Kombi</td>\n",
       "      <td>2497.0</td>\n",
       "      <td>Benzyna+LPG</td>\n",
       "      <td>Tył</td>\n",
       "      <td>177.0</td>\n",
       "      <td>True</td>\n",
       "      <td>2005</td>\n",
       "      <td>Niemcy</td>\n",
       "      <td>274000.0</td>\n",
       "      <td>Czarny</td>\n",
       "      <td>BMW Seria 5 523i</td>\n",
       "      <td>2021-02-28 12:52:00</td>\n",
       "    </tr>\n",
       "    <tr>\n",
       "      <th>6</th>\n",
       "      <td>106600</td>\n",
       "      <td>PLN</td>\n",
       "      <td>Renault</td>\n",
       "      <td>SUV</td>\n",
       "      <td>1332.0</td>\n",
       "      <td>Benzyna</td>\n",
       "      <td>Przód</td>\n",
       "      <td>140.0</td>\n",
       "      <td>False</td>\n",
       "      <td>2020</td>\n",
       "      <td>Polska</td>\n",
       "      <td>7.0</td>\n",
       "      <td>Szary</td>\n",
       "      <td>Renault Kadjar 1.3</td>\n",
       "      <td>2021-02-28 12:56:00</td>\n",
       "    </tr>\n",
       "  </tbody>\n",
       "</table>\n",
       "</div>"
      ],
      "text/plain": [
       "    price currency    brand       body  engine_vol         fuel  drive  power  \\\n",
       "0   32900      PLN    Škoda      Sedan      1598.0       Diesel  Przód  115.0   \n",
       "1   32500      PLN      BMW    Kompakt      1598.0       Diesel    Tył  116.0   \n",
       "2    7900      PLN     Fiat  Auta małe      1242.0      Benzyna  Przód   69.0   \n",
       "3   39990      PLN      Kia        SUV      1685.0       Diesel  Przód  115.0   \n",
       "4   42900      PLN      Kia        SUV      1685.0       Diesel  Przód  115.0   \n",
       "5   19400      PLN      BMW      Kombi      2497.0  Benzyna+LPG    Tył  177.0   \n",
       "6  106600      PLN  Renault        SUV      1332.0      Benzyna  Przód  140.0   \n",
       "\n",
       "  gearbox_is_manual  prod_year orig_country    mileage    color  \\\n",
       "0              True       2017       Polska   175000.0  Srebrny   \n",
       "1              True       2012          NaN   228000.0    Biały   \n",
       "2              True       2012       Polska  2610000.0    Szary   \n",
       "3              True       2012       Niemcy   138123.0    Szary   \n",
       "4              True       2012          NaN   175962.0    Biały   \n",
       "5              True       2005       Niemcy   274000.0   Czarny   \n",
       "6             False       2020       Polska        7.0    Szary   \n",
       "\n",
       "                title      offer_timestamp  \n",
       "0         Škoda RAPID  2021-02-28 12:53:00  \n",
       "1    BMW Seria 1 116d  2021-02-28 12:52:00  \n",
       "2      Fiat Panda 1.2  2021-02-28 12:50:00  \n",
       "3    Kia Sportage 1.7  2021-02-28 12:57:00  \n",
       "4        Kia Sportage  2021-02-28 12:50:00  \n",
       "5    BMW Seria 5 523i  2021-02-28 12:52:00  \n",
       "6  Renault Kadjar 1.3  2021-02-28 12:56:00  "
      ]
     },
     "execution_count": 18,
     "metadata": {},
     "output_type": "execute_result"
    }
   ],
   "source": [
    "df.head(7)"
   ]
  },
  {
   "cell_type": "code",
   "execution_count": 19,
   "metadata": {},
   "outputs": [
    {
     "data": {
      "text/html": [
       "<div>\n",
       "<style scoped>\n",
       "    .dataframe tbody tr th:only-of-type {\n",
       "        vertical-align: middle;\n",
       "    }\n",
       "\n",
       "    .dataframe tbody tr th {\n",
       "        vertical-align: top;\n",
       "    }\n",
       "\n",
       "    .dataframe thead th {\n",
       "        text-align: right;\n",
       "    }\n",
       "</style>\n",
       "<table border=\"1\" class=\"dataframe\">\n",
       "  <thead>\n",
       "    <tr style=\"text-align: right;\">\n",
       "      <th></th>\n",
       "      <th>price</th>\n",
       "      <th>currency</th>\n",
       "      <th>brand</th>\n",
       "      <th>body</th>\n",
       "      <th>engine_vol</th>\n",
       "      <th>fuel</th>\n",
       "      <th>drive</th>\n",
       "      <th>power</th>\n",
       "      <th>gearbox_is_manual</th>\n",
       "      <th>prod_year</th>\n",
       "      <th>orig_country</th>\n",
       "      <th>mileage</th>\n",
       "      <th>color</th>\n",
       "      <th>title</th>\n",
       "      <th>offer_timestamp</th>\n",
       "    </tr>\n",
       "  </thead>\n",
       "  <tbody>\n",
       "    <tr>\n",
       "      <th>99995</th>\n",
       "      <td>83990</td>\n",
       "      <td>PLN</td>\n",
       "      <td>Ford</td>\n",
       "      <td>Kombi</td>\n",
       "      <td>1499.0</td>\n",
       "      <td>Diesel</td>\n",
       "      <td>Przód</td>\n",
       "      <td>120.0</td>\n",
       "      <td>True</td>\n",
       "      <td>2020</td>\n",
       "      <td>NaN</td>\n",
       "      <td>5.0</td>\n",
       "      <td>Srebrny</td>\n",
       "      <td>Ford Focus</td>\n",
       "      <td>2021-04-21 14:58:00</td>\n",
       "    </tr>\n",
       "    <tr>\n",
       "      <th>99996</th>\n",
       "      <td>7400</td>\n",
       "      <td>PLN</td>\n",
       "      <td>Audi</td>\n",
       "      <td>Kombi</td>\n",
       "      <td>1781.0</td>\n",
       "      <td>Benzyna</td>\n",
       "      <td>Przód</td>\n",
       "      <td>125.0</td>\n",
       "      <td>True</td>\n",
       "      <td>1999</td>\n",
       "      <td>Niemcy</td>\n",
       "      <td>259000.0</td>\n",
       "      <td>Niebieski</td>\n",
       "      <td>Audi A4 Avant</td>\n",
       "      <td>2021-04-21 19:45:00</td>\n",
       "    </tr>\n",
       "    <tr>\n",
       "      <th>99997</th>\n",
       "      <td>30000</td>\n",
       "      <td>PLN</td>\n",
       "      <td>BMW</td>\n",
       "      <td>Sedan</td>\n",
       "      <td>3901.0</td>\n",
       "      <td>Diesel</td>\n",
       "      <td>Tył</td>\n",
       "      <td>245.0</td>\n",
       "      <td>False</td>\n",
       "      <td>1999</td>\n",
       "      <td>NaN</td>\n",
       "      <td>307000.0</td>\n",
       "      <td>Inny kolor</td>\n",
       "      <td>BMW Seria 7 740d</td>\n",
       "      <td>2021-04-21 15:53:00</td>\n",
       "    </tr>\n",
       "    <tr>\n",
       "      <th>99998</th>\n",
       "      <td>69000</td>\n",
       "      <td>PLN</td>\n",
       "      <td>Peugeot</td>\n",
       "      <td>Auta małe</td>\n",
       "      <td>1199.0</td>\n",
       "      <td>Benzyna</td>\n",
       "      <td>Przód</td>\n",
       "      <td>101.0</td>\n",
       "      <td>True</td>\n",
       "      <td>2020</td>\n",
       "      <td>NaN</td>\n",
       "      <td>1000.0</td>\n",
       "      <td>Biały</td>\n",
       "      <td>Peugeot 208 PureTech</td>\n",
       "      <td>2021-04-21 13:42:00</td>\n",
       "    </tr>\n",
       "    <tr>\n",
       "      <th>99999</th>\n",
       "      <td>18000</td>\n",
       "      <td>PLN</td>\n",
       "      <td>Volkswagen</td>\n",
       "      <td>Sedan</td>\n",
       "      <td>1390.0</td>\n",
       "      <td>Benzyna</td>\n",
       "      <td>Przód</td>\n",
       "      <td>140.0</td>\n",
       "      <td>True</td>\n",
       "      <td>2007</td>\n",
       "      <td>Szwajcaria</td>\n",
       "      <td>165600.0</td>\n",
       "      <td>Szary</td>\n",
       "      <td>Volkswagen Touran 1.4</td>\n",
       "      <td>2021-04-21 13:03:00</td>\n",
       "    </tr>\n",
       "  </tbody>\n",
       "</table>\n",
       "</div>"
      ],
      "text/plain": [
       "       price currency       brand       body  engine_vol     fuel  drive  \\\n",
       "99995  83990      PLN        Ford      Kombi      1499.0   Diesel  Przód   \n",
       "99996   7400      PLN        Audi      Kombi      1781.0  Benzyna  Przód   \n",
       "99997  30000      PLN         BMW      Sedan      3901.0   Diesel    Tył   \n",
       "99998  69000      PLN     Peugeot  Auta małe      1199.0  Benzyna  Przód   \n",
       "99999  18000      PLN  Volkswagen      Sedan      1390.0  Benzyna  Przód   \n",
       "\n",
       "       power gearbox_is_manual  prod_year orig_country   mileage       color  \\\n",
       "99995  120.0              True       2020          NaN       5.0     Srebrny   \n",
       "99996  125.0              True       1999       Niemcy  259000.0   Niebieski   \n",
       "99997  245.0             False       1999          NaN  307000.0  Inny kolor   \n",
       "99998  101.0              True       2020          NaN    1000.0       Biały   \n",
       "99999  140.0              True       2007   Szwajcaria  165600.0       Szary   \n",
       "\n",
       "                       title      offer_timestamp  \n",
       "99995             Ford Focus  2021-04-21 14:58:00  \n",
       "99996          Audi A4 Avant  2021-04-21 19:45:00  \n",
       "99997       BMW Seria 7 740d  2021-04-21 15:53:00  \n",
       "99998   Peugeot 208 PureTech  2021-04-21 13:42:00  \n",
       "99999  Volkswagen Touran 1.4  2021-04-21 13:03:00  "
      ]
     },
     "execution_count": 19,
     "metadata": {},
     "output_type": "execute_result"
    }
   ],
   "source": [
    "df.tail()"
   ]
  },
  {
   "cell_type": "code",
   "execution_count": 20,
   "metadata": {},
   "outputs": [
    {
     "data": {
      "text/plain": [
       "pandas.core.frame.DataFrame"
      ]
     },
     "execution_count": 20,
     "metadata": {},
     "output_type": "execute_result"
    }
   ],
   "source": [
    "type(df)"
   ]
  },
  {
   "cell_type": "markdown",
   "metadata": {},
   "source": [
    "###### Zadanie 1\n",
    "\n",
    "(czas: 2 min.)\n",
    "\n",
    "---\n",
    "\n",
    "Utwórz listę liczb a następnie na jej podstawie utwórz szereg. Przypisz mu jako indeks liczby całkowite rozpoczynające się od 1."
   ]
  },
  {
   "cell_type": "code",
   "execution_count": 21,
   "metadata": {},
   "outputs": [],
   "source": [
    "# ..."
   ]
  },
  {
   "cell_type": "markdown",
   "metadata": {},
   "source": [
    "###### Zadanie 2\n",
    "\n",
    "(czas: 4 min.)\n",
    "\n",
    "---\n",
    "\n",
    "Utwórz słownik zawierający kilka kluczy typu `str`, pod którymi znajdą się listy wartości liczbowych. Na podstawie tego słownika utwórz data frame."
   ]
  },
  {
   "cell_type": "code",
   "execution_count": 22,
   "metadata": {},
   "outputs": [],
   "source": [
    "# ..."
   ]
  },
  {
   "cell_type": "markdown",
   "metadata": {},
   "source": [
    "###### Zadanie 3:\n",
    "\n",
    "(czas: 4 min.)\n",
    "\n",
    "---\n",
    "\n",
    "Wczytaj data frame z pliku `cars.csv` wybierając za pomocą parametru `usecols` jedynie kolumny `price`, `drive` oraz `gearbox_is_manual`. Sprawdź co się stanie jeśli zmienisz separator (parametr `sep`) na średnik.\n",
    "\n",
    "Możesz skorzystać z dokumentacji funkcji `read_csv`."
   ]
  },
  {
   "cell_type": "code",
   "execution_count": 23,
   "metadata": {},
   "outputs": [],
   "source": [
    "# ..."
   ]
  },
  {
   "cell_type": "markdown",
   "metadata": {},
   "source": [
    "## Badanie zawartości dataframe'a\n",
    "Data frame'y zawierają zwykle duże ilości danych. Żeby lepiej zrozumieć, co kryje się wewnątrz, stosujemy pewne metody pozwalające podsumować zawarte tam informacje."
   ]
  },
  {
   "cell_type": "markdown",
   "metadata": {},
   "source": [
    "### Podstawowe informacje na temat dataframe'a"
   ]
  },
  {
   "cell_type": "code",
   "execution_count": 24,
   "metadata": {},
   "outputs": [
    {
     "data": {
      "text/plain": [
       "(100000, 15)"
      ]
     },
     "execution_count": 24,
     "metadata": {},
     "output_type": "execute_result"
    }
   ],
   "source": [
    "df.shape       # ile wierszy, ile kolumn"
   ]
  },
  {
   "cell_type": "code",
   "execution_count": 25,
   "metadata": {},
   "outputs": [
    {
     "data": {
      "text/plain": [
       "100000"
      ]
     },
     "execution_count": 25,
     "metadata": {},
     "output_type": "execute_result"
    }
   ],
   "source": [
    "len(df)        # długość, czyli liczba wierszy"
   ]
  },
  {
   "cell_type": "code",
   "execution_count": 26,
   "metadata": {},
   "outputs": [
    {
     "data": {
      "text/plain": [
       "Index(['price', 'currency', 'brand', 'body', 'engine_vol', 'fuel', 'drive',\n",
       "       'power', 'gearbox_is_manual', 'prod_year', 'orig_country', 'mileage',\n",
       "       'color', 'title', 'offer_timestamp'],\n",
       "      dtype='object')"
      ]
     },
     "execution_count": 26,
     "metadata": {},
     "output_type": "execute_result"
    }
   ],
   "source": [
    "df.columns     # \"lista\" kolumn"
   ]
  },
  {
   "cell_type": "code",
   "execution_count": 27,
   "metadata": {},
   "outputs": [
    {
     "data": {
      "text/plain": [
       "RangeIndex(start=0, stop=100000, step=1)"
      ]
     },
     "execution_count": 27,
     "metadata": {},
     "output_type": "execute_result"
    }
   ],
   "source": [
    "df.index       # informacje o indeksie"
   ]
  },
  {
   "cell_type": "code",
   "execution_count": 28,
   "metadata": {},
   "outputs": [
    {
     "data": {
      "text/plain": [
       "price                  int64\n",
       "currency              object\n",
       "brand                 object\n",
       "body                  object\n",
       "engine_vol           float64\n",
       "fuel                  object\n",
       "drive                 object\n",
       "power                float64\n",
       "gearbox_is_manual     object\n",
       "prod_year              int64\n",
       "orig_country          object\n",
       "mileage              float64\n",
       "color                 object\n",
       "title                 object\n",
       "offer_timestamp       object\n",
       "dtype: object"
      ]
     },
     "execution_count": 28,
     "metadata": {},
     "output_type": "execute_result"
    }
   ],
   "source": [
    "df.dtypes      # dtypes czyli data types - typy danych poszczególnych kolumn"
   ]
  },
  {
   "cell_type": "code",
   "execution_count": 29,
   "metadata": {},
   "outputs": [
    {
     "data": {
      "text/html": [
       "<div>\n",
       "<style scoped>\n",
       "    .dataframe tbody tr th:only-of-type {\n",
       "        vertical-align: middle;\n",
       "    }\n",
       "\n",
       "    .dataframe tbody tr th {\n",
       "        vertical-align: top;\n",
       "    }\n",
       "\n",
       "    .dataframe thead th {\n",
       "        text-align: right;\n",
       "    }\n",
       "</style>\n",
       "<table border=\"1\" class=\"dataframe\">\n",
       "  <thead>\n",
       "    <tr style=\"text-align: right;\">\n",
       "      <th></th>\n",
       "      <th>price</th>\n",
       "      <th>currency</th>\n",
       "      <th>brand</th>\n",
       "      <th>body</th>\n",
       "      <th>engine_vol</th>\n",
       "      <th>fuel</th>\n",
       "      <th>drive</th>\n",
       "      <th>power</th>\n",
       "      <th>gearbox_is_manual</th>\n",
       "      <th>prod_year</th>\n",
       "      <th>orig_country</th>\n",
       "      <th>mileage</th>\n",
       "      <th>color</th>\n",
       "      <th>title</th>\n",
       "      <th>offer_timestamp</th>\n",
       "    </tr>\n",
       "  </thead>\n",
       "  <tbody>\n",
       "    <tr>\n",
       "      <th>0</th>\n",
       "      <td>False</td>\n",
       "      <td>False</td>\n",
       "      <td>False</td>\n",
       "      <td>False</td>\n",
       "      <td>False</td>\n",
       "      <td>False</td>\n",
       "      <td>False</td>\n",
       "      <td>False</td>\n",
       "      <td>False</td>\n",
       "      <td>False</td>\n",
       "      <td>False</td>\n",
       "      <td>False</td>\n",
       "      <td>False</td>\n",
       "      <td>False</td>\n",
       "      <td>False</td>\n",
       "    </tr>\n",
       "    <tr>\n",
       "      <th>1</th>\n",
       "      <td>False</td>\n",
       "      <td>False</td>\n",
       "      <td>False</td>\n",
       "      <td>False</td>\n",
       "      <td>False</td>\n",
       "      <td>False</td>\n",
       "      <td>False</td>\n",
       "      <td>False</td>\n",
       "      <td>False</td>\n",
       "      <td>False</td>\n",
       "      <td>True</td>\n",
       "      <td>False</td>\n",
       "      <td>False</td>\n",
       "      <td>False</td>\n",
       "      <td>False</td>\n",
       "    </tr>\n",
       "    <tr>\n",
       "      <th>2</th>\n",
       "      <td>False</td>\n",
       "      <td>False</td>\n",
       "      <td>False</td>\n",
       "      <td>False</td>\n",
       "      <td>False</td>\n",
       "      <td>False</td>\n",
       "      <td>False</td>\n",
       "      <td>False</td>\n",
       "      <td>False</td>\n",
       "      <td>False</td>\n",
       "      <td>False</td>\n",
       "      <td>False</td>\n",
       "      <td>False</td>\n",
       "      <td>False</td>\n",
       "      <td>False</td>\n",
       "    </tr>\n",
       "    <tr>\n",
       "      <th>3</th>\n",
       "      <td>False</td>\n",
       "      <td>False</td>\n",
       "      <td>False</td>\n",
       "      <td>False</td>\n",
       "      <td>False</td>\n",
       "      <td>False</td>\n",
       "      <td>False</td>\n",
       "      <td>False</td>\n",
       "      <td>False</td>\n",
       "      <td>False</td>\n",
       "      <td>False</td>\n",
       "      <td>False</td>\n",
       "      <td>False</td>\n",
       "      <td>False</td>\n",
       "      <td>False</td>\n",
       "    </tr>\n",
       "    <tr>\n",
       "      <th>4</th>\n",
       "      <td>False</td>\n",
       "      <td>False</td>\n",
       "      <td>False</td>\n",
       "      <td>False</td>\n",
       "      <td>False</td>\n",
       "      <td>False</td>\n",
       "      <td>False</td>\n",
       "      <td>False</td>\n",
       "      <td>False</td>\n",
       "      <td>False</td>\n",
       "      <td>True</td>\n",
       "      <td>False</td>\n",
       "      <td>False</td>\n",
       "      <td>False</td>\n",
       "      <td>False</td>\n",
       "    </tr>\n",
       "    <tr>\n",
       "      <th>...</th>\n",
       "      <td>...</td>\n",
       "      <td>...</td>\n",
       "      <td>...</td>\n",
       "      <td>...</td>\n",
       "      <td>...</td>\n",
       "      <td>...</td>\n",
       "      <td>...</td>\n",
       "      <td>...</td>\n",
       "      <td>...</td>\n",
       "      <td>...</td>\n",
       "      <td>...</td>\n",
       "      <td>...</td>\n",
       "      <td>...</td>\n",
       "      <td>...</td>\n",
       "      <td>...</td>\n",
       "    </tr>\n",
       "    <tr>\n",
       "      <th>99995</th>\n",
       "      <td>False</td>\n",
       "      <td>False</td>\n",
       "      <td>False</td>\n",
       "      <td>False</td>\n",
       "      <td>False</td>\n",
       "      <td>False</td>\n",
       "      <td>False</td>\n",
       "      <td>False</td>\n",
       "      <td>False</td>\n",
       "      <td>False</td>\n",
       "      <td>True</td>\n",
       "      <td>False</td>\n",
       "      <td>False</td>\n",
       "      <td>False</td>\n",
       "      <td>False</td>\n",
       "    </tr>\n",
       "    <tr>\n",
       "      <th>99996</th>\n",
       "      <td>False</td>\n",
       "      <td>False</td>\n",
       "      <td>False</td>\n",
       "      <td>False</td>\n",
       "      <td>False</td>\n",
       "      <td>False</td>\n",
       "      <td>False</td>\n",
       "      <td>False</td>\n",
       "      <td>False</td>\n",
       "      <td>False</td>\n",
       "      <td>False</td>\n",
       "      <td>False</td>\n",
       "      <td>False</td>\n",
       "      <td>False</td>\n",
       "      <td>False</td>\n",
       "    </tr>\n",
       "    <tr>\n",
       "      <th>99997</th>\n",
       "      <td>False</td>\n",
       "      <td>False</td>\n",
       "      <td>False</td>\n",
       "      <td>False</td>\n",
       "      <td>False</td>\n",
       "      <td>False</td>\n",
       "      <td>False</td>\n",
       "      <td>False</td>\n",
       "      <td>False</td>\n",
       "      <td>False</td>\n",
       "      <td>True</td>\n",
       "      <td>False</td>\n",
       "      <td>False</td>\n",
       "      <td>False</td>\n",
       "      <td>False</td>\n",
       "    </tr>\n",
       "    <tr>\n",
       "      <th>99998</th>\n",
       "      <td>False</td>\n",
       "      <td>False</td>\n",
       "      <td>False</td>\n",
       "      <td>False</td>\n",
       "      <td>False</td>\n",
       "      <td>False</td>\n",
       "      <td>False</td>\n",
       "      <td>False</td>\n",
       "      <td>False</td>\n",
       "      <td>False</td>\n",
       "      <td>True</td>\n",
       "      <td>False</td>\n",
       "      <td>False</td>\n",
       "      <td>False</td>\n",
       "      <td>False</td>\n",
       "    </tr>\n",
       "    <tr>\n",
       "      <th>99999</th>\n",
       "      <td>False</td>\n",
       "      <td>False</td>\n",
       "      <td>False</td>\n",
       "      <td>False</td>\n",
       "      <td>False</td>\n",
       "      <td>False</td>\n",
       "      <td>False</td>\n",
       "      <td>False</td>\n",
       "      <td>False</td>\n",
       "      <td>False</td>\n",
       "      <td>False</td>\n",
       "      <td>False</td>\n",
       "      <td>False</td>\n",
       "      <td>False</td>\n",
       "      <td>False</td>\n",
       "    </tr>\n",
       "  </tbody>\n",
       "</table>\n",
       "<p>100000 rows × 15 columns</p>\n",
       "</div>"
      ],
      "text/plain": [
       "       price  currency  brand   body  engine_vol   fuel  drive  power  \\\n",
       "0      False     False  False  False       False  False  False  False   \n",
       "1      False     False  False  False       False  False  False  False   \n",
       "2      False     False  False  False       False  False  False  False   \n",
       "3      False     False  False  False       False  False  False  False   \n",
       "4      False     False  False  False       False  False  False  False   \n",
       "...      ...       ...    ...    ...         ...    ...    ...    ...   \n",
       "99995  False     False  False  False       False  False  False  False   \n",
       "99996  False     False  False  False       False  False  False  False   \n",
       "99997  False     False  False  False       False  False  False  False   \n",
       "99998  False     False  False  False       False  False  False  False   \n",
       "99999  False     False  False  False       False  False  False  False   \n",
       "\n",
       "       gearbox_is_manual  prod_year  orig_country  mileage  color  title  \\\n",
       "0                  False      False         False    False  False  False   \n",
       "1                  False      False          True    False  False  False   \n",
       "2                  False      False         False    False  False  False   \n",
       "3                  False      False         False    False  False  False   \n",
       "4                  False      False          True    False  False  False   \n",
       "...                  ...        ...           ...      ...    ...    ...   \n",
       "99995              False      False          True    False  False  False   \n",
       "99996              False      False         False    False  False  False   \n",
       "99997              False      False          True    False  False  False   \n",
       "99998              False      False          True    False  False  False   \n",
       "99999              False      False         False    False  False  False   \n",
       "\n",
       "       offer_timestamp  \n",
       "0                False  \n",
       "1                False  \n",
       "2                False  \n",
       "3                False  \n",
       "4                False  \n",
       "...                ...  \n",
       "99995            False  \n",
       "99996            False  \n",
       "99997            False  \n",
       "99998            False  \n",
       "99999            False  \n",
       "\n",
       "[100000 rows x 15 columns]"
      ]
     },
     "execution_count": 29,
     "metadata": {},
     "output_type": "execute_result"
    }
   ],
   "source": [
    "df.isna()      # brakujące wartości"
   ]
  },
  {
   "cell_type": "code",
   "execution_count": 30,
   "metadata": {},
   "outputs": [
    {
     "data": {
      "text/plain": [
       "price                    0\n",
       "currency                 0\n",
       "brand                    0\n",
       "body                     0\n",
       "engine_vol             699\n",
       "fuel                     0\n",
       "drive                19919\n",
       "power                  672\n",
       "gearbox_is_manual      607\n",
       "prod_year                0\n",
       "orig_country         44509\n",
       "mileage                172\n",
       "color                    0\n",
       "title                    0\n",
       "offer_timestamp          0\n",
       "dtype: int64"
      ]
     },
     "execution_count": 30,
     "metadata": {},
     "output_type": "execute_result"
    }
   ],
   "source": [
    "df.isna().sum()"
   ]
  },
  {
   "cell_type": "code",
   "execution_count": 31,
   "metadata": {},
   "outputs": [
    {
     "data": {
      "text/plain": [
       "np.int64(66578)"
      ]
     },
     "execution_count": 31,
     "metadata": {},
     "output_type": "execute_result"
    }
   ],
   "source": [
    "df.isna().sum().sum()"
   ]
  },
  {
   "cell_type": "code",
   "execution_count": 32,
   "metadata": {},
   "outputs": [
    {
     "data": {
      "text/plain": [
       "False"
      ]
     },
     "execution_count": 32,
     "metadata": {},
     "output_type": "execute_result"
    }
   ],
   "source": [
    "pd.isnull(132)"
   ]
  },
  {
   "cell_type": "code",
   "execution_count": 33,
   "metadata": {},
   "outputs": [
    {
     "data": {
      "text/plain": [
       "True"
      ]
     },
     "execution_count": 33,
     "metadata": {},
     "output_type": "execute_result"
    }
   ],
   "source": [
    "pd.isnull(np.nan)"
   ]
  },
  {
   "cell_type": "code",
   "execution_count": 34,
   "metadata": {},
   "outputs": [
    {
     "data": {
      "text/plain": [
       "True"
      ]
     },
     "execution_count": 34,
     "metadata": {},
     "output_type": "execute_result"
    }
   ],
   "source": [
    "pd.isnull(None)"
   ]
  },
  {
   "cell_type": "code",
   "execution_count": 35,
   "metadata": {},
   "outputs": [
    {
     "data": {
      "text/plain": [
       "False"
      ]
     },
     "execution_count": 35,
     "metadata": {},
     "output_type": "execute_result"
    }
   ],
   "source": [
    "pd.isnull(\"\")"
   ]
  },
  {
   "cell_type": "code",
   "execution_count": 36,
   "metadata": {},
   "outputs": [
    {
     "data": {
      "text/html": [
       "<div>\n",
       "<style scoped>\n",
       "    .dataframe tbody tr th:only-of-type {\n",
       "        vertical-align: middle;\n",
       "    }\n",
       "\n",
       "    .dataframe tbody tr th {\n",
       "        vertical-align: top;\n",
       "    }\n",
       "\n",
       "    .dataframe thead th {\n",
       "        text-align: right;\n",
       "    }\n",
       "</style>\n",
       "<table border=\"1\" class=\"dataframe\">\n",
       "  <thead>\n",
       "    <tr style=\"text-align: right;\">\n",
       "      <th></th>\n",
       "      <th>price</th>\n",
       "      <th>engine_vol</th>\n",
       "      <th>power</th>\n",
       "      <th>prod_year</th>\n",
       "      <th>mileage</th>\n",
       "    </tr>\n",
       "  </thead>\n",
       "  <tbody>\n",
       "    <tr>\n",
       "      <th>count</th>\n",
       "      <td>1.000000e+05</td>\n",
       "      <td>99301.000000</td>\n",
       "      <td>99328.000000</td>\n",
       "      <td>100000.000000</td>\n",
       "      <td>9.982800e+04</td>\n",
       "    </tr>\n",
       "    <tr>\n",
       "      <th>mean</th>\n",
       "      <td>3.949909e+04</td>\n",
       "      <td>1802.313904</td>\n",
       "      <td>136.591575</td>\n",
       "      <td>2010.935530</td>\n",
       "      <td>1.594466e+05</td>\n",
       "    </tr>\n",
       "    <tr>\n",
       "      <th>std</th>\n",
       "      <td>1.432028e+05</td>\n",
       "      <td>598.744998</td>\n",
       "      <td>54.965202</td>\n",
       "      <td>5.820637</td>\n",
       "      <td>4.091146e+05</td>\n",
       "    </tr>\n",
       "    <tr>\n",
       "      <th>min</th>\n",
       "      <td>5.850000e+02</td>\n",
       "      <td>400.000000</td>\n",
       "      <td>1.000000</td>\n",
       "      <td>1900.000000</td>\n",
       "      <td>1.000000e+00</td>\n",
       "    </tr>\n",
       "    <tr>\n",
       "      <th>25%</th>\n",
       "      <td>1.540000e+04</td>\n",
       "      <td>1461.000000</td>\n",
       "      <td>102.000000</td>\n",
       "      <td>2007.000000</td>\n",
       "      <td>9.346000e+04</td>\n",
       "    </tr>\n",
       "    <tr>\n",
       "      <th>50%</th>\n",
       "      <td>2.690000e+04</td>\n",
       "      <td>1686.000000</td>\n",
       "      <td>129.000000</td>\n",
       "      <td>2011.000000</td>\n",
       "      <td>1.600045e+05</td>\n",
       "    </tr>\n",
       "    <tr>\n",
       "      <th>75%</th>\n",
       "      <td>4.950000e+04</td>\n",
       "      <td>1995.000000</td>\n",
       "      <td>150.000000</td>\n",
       "      <td>2015.000000</td>\n",
       "      <td>2.150770e+05</td>\n",
       "    </tr>\n",
       "    <tr>\n",
       "      <th>max</th>\n",
       "      <td>1.432083e+07</td>\n",
       "      <td>8200.000000</td>\n",
       "      <td>1203.000000</td>\n",
       "      <td>2021.000000</td>\n",
       "      <td>1.234568e+08</td>\n",
       "    </tr>\n",
       "  </tbody>\n",
       "</table>\n",
       "</div>"
      ],
      "text/plain": [
       "              price    engine_vol         power      prod_year       mileage\n",
       "count  1.000000e+05  99301.000000  99328.000000  100000.000000  9.982800e+04\n",
       "mean   3.949909e+04   1802.313904    136.591575    2010.935530  1.594466e+05\n",
       "std    1.432028e+05    598.744998     54.965202       5.820637  4.091146e+05\n",
       "min    5.850000e+02    400.000000      1.000000    1900.000000  1.000000e+00\n",
       "25%    1.540000e+04   1461.000000    102.000000    2007.000000  9.346000e+04\n",
       "50%    2.690000e+04   1686.000000    129.000000    2011.000000  1.600045e+05\n",
       "75%    4.950000e+04   1995.000000    150.000000    2015.000000  2.150770e+05\n",
       "max    1.432083e+07   8200.000000   1203.000000    2021.000000  1.234568e+08"
      ]
     },
     "execution_count": 36,
     "metadata": {},
     "output_type": "execute_result"
    }
   ],
   "source": [
    "df.describe()      # dla kolumn numerycznych - statystyki opisowe: liczebność, średnia, odchylenie standardowe itp."
   ]
  },
  {
   "cell_type": "code",
   "execution_count": 37,
   "metadata": {},
   "outputs": [
    {
     "data": {
      "text/plain": [
       "Index                   132\n",
       "price                800000\n",
       "currency             800000\n",
       "brand                800000\n",
       "body                 800000\n",
       "engine_vol           800000\n",
       "fuel                 800000\n",
       "drive                800000\n",
       "power                800000\n",
       "gearbox_is_manual    800000\n",
       "prod_year            800000\n",
       "orig_country         800000\n",
       "mileage              800000\n",
       "color                800000\n",
       "title                800000\n",
       "offer_timestamp      800000\n",
       "dtype: int64"
      ]
     },
     "execution_count": 37,
     "metadata": {},
     "output_type": "execute_result"
    }
   ],
   "source": [
    "df.memory_usage()  # pamięć zajmowana przez poszczególne kolumny (w bajtach)"
   ]
  },
  {
   "cell_type": "code",
   "execution_count": 38,
   "metadata": {},
   "outputs": [
    {
     "data": {
      "text/plain": [
       "np.int64(12000132)"
      ]
     },
     "execution_count": 38,
     "metadata": {},
     "output_type": "execute_result"
    }
   ],
   "source": [
    "df.memory_usage().sum()"
   ]
  },
  {
   "cell_type": "code",
   "execution_count": 39,
   "metadata": {},
   "outputs": [
    {
     "name": "stdout",
     "output_type": "stream",
     "text": [
      "<class 'pandas.core.frame.DataFrame'>\n",
      "RangeIndex: 100000 entries, 0 to 99999\n",
      "Data columns (total 15 columns):\n",
      " #   Column             Non-Null Count   Dtype  \n",
      "---  ------             --------------   -----  \n",
      " 0   price              100000 non-null  int64  \n",
      " 1   currency           100000 non-null  object \n",
      " 2   brand              100000 non-null  object \n",
      " 3   body               100000 non-null  object \n",
      " 4   engine_vol         99301 non-null   float64\n",
      " 5   fuel               100000 non-null  object \n",
      " 6   drive              80081 non-null   object \n",
      " 7   power              99328 non-null   float64\n",
      " 8   gearbox_is_manual  99393 non-null   object \n",
      " 9   prod_year          100000 non-null  int64  \n",
      " 10  orig_country       55491 non-null   object \n",
      " 11  mileage            99828 non-null   float64\n",
      " 12  color              100000 non-null  object \n",
      " 13  title              100000 non-null  object \n",
      " 14  offer_timestamp    100000 non-null  object \n",
      "dtypes: float64(3), int64(2), object(10)\n",
      "memory usage: 11.4+ MB\n"
     ]
    }
   ],
   "source": [
    "df.info()          # połączenie type(), .index, .isnull(), .dtypes oraz .memory_usage()"
   ]
  },
  {
   "cell_type": "markdown",
   "metadata": {},
   "source": [
    "###### Zadanie 1\n",
    "\n",
    "(czas: 5 min.)\n",
    "\n",
    "---\n",
    "\n",
    "Wykonaj powyżej przedstawione operacje na data framie utworzonym ręcznie w jednym z poprzednich zadań"
   ]
  },
  {
   "cell_type": "code",
   "execution_count": 40,
   "metadata": {},
   "outputs": [],
   "source": [
    "# ..."
   ]
  },
  {
   "cell_type": "markdown",
   "metadata": {},
   "source": [
    "### Wyciąganie kolumn, wierszy oraz pojedynczych wartości"
   ]
  },
  {
   "cell_type": "markdown",
   "metadata": {},
   "source": [
    "***Wyciąganie pojedynczej kolumny***"
   ]
  },
  {
   "cell_type": "code",
   "execution_count": 41,
   "metadata": {
    "scrolled": true
   },
   "outputs": [
    {
     "data": {
      "text/plain": [
       "0         175000.0\n",
       "1         228000.0\n",
       "2        2610000.0\n",
       "3         138123.0\n",
       "4         175962.0\n",
       "           ...    \n",
       "99995          5.0\n",
       "99996     259000.0\n",
       "99997     307000.0\n",
       "99998       1000.0\n",
       "99999     165600.0\n",
       "Name: mileage, Length: 100000, dtype: float64"
      ]
     },
     "execution_count": 41,
     "metadata": {},
     "output_type": "execute_result"
    }
   ],
   "source": [
    "df[\"mileage\"]"
   ]
  },
  {
   "cell_type": "code",
   "execution_count": 42,
   "metadata": {},
   "outputs": [
    {
     "data": {
      "text/plain": [
       "pandas.core.series.Series"
      ]
     },
     "execution_count": 42,
     "metadata": {},
     "output_type": "execute_result"
    }
   ],
   "source": [
    "type(df[\"mileage\"])"
   ]
  },
  {
   "cell_type": "code",
   "execution_count": 43,
   "metadata": {},
   "outputs": [
    {
     "data": {
      "text/plain": [
       "0         175000.0\n",
       "1         228000.0\n",
       "2        2610000.0\n",
       "3         138123.0\n",
       "4         175962.0\n",
       "           ...    \n",
       "99995          5.0\n",
       "99996     259000.0\n",
       "99997     307000.0\n",
       "99998       1000.0\n",
       "99999     165600.0\n",
       "Name: mileage, Length: 100000, dtype: float64"
      ]
     },
     "execution_count": 43,
     "metadata": {},
     "output_type": "execute_result"
    }
   ],
   "source": [
    "df.mileage"
   ]
  },
  {
   "cell_type": "markdown",
   "metadata": {},
   "source": [
    "***Wyciąganie kilku kolumn***"
   ]
  },
  {
   "cell_type": "code",
   "execution_count": 44,
   "metadata": {},
   "outputs": [
    {
     "data": {
      "text/html": [
       "<div>\n",
       "<style scoped>\n",
       "    .dataframe tbody tr th:only-of-type {\n",
       "        vertical-align: middle;\n",
       "    }\n",
       "\n",
       "    .dataframe tbody tr th {\n",
       "        vertical-align: top;\n",
       "    }\n",
       "\n",
       "    .dataframe thead th {\n",
       "        text-align: right;\n",
       "    }\n",
       "</style>\n",
       "<table border=\"1\" class=\"dataframe\">\n",
       "  <thead>\n",
       "    <tr style=\"text-align: right;\">\n",
       "      <th></th>\n",
       "      <th>body</th>\n",
       "      <th>color</th>\n",
       "      <th>title</th>\n",
       "    </tr>\n",
       "  </thead>\n",
       "  <tbody>\n",
       "    <tr>\n",
       "      <th>0</th>\n",
       "      <td>Sedan</td>\n",
       "      <td>Srebrny</td>\n",
       "      <td>Škoda RAPID</td>\n",
       "    </tr>\n",
       "    <tr>\n",
       "      <th>1</th>\n",
       "      <td>Kompakt</td>\n",
       "      <td>Biały</td>\n",
       "      <td>BMW Seria 1 116d</td>\n",
       "    </tr>\n",
       "    <tr>\n",
       "      <th>2</th>\n",
       "      <td>Auta małe</td>\n",
       "      <td>Szary</td>\n",
       "      <td>Fiat Panda 1.2</td>\n",
       "    </tr>\n",
       "    <tr>\n",
       "      <th>3</th>\n",
       "      <td>SUV</td>\n",
       "      <td>Szary</td>\n",
       "      <td>Kia Sportage 1.7</td>\n",
       "    </tr>\n",
       "    <tr>\n",
       "      <th>4</th>\n",
       "      <td>SUV</td>\n",
       "      <td>Biały</td>\n",
       "      <td>Kia Sportage</td>\n",
       "    </tr>\n",
       "    <tr>\n",
       "      <th>...</th>\n",
       "      <td>...</td>\n",
       "      <td>...</td>\n",
       "      <td>...</td>\n",
       "    </tr>\n",
       "    <tr>\n",
       "      <th>99995</th>\n",
       "      <td>Kombi</td>\n",
       "      <td>Srebrny</td>\n",
       "      <td>Ford Focus</td>\n",
       "    </tr>\n",
       "    <tr>\n",
       "      <th>99996</th>\n",
       "      <td>Kombi</td>\n",
       "      <td>Niebieski</td>\n",
       "      <td>Audi A4 Avant</td>\n",
       "    </tr>\n",
       "    <tr>\n",
       "      <th>99997</th>\n",
       "      <td>Sedan</td>\n",
       "      <td>Inny kolor</td>\n",
       "      <td>BMW Seria 7 740d</td>\n",
       "    </tr>\n",
       "    <tr>\n",
       "      <th>99998</th>\n",
       "      <td>Auta małe</td>\n",
       "      <td>Biały</td>\n",
       "      <td>Peugeot 208 PureTech</td>\n",
       "    </tr>\n",
       "    <tr>\n",
       "      <th>99999</th>\n",
       "      <td>Sedan</td>\n",
       "      <td>Szary</td>\n",
       "      <td>Volkswagen Touran 1.4</td>\n",
       "    </tr>\n",
       "  </tbody>\n",
       "</table>\n",
       "<p>100000 rows × 3 columns</p>\n",
       "</div>"
      ],
      "text/plain": [
       "            body       color                  title\n",
       "0          Sedan     Srebrny            Škoda RAPID\n",
       "1        Kompakt       Biały       BMW Seria 1 116d\n",
       "2      Auta małe       Szary         Fiat Panda 1.2\n",
       "3            SUV       Szary       Kia Sportage 1.7\n",
       "4            SUV       Biały           Kia Sportage\n",
       "...          ...         ...                    ...\n",
       "99995      Kombi     Srebrny             Ford Focus\n",
       "99996      Kombi   Niebieski          Audi A4 Avant\n",
       "99997      Sedan  Inny kolor       BMW Seria 7 740d\n",
       "99998  Auta małe       Biały   Peugeot 208 PureTech\n",
       "99999      Sedan       Szary  Volkswagen Touran 1.4\n",
       "\n",
       "[100000 rows x 3 columns]"
      ]
     },
     "execution_count": 44,
     "metadata": {},
     "output_type": "execute_result"
    }
   ],
   "source": [
    "df[[\"body\", \"color\", \"title\"]]"
   ]
  },
  {
   "cell_type": "code",
   "execution_count": 45,
   "metadata": {},
   "outputs": [
    {
     "data": {
      "text/plain": [
       "pandas.core.frame.DataFrame"
      ]
     },
     "execution_count": 45,
     "metadata": {},
     "output_type": "execute_result"
    }
   ],
   "source": [
    "type(df[[\"body\", \"color\", \"title\"]])"
   ]
  },
  {
   "cell_type": "code",
   "execution_count": 46,
   "metadata": {},
   "outputs": [
    {
     "data": {
      "text/html": [
       "<div>\n",
       "<style scoped>\n",
       "    .dataframe tbody tr th:only-of-type {\n",
       "        vertical-align: middle;\n",
       "    }\n",
       "\n",
       "    .dataframe tbody tr th {\n",
       "        vertical-align: top;\n",
       "    }\n",
       "\n",
       "    .dataframe thead th {\n",
       "        text-align: right;\n",
       "    }\n",
       "</style>\n",
       "<table border=\"1\" class=\"dataframe\">\n",
       "  <thead>\n",
       "    <tr style=\"text-align: right;\">\n",
       "      <th></th>\n",
       "      <th>color</th>\n",
       "    </tr>\n",
       "  </thead>\n",
       "  <tbody>\n",
       "    <tr>\n",
       "      <th>0</th>\n",
       "      <td>Srebrny</td>\n",
       "    </tr>\n",
       "    <tr>\n",
       "      <th>1</th>\n",
       "      <td>Biały</td>\n",
       "    </tr>\n",
       "    <tr>\n",
       "      <th>2</th>\n",
       "      <td>Szary</td>\n",
       "    </tr>\n",
       "    <tr>\n",
       "      <th>3</th>\n",
       "      <td>Szary</td>\n",
       "    </tr>\n",
       "    <tr>\n",
       "      <th>4</th>\n",
       "      <td>Biały</td>\n",
       "    </tr>\n",
       "    <tr>\n",
       "      <th>...</th>\n",
       "      <td>...</td>\n",
       "    </tr>\n",
       "    <tr>\n",
       "      <th>99995</th>\n",
       "      <td>Srebrny</td>\n",
       "    </tr>\n",
       "    <tr>\n",
       "      <th>99996</th>\n",
       "      <td>Niebieski</td>\n",
       "    </tr>\n",
       "    <tr>\n",
       "      <th>99997</th>\n",
       "      <td>Inny kolor</td>\n",
       "    </tr>\n",
       "    <tr>\n",
       "      <th>99998</th>\n",
       "      <td>Biały</td>\n",
       "    </tr>\n",
       "    <tr>\n",
       "      <th>99999</th>\n",
       "      <td>Szary</td>\n",
       "    </tr>\n",
       "  </tbody>\n",
       "</table>\n",
       "<p>100000 rows × 1 columns</p>\n",
       "</div>"
      ],
      "text/plain": [
       "            color\n",
       "0         Srebrny\n",
       "1           Biały\n",
       "2           Szary\n",
       "3           Szary\n",
       "4           Biały\n",
       "...           ...\n",
       "99995     Srebrny\n",
       "99996   Niebieski\n",
       "99997  Inny kolor\n",
       "99998       Biały\n",
       "99999       Szary\n",
       "\n",
       "[100000 rows x 1 columns]"
      ]
     },
     "execution_count": 46,
     "metadata": {},
     "output_type": "execute_result"
    }
   ],
   "source": [
    "df[[\"color\"]]"
   ]
  },
  {
   "cell_type": "code",
   "execution_count": 47,
   "metadata": {},
   "outputs": [
    {
     "data": {
      "text/plain": [
       "pandas.core.frame.DataFrame"
      ]
     },
     "execution_count": 47,
     "metadata": {},
     "output_type": "execute_result"
    }
   ],
   "source": [
    "type(df[[\"color\"]])"
   ]
  },
  {
   "cell_type": "markdown",
   "metadata": {},
   "source": [
    "***Wyciąganie kolumn na podstawie ich typu***"
   ]
  },
  {
   "cell_type": "code",
   "execution_count": 48,
   "metadata": {},
   "outputs": [
    {
     "data": {
      "text/html": [
       "<div>\n",
       "<style scoped>\n",
       "    .dataframe tbody tr th:only-of-type {\n",
       "        vertical-align: middle;\n",
       "    }\n",
       "\n",
       "    .dataframe tbody tr th {\n",
       "        vertical-align: top;\n",
       "    }\n",
       "\n",
       "    .dataframe thead th {\n",
       "        text-align: right;\n",
       "    }\n",
       "</style>\n",
       "<table border=\"1\" class=\"dataframe\">\n",
       "  <thead>\n",
       "    <tr style=\"text-align: right;\">\n",
       "      <th></th>\n",
       "      <th>price</th>\n",
       "      <th>engine_vol</th>\n",
       "      <th>power</th>\n",
       "      <th>prod_year</th>\n",
       "      <th>mileage</th>\n",
       "    </tr>\n",
       "  </thead>\n",
       "  <tbody>\n",
       "    <tr>\n",
       "      <th>0</th>\n",
       "      <td>32900</td>\n",
       "      <td>1598.0</td>\n",
       "      <td>115.0</td>\n",
       "      <td>2017</td>\n",
       "      <td>175000.0</td>\n",
       "    </tr>\n",
       "    <tr>\n",
       "      <th>1</th>\n",
       "      <td>32500</td>\n",
       "      <td>1598.0</td>\n",
       "      <td>116.0</td>\n",
       "      <td>2012</td>\n",
       "      <td>228000.0</td>\n",
       "    </tr>\n",
       "    <tr>\n",
       "      <th>2</th>\n",
       "      <td>7900</td>\n",
       "      <td>1242.0</td>\n",
       "      <td>69.0</td>\n",
       "      <td>2012</td>\n",
       "      <td>2610000.0</td>\n",
       "    </tr>\n",
       "    <tr>\n",
       "      <th>3</th>\n",
       "      <td>39990</td>\n",
       "      <td>1685.0</td>\n",
       "      <td>115.0</td>\n",
       "      <td>2012</td>\n",
       "      <td>138123.0</td>\n",
       "    </tr>\n",
       "    <tr>\n",
       "      <th>4</th>\n",
       "      <td>42900</td>\n",
       "      <td>1685.0</td>\n",
       "      <td>115.0</td>\n",
       "      <td>2012</td>\n",
       "      <td>175962.0</td>\n",
       "    </tr>\n",
       "    <tr>\n",
       "      <th>...</th>\n",
       "      <td>...</td>\n",
       "      <td>...</td>\n",
       "      <td>...</td>\n",
       "      <td>...</td>\n",
       "      <td>...</td>\n",
       "    </tr>\n",
       "    <tr>\n",
       "      <th>99995</th>\n",
       "      <td>83990</td>\n",
       "      <td>1499.0</td>\n",
       "      <td>120.0</td>\n",
       "      <td>2020</td>\n",
       "      <td>5.0</td>\n",
       "    </tr>\n",
       "    <tr>\n",
       "      <th>99996</th>\n",
       "      <td>7400</td>\n",
       "      <td>1781.0</td>\n",
       "      <td>125.0</td>\n",
       "      <td>1999</td>\n",
       "      <td>259000.0</td>\n",
       "    </tr>\n",
       "    <tr>\n",
       "      <th>99997</th>\n",
       "      <td>30000</td>\n",
       "      <td>3901.0</td>\n",
       "      <td>245.0</td>\n",
       "      <td>1999</td>\n",
       "      <td>307000.0</td>\n",
       "    </tr>\n",
       "    <tr>\n",
       "      <th>99998</th>\n",
       "      <td>69000</td>\n",
       "      <td>1199.0</td>\n",
       "      <td>101.0</td>\n",
       "      <td>2020</td>\n",
       "      <td>1000.0</td>\n",
       "    </tr>\n",
       "    <tr>\n",
       "      <th>99999</th>\n",
       "      <td>18000</td>\n",
       "      <td>1390.0</td>\n",
       "      <td>140.0</td>\n",
       "      <td>2007</td>\n",
       "      <td>165600.0</td>\n",
       "    </tr>\n",
       "  </tbody>\n",
       "</table>\n",
       "<p>100000 rows × 5 columns</p>\n",
       "</div>"
      ],
      "text/plain": [
       "       price  engine_vol  power  prod_year    mileage\n",
       "0      32900      1598.0  115.0       2017   175000.0\n",
       "1      32500      1598.0  116.0       2012   228000.0\n",
       "2       7900      1242.0   69.0       2012  2610000.0\n",
       "3      39990      1685.0  115.0       2012   138123.0\n",
       "4      42900      1685.0  115.0       2012   175962.0\n",
       "...      ...         ...    ...        ...        ...\n",
       "99995  83990      1499.0  120.0       2020        5.0\n",
       "99996   7400      1781.0  125.0       1999   259000.0\n",
       "99997  30000      3901.0  245.0       1999   307000.0\n",
       "99998  69000      1199.0  101.0       2020     1000.0\n",
       "99999  18000      1390.0  140.0       2007   165600.0\n",
       "\n",
       "[100000 rows x 5 columns]"
      ]
     },
     "execution_count": 48,
     "metadata": {},
     "output_type": "execute_result"
    }
   ],
   "source": [
    "df.select_dtypes([\"float\", \"int\"])"
   ]
  },
  {
   "cell_type": "markdown",
   "metadata": {},
   "source": [
    "###### Zadanie 1\n",
    "\n",
    "(czas: 2 min.)\n",
    "\n",
    "---\n",
    "\n",
    "Na podstawie wczytanego z pliku csv data frame'a utwórz mniejszy df zawierający jedynie kolumny `fuel`, `price`, `mileage` oraz `brand`"
   ]
  },
  {
   "cell_type": "code",
   "execution_count": 49,
   "metadata": {},
   "outputs": [],
   "source": [
    "# ..."
   ]
  },
  {
   "cell_type": "markdown",
   "metadata": {},
   "source": [
    "###### Zadanie 2\n",
    "\n",
    "(czas: 1 min.)\n",
    "\n",
    "---\n",
    "\n",
    "Utwórz series zawierający dane, które znajdują się w kolumnie `offer_timestamp`"
   ]
  },
  {
   "cell_type": "code",
   "execution_count": 50,
   "metadata": {},
   "outputs": [],
   "source": [
    "# ..."
   ]
  },
  {
   "cell_type": "markdown",
   "metadata": {},
   "source": [
    "***Wyciąganie wierszy***"
   ]
  },
  {
   "cell_type": "code",
   "execution_count": 51,
   "metadata": {},
   "outputs": [
    {
     "data": {
      "text/plain": [
       "price                              32900\n",
       "currency                             PLN\n",
       "brand                              Škoda\n",
       "body                               Sedan\n",
       "engine_vol                        1598.0\n",
       "fuel                              Diesel\n",
       "drive                              Przód\n",
       "power                              115.0\n",
       "gearbox_is_manual                   True\n",
       "prod_year                           2017\n",
       "orig_country                      Polska\n",
       "mileage                         175000.0\n",
       "color                            Srebrny\n",
       "title                        Škoda RAPID\n",
       "offer_timestamp      2021-02-28 12:53:00\n",
       "Name: 0, dtype: object"
      ]
     },
     "execution_count": 51,
     "metadata": {},
     "output_type": "execute_result"
    }
   ],
   "source": [
    "df.iloc[0]  # iloc - liczba porządkowa wiersza: wiersz zerowy, pierwszy, drugi itp."
   ]
  },
  {
   "cell_type": "code",
   "execution_count": 52,
   "metadata": {},
   "outputs": [
    {
     "data": {
      "text/plain": [
       "price                              42900\n",
       "currency                             PLN\n",
       "brand                                Kia\n",
       "body                                 SUV\n",
       "engine_vol                        1685.0\n",
       "fuel                              Diesel\n",
       "drive                              Przód\n",
       "power                              115.0\n",
       "gearbox_is_manual                   True\n",
       "prod_year                           2012\n",
       "orig_country                         NaN\n",
       "mileage                         175962.0\n",
       "color                              Biały\n",
       "title                       Kia Sportage\n",
       "offer_timestamp      2021-02-28 12:50:00\n",
       "Name: 4, dtype: object"
      ]
     },
     "execution_count": 52,
     "metadata": {},
     "output_type": "execute_result"
    }
   ],
   "source": [
    "df.iloc[4]"
   ]
  },
  {
   "cell_type": "code",
   "execution_count": 53,
   "metadata": {},
   "outputs": [
    {
     "data": {
      "text/plain": [
       "price                              42900\n",
       "currency                             PLN\n",
       "brand                                Kia\n",
       "body                                 SUV\n",
       "engine_vol                        1685.0\n",
       "fuel                              Diesel\n",
       "drive                              Przód\n",
       "power                              115.0\n",
       "gearbox_is_manual                   True\n",
       "prod_year                           2012\n",
       "orig_country                         NaN\n",
       "mileage                         175962.0\n",
       "color                              Biały\n",
       "title                       Kia Sportage\n",
       "offer_timestamp      2021-02-28 12:50:00\n",
       "Name: 4, dtype: object"
      ]
     },
     "execution_count": 53,
     "metadata": {},
     "output_type": "execute_result"
    }
   ],
   "source": [
    "df.loc[4]  # loc - nazwa wiersza. W tym przypadku wiersze nazywają się tak samo ich numer porządkowy, \n",
    "           #        ale nie zawsze musi tak być. Zobacz poniższy przykład"
   ]
  },
  {
   "cell_type": "code",
   "execution_count": 54,
   "metadata": {},
   "outputs": [],
   "source": [
    "small_df = pd.DataFrame({\"a\": [1, 2, 3], \"b\": [2, 3, 4]}, index=[\"one\", \"two\", \"three\"])"
   ]
  },
  {
   "cell_type": "code",
   "execution_count": 55,
   "metadata": {},
   "outputs": [
    {
     "data": {
      "text/html": [
       "<div>\n",
       "<style scoped>\n",
       "    .dataframe tbody tr th:only-of-type {\n",
       "        vertical-align: middle;\n",
       "    }\n",
       "\n",
       "    .dataframe tbody tr th {\n",
       "        vertical-align: top;\n",
       "    }\n",
       "\n",
       "    .dataframe thead th {\n",
       "        text-align: right;\n",
       "    }\n",
       "</style>\n",
       "<table border=\"1\" class=\"dataframe\">\n",
       "  <thead>\n",
       "    <tr style=\"text-align: right;\">\n",
       "      <th></th>\n",
       "      <th>a</th>\n",
       "      <th>b</th>\n",
       "    </tr>\n",
       "  </thead>\n",
       "  <tbody>\n",
       "    <tr>\n",
       "      <th>one</th>\n",
       "      <td>1</td>\n",
       "      <td>2</td>\n",
       "    </tr>\n",
       "    <tr>\n",
       "      <th>two</th>\n",
       "      <td>2</td>\n",
       "      <td>3</td>\n",
       "    </tr>\n",
       "    <tr>\n",
       "      <th>three</th>\n",
       "      <td>3</td>\n",
       "      <td>4</td>\n",
       "    </tr>\n",
       "  </tbody>\n",
       "</table>\n",
       "</div>"
      ],
      "text/plain": [
       "       a  b\n",
       "one    1  2\n",
       "two    2  3\n",
       "three  3  4"
      ]
     },
     "execution_count": 55,
     "metadata": {},
     "output_type": "execute_result"
    }
   ],
   "source": [
    "small_df"
   ]
  },
  {
   "cell_type": "code",
   "execution_count": 56,
   "metadata": {},
   "outputs": [
    {
     "data": {
      "text/plain": [
       "a    2\n",
       "b    3\n",
       "Name: two, dtype: int64"
      ]
     },
     "execution_count": 56,
     "metadata": {},
     "output_type": "execute_result"
    }
   ],
   "source": [
    "small_df.iloc[1]"
   ]
  },
  {
   "cell_type": "code",
   "execution_count": 57,
   "metadata": {},
   "outputs": [
    {
     "data": {
      "text/plain": [
       "a    2\n",
       "b    3\n",
       "Name: two, dtype: int64"
      ]
     },
     "execution_count": 57,
     "metadata": {},
     "output_type": "execute_result"
    }
   ],
   "source": [
    "small_df.loc[\"two\"]"
   ]
  },
  {
   "cell_type": "code",
   "execution_count": 58,
   "metadata": {
    "scrolled": true
   },
   "outputs": [
    {
     "ename": "KeyError",
     "evalue": "1",
     "output_type": "error",
     "traceback": [
      "\u001b[1;31m---------------------------------------------------------------------------\u001b[0m",
      "\u001b[1;31mKeyError\u001b[0m                                  Traceback (most recent call last)",
      "File \u001b[1;32m~\\AI_ML\\venv\\Lib\\site-packages\\pandas\\core\\indexes\\base.py:3805\u001b[0m, in \u001b[0;36mIndex.get_loc\u001b[1;34m(self, key)\u001b[0m\n\u001b[0;32m   3804\u001b[0m \u001b[38;5;28;01mtry\u001b[39;00m:\n\u001b[1;32m-> 3805\u001b[0m     \u001b[38;5;28;01mreturn\u001b[39;00m \u001b[38;5;28;43mself\u001b[39;49m\u001b[38;5;241;43m.\u001b[39;49m\u001b[43m_engine\u001b[49m\u001b[38;5;241;43m.\u001b[39;49m\u001b[43mget_loc\u001b[49m\u001b[43m(\u001b[49m\u001b[43mcasted_key\u001b[49m\u001b[43m)\u001b[49m\n\u001b[0;32m   3806\u001b[0m \u001b[38;5;28;01mexcept\u001b[39;00m \u001b[38;5;167;01mKeyError\u001b[39;00m \u001b[38;5;28;01mas\u001b[39;00m err:\n",
      "File \u001b[1;32mindex.pyx:167\u001b[0m, in \u001b[0;36mpandas._libs.index.IndexEngine.get_loc\u001b[1;34m()\u001b[0m\n",
      "File \u001b[1;32mindex.pyx:196\u001b[0m, in \u001b[0;36mpandas._libs.index.IndexEngine.get_loc\u001b[1;34m()\u001b[0m\n",
      "File \u001b[1;32mpandas\\\\_libs\\\\hashtable_class_helper.pxi:7081\u001b[0m, in \u001b[0;36mpandas._libs.hashtable.PyObjectHashTable.get_item\u001b[1;34m()\u001b[0m\n",
      "File \u001b[1;32mpandas\\\\_libs\\\\hashtable_class_helper.pxi:7089\u001b[0m, in \u001b[0;36mpandas._libs.hashtable.PyObjectHashTable.get_item\u001b[1;34m()\u001b[0m\n",
      "\u001b[1;31mKeyError\u001b[0m: 1",
      "\nThe above exception was the direct cause of the following exception:\n",
      "\u001b[1;31mKeyError\u001b[0m                                  Traceback (most recent call last)",
      "Cell \u001b[1;32mIn[58], line 1\u001b[0m\n\u001b[1;32m----> 1\u001b[0m \u001b[43msmall_df\u001b[49m\u001b[38;5;241;43m.\u001b[39;49m\u001b[43mloc\u001b[49m\u001b[43m[\u001b[49m\u001b[38;5;241;43m1\u001b[39;49m\u001b[43m]\u001b[49m\n",
      "File \u001b[1;32m~\\AI_ML\\venv\\Lib\\site-packages\\pandas\\core\\indexing.py:1191\u001b[0m, in \u001b[0;36m_LocationIndexer.__getitem__\u001b[1;34m(self, key)\u001b[0m\n\u001b[0;32m   1189\u001b[0m maybe_callable \u001b[38;5;241m=\u001b[39m com\u001b[38;5;241m.\u001b[39mapply_if_callable(key, \u001b[38;5;28mself\u001b[39m\u001b[38;5;241m.\u001b[39mobj)\n\u001b[0;32m   1190\u001b[0m maybe_callable \u001b[38;5;241m=\u001b[39m \u001b[38;5;28mself\u001b[39m\u001b[38;5;241m.\u001b[39m_check_deprecated_callable_usage(key, maybe_callable)\n\u001b[1;32m-> 1191\u001b[0m \u001b[38;5;28;01mreturn\u001b[39;00m \u001b[38;5;28;43mself\u001b[39;49m\u001b[38;5;241;43m.\u001b[39;49m\u001b[43m_getitem_axis\u001b[49m\u001b[43m(\u001b[49m\u001b[43mmaybe_callable\u001b[49m\u001b[43m,\u001b[49m\u001b[43m \u001b[49m\u001b[43maxis\u001b[49m\u001b[38;5;241;43m=\u001b[39;49m\u001b[43maxis\u001b[49m\u001b[43m)\u001b[49m\n",
      "File \u001b[1;32m~\\AI_ML\\venv\\Lib\\site-packages\\pandas\\core\\indexing.py:1431\u001b[0m, in \u001b[0;36m_LocIndexer._getitem_axis\u001b[1;34m(self, key, axis)\u001b[0m\n\u001b[0;32m   1429\u001b[0m \u001b[38;5;66;03m# fall thru to straight lookup\u001b[39;00m\n\u001b[0;32m   1430\u001b[0m \u001b[38;5;28mself\u001b[39m\u001b[38;5;241m.\u001b[39m_validate_key(key, axis)\n\u001b[1;32m-> 1431\u001b[0m \u001b[38;5;28;01mreturn\u001b[39;00m \u001b[38;5;28;43mself\u001b[39;49m\u001b[38;5;241;43m.\u001b[39;49m\u001b[43m_get_label\u001b[49m\u001b[43m(\u001b[49m\u001b[43mkey\u001b[49m\u001b[43m,\u001b[49m\u001b[43m \u001b[49m\u001b[43maxis\u001b[49m\u001b[38;5;241;43m=\u001b[39;49m\u001b[43maxis\u001b[49m\u001b[43m)\u001b[49m\n",
      "File \u001b[1;32m~\\AI_ML\\venv\\Lib\\site-packages\\pandas\\core\\indexing.py:1381\u001b[0m, in \u001b[0;36m_LocIndexer._get_label\u001b[1;34m(self, label, axis)\u001b[0m\n\u001b[0;32m   1379\u001b[0m \u001b[38;5;28;01mdef\u001b[39;00m \u001b[38;5;21m_get_label\u001b[39m(\u001b[38;5;28mself\u001b[39m, label, axis: AxisInt):\n\u001b[0;32m   1380\u001b[0m     \u001b[38;5;66;03m# GH#5567 this will fail if the label is not present in the axis.\u001b[39;00m\n\u001b[1;32m-> 1381\u001b[0m     \u001b[38;5;28;01mreturn\u001b[39;00m \u001b[38;5;28;43mself\u001b[39;49m\u001b[38;5;241;43m.\u001b[39;49m\u001b[43mobj\u001b[49m\u001b[38;5;241;43m.\u001b[39;49m\u001b[43mxs\u001b[49m\u001b[43m(\u001b[49m\u001b[43mlabel\u001b[49m\u001b[43m,\u001b[49m\u001b[43m \u001b[49m\u001b[43maxis\u001b[49m\u001b[38;5;241;43m=\u001b[39;49m\u001b[43maxis\u001b[49m\u001b[43m)\u001b[49m\n",
      "File \u001b[1;32m~\\AI_ML\\venv\\Lib\\site-packages\\pandas\\core\\generic.py:4301\u001b[0m, in \u001b[0;36mNDFrame.xs\u001b[1;34m(self, key, axis, level, drop_level)\u001b[0m\n\u001b[0;32m   4299\u001b[0m             new_index \u001b[38;5;241m=\u001b[39m index[loc]\n\u001b[0;32m   4300\u001b[0m \u001b[38;5;28;01melse\u001b[39;00m:\n\u001b[1;32m-> 4301\u001b[0m     loc \u001b[38;5;241m=\u001b[39m \u001b[43mindex\u001b[49m\u001b[38;5;241;43m.\u001b[39;49m\u001b[43mget_loc\u001b[49m\u001b[43m(\u001b[49m\u001b[43mkey\u001b[49m\u001b[43m)\u001b[49m\n\u001b[0;32m   4303\u001b[0m     \u001b[38;5;28;01mif\u001b[39;00m \u001b[38;5;28misinstance\u001b[39m(loc, np\u001b[38;5;241m.\u001b[39mndarray):\n\u001b[0;32m   4304\u001b[0m         \u001b[38;5;28;01mif\u001b[39;00m loc\u001b[38;5;241m.\u001b[39mdtype \u001b[38;5;241m==\u001b[39m np\u001b[38;5;241m.\u001b[39mbool_:\n",
      "File \u001b[1;32m~\\AI_ML\\venv\\Lib\\site-packages\\pandas\\core\\indexes\\base.py:3812\u001b[0m, in \u001b[0;36mIndex.get_loc\u001b[1;34m(self, key)\u001b[0m\n\u001b[0;32m   3807\u001b[0m     \u001b[38;5;28;01mif\u001b[39;00m \u001b[38;5;28misinstance\u001b[39m(casted_key, \u001b[38;5;28mslice\u001b[39m) \u001b[38;5;129;01mor\u001b[39;00m (\n\u001b[0;32m   3808\u001b[0m         \u001b[38;5;28misinstance\u001b[39m(casted_key, abc\u001b[38;5;241m.\u001b[39mIterable)\n\u001b[0;32m   3809\u001b[0m         \u001b[38;5;129;01mand\u001b[39;00m \u001b[38;5;28many\u001b[39m(\u001b[38;5;28misinstance\u001b[39m(x, \u001b[38;5;28mslice\u001b[39m) \u001b[38;5;28;01mfor\u001b[39;00m x \u001b[38;5;129;01min\u001b[39;00m casted_key)\n\u001b[0;32m   3810\u001b[0m     ):\n\u001b[0;32m   3811\u001b[0m         \u001b[38;5;28;01mraise\u001b[39;00m InvalidIndexError(key)\n\u001b[1;32m-> 3812\u001b[0m     \u001b[38;5;28;01mraise\u001b[39;00m \u001b[38;5;167;01mKeyError\u001b[39;00m(key) \u001b[38;5;28;01mfrom\u001b[39;00m \u001b[38;5;21;01merr\u001b[39;00m\n\u001b[0;32m   3813\u001b[0m \u001b[38;5;28;01mexcept\u001b[39;00m \u001b[38;5;167;01mTypeError\u001b[39;00m:\n\u001b[0;32m   3814\u001b[0m     \u001b[38;5;66;03m# If we have a listlike key, _check_indexing_error will raise\u001b[39;00m\n\u001b[0;32m   3815\u001b[0m     \u001b[38;5;66;03m#  InvalidIndexError. Otherwise we fall through and re-raise\u001b[39;00m\n\u001b[0;32m   3816\u001b[0m     \u001b[38;5;66;03m#  the TypeError.\u001b[39;00m\n\u001b[0;32m   3817\u001b[0m     \u001b[38;5;28mself\u001b[39m\u001b[38;5;241m.\u001b[39m_check_indexing_error(key)\n",
      "\u001b[1;31mKeyError\u001b[0m: 1"
     ]
    }
   ],
   "source": [
    "small_df.loc[1]"
   ]
  },
  {
   "cell_type": "markdown",
   "metadata": {},
   "source": [
    "***Pojedyncze wartości oraz ich przedziały***"
   ]
  },
  {
   "cell_type": "code",
   "execution_count": null,
   "metadata": {},
   "outputs": [],
   "source": [
    "df[\"prod_year\"].iloc[3]"
   ]
  },
  {
   "cell_type": "code",
   "execution_count": null,
   "metadata": {},
   "outputs": [],
   "source": [
    "df[\"prod_year\"].loc[5]"
   ]
  },
  {
   "cell_type": "code",
   "execution_count": null,
   "metadata": {},
   "outputs": [],
   "source": [
    "df[\"prod_year\"][5]"
   ]
  },
  {
   "cell_type": "code",
   "execution_count": null,
   "metadata": {},
   "outputs": [],
   "source": [
    "df.iloc[3, 9]"
   ]
  },
  {
   "cell_type": "code",
   "execution_count": null,
   "metadata": {},
   "outputs": [],
   "source": [
    "df.loc[3, \"prod_year\"]"
   ]
  },
  {
   "cell_type": "code",
   "execution_count": null,
   "metadata": {},
   "outputs": [],
   "source": [
    "df['prod_year'].iloc[4:8]"
   ]
  },
  {
   "cell_type": "code",
   "execution_count": null,
   "metadata": {},
   "outputs": [],
   "source": [
    "df['prod_year'].loc[4:8]"
   ]
  },
  {
   "cell_type": "code",
   "execution_count": null,
   "metadata": {},
   "outputs": [],
   "source": [
    "df[['prod_year', 'gearbox_is_manual']].loc[4:8]"
   ]
  },
  {
   "cell_type": "markdown",
   "metadata": {},
   "source": [
    "###### Zadanie 3\n",
    "\n",
    "(czas: 4 min.)\n",
    "\n",
    "---\n",
    "\n",
    "Wyciągnij z df-a element, który:\n",
    "\n",
    "a) jest w kolumnie `price` i w wierszu o indeksie 5\n",
    "\n",
    "b) jest w kolumnie `body` i w wierszu 10 z kolei\n",
    "\n",
    "c) wszystkie dane znajdujące się w wierszach o indeksach 6-11 włącznie i w kolumnach `title` i `offer_timestamp`"
   ]
  },
  {
   "cell_type": "code",
   "execution_count": null,
   "metadata": {},
   "outputs": [],
   "source": [
    "# ..."
   ]
  },
  {
   "cell_type": "markdown",
   "metadata": {},
   "source": [
    "###### Zadanie 4\n",
    "\n",
    "(czas: 2 min.)\n",
    "\n",
    "---\n",
    "\n",
    "Wyciągnij z df-a wszystkie kolumny zawierające dane tekstowe"
   ]
  },
  {
   "cell_type": "code",
   "execution_count": null,
   "metadata": {},
   "outputs": [],
   "source": [
    "# ..."
   ]
  },
  {
   "cell_type": "markdown",
   "metadata": {},
   "source": [
    "### Wartości unikalne oraz zliczanie wystąpień"
   ]
  },
  {
   "cell_type": "markdown",
   "metadata": {},
   "source": [
    "###### `unique` oraz `nunique`"
   ]
  },
  {
   "cell_type": "code",
   "execution_count": null,
   "metadata": {},
   "outputs": [],
   "source": [
    "df['fuel'].nunique()"
   ]
  },
  {
   "cell_type": "code",
   "execution_count": null,
   "metadata": {},
   "outputs": [],
   "source": [
    "df['fuel'].unique()"
   ]
  },
  {
   "cell_type": "code",
   "execution_count": null,
   "metadata": {},
   "outputs": [],
   "source": [
    "df.nunique()"
   ]
  },
  {
   "cell_type": "code",
   "execution_count": null,
   "metadata": {},
   "outputs": [],
   "source": [
    "df.unique()"
   ]
  },
  {
   "cell_type": "markdown",
   "metadata": {},
   "source": [
    "###### `value_counts`"
   ]
  },
  {
   "cell_type": "code",
   "execution_count": null,
   "metadata": {},
   "outputs": [],
   "source": [
    "df['currency'].value_counts()"
   ]
  },
  {
   "cell_type": "code",
   "execution_count": null,
   "metadata": {},
   "outputs": [],
   "source": [
    "df['fuel'].value_counts()"
   ]
  },
  {
   "cell_type": "code",
   "execution_count": null,
   "metadata": {},
   "outputs": [],
   "source": [
    "df['fuel'].value_counts(normalize=True)"
   ]
  },
  {
   "cell_type": "code",
   "execution_count": null,
   "metadata": {},
   "outputs": [],
   "source": [
    "df['brand'].value_counts()"
   ]
  },
  {
   "cell_type": "code",
   "execution_count": null,
   "metadata": {},
   "outputs": [],
   "source": [
    "df.value_counts()"
   ]
  },
  {
   "cell_type": "code",
   "execution_count": null,
   "metadata": {},
   "outputs": [],
   "source": [
    "df[[\"currency\", \"drive\"]].value_counts()"
   ]
  },
  {
   "cell_type": "markdown",
   "metadata": {},
   "source": [
    "###### `crosstab`"
   ]
  },
  {
   "cell_type": "code",
   "execution_count": null,
   "metadata": {},
   "outputs": [],
   "source": [
    "pd.crosstab(df[\"currency\"], df[\"fuel\"])"
   ]
  },
  {
   "cell_type": "code",
   "execution_count": null,
   "metadata": {},
   "outputs": [],
   "source": [
    "pd.crosstab(df[\"body\"], df[\"drive\"], normalize=True)"
   ]
  },
  {
   "cell_type": "markdown",
   "metadata": {},
   "source": [
    "###### Zadanie 1\n",
    "\n",
    "(czas: 4 min.)\n",
    "\n",
    "---\n",
    "\n",
    "Stwórz listę kilku wybranych nazw kolumn. Następnie w pętli `for` przeiteruj po wszystkich tych kolumnach i wypisz ile unikalnych wartości jest w danej kolumnie"
   ]
  },
  {
   "cell_type": "code",
   "execution_count": null,
   "metadata": {},
   "outputs": [],
   "source": [
    "# ..."
   ]
  },
  {
   "cell_type": "markdown",
   "metadata": {},
   "source": [
    "###### Zadanie 2\n",
    "\n",
    "(czas: 3 min.)\n",
    "\n",
    "---\n",
    "\n",
    "Zrób to samo co w poprzednim zadaniu, ale zamiast wypisywać liczbę unikalnych wartości wypisz ich rozkład wraz z liczebnością poszczególnych elementów"
   ]
  },
  {
   "cell_type": "code",
   "execution_count": null,
   "metadata": {},
   "outputs": [],
   "source": [
    "# ..."
   ]
  },
  {
   "cell_type": "markdown",
   "metadata": {},
   "source": [
    "###### Zadanie 3\n",
    "\n",
    "(czas: 2 min.)\n",
    "\n",
    "---\n",
    "\n",
    "Znajdź wartość, która najczęściej pojawia się w kolumnie `body`"
   ]
  },
  {
   "cell_type": "code",
   "execution_count": null,
   "metadata": {},
   "outputs": [],
   "source": [
    "# ..."
   ]
  },
  {
   "cell_type": "markdown",
   "metadata": {},
   "source": [
    "### Filtrowanie na podstawie warunków logicznych"
   ]
  },
  {
   "cell_type": "code",
   "execution_count": null,
   "metadata": {},
   "outputs": [],
   "source": [
    "df[\"prod_year\"]"
   ]
  },
  {
   "cell_type": "code",
   "execution_count": null,
   "metadata": {},
   "outputs": [],
   "source": [
    "df[\"prod_year\"]==2012"
   ]
  },
  {
   "cell_type": "code",
   "execution_count": null,
   "metadata": {},
   "outputs": [],
   "source": [
    "df[df[\"prod_year\"]==2012]"
   ]
  },
  {
   "cell_type": "code",
   "execution_count": null,
   "metadata": {},
   "outputs": [],
   "source": [
    "df[df[\"prod_year\"]==2012][\"body\"]"
   ]
  },
  {
   "cell_type": "code",
   "execution_count": null,
   "metadata": {},
   "outputs": [],
   "source": [
    "df[df[\"prod_year\"]==2012][\"body\"].value_counts()  # przy okazji sprawdźmy rozkład wartości"
   ]
  },
  {
   "cell_type": "code",
   "execution_count": null,
   "metadata": {},
   "outputs": [],
   "source": [
    "df[df[\"prod_year\"]==2019][\"body\"].value_counts()"
   ]
  },
  {
   "cell_type": "code",
   "execution_count": null,
   "metadata": {},
   "outputs": [],
   "source": [
    "df[df[\"prod_year\"]==1999][\"body\"].value_counts()"
   ]
  },
  {
   "cell_type": "markdown",
   "metadata": {},
   "source": [
    "---"
   ]
  },
  {
   "cell_type": "code",
   "execution_count": null,
   "metadata": {},
   "outputs": [],
   "source": [
    "df[df[\"prod_year\"] < 2016]"
   ]
  },
  {
   "cell_type": "code",
   "execution_count": null,
   "metadata": {},
   "outputs": [],
   "source": [
    "df[df[\"prod_year\"] < 2016][[\"body\"]]  # warto zwrócić uwagę na podwójne nawiasy - wynik to dataframe o jednej kolumnie a nie series"
   ]
  },
  {
   "cell_type": "markdown",
   "metadata": {},
   "source": [
    "---"
   ]
  },
  {
   "cell_type": "code",
   "execution_count": null,
   "metadata": {},
   "outputs": [],
   "source": [
    "df[(df[\"prod_year\"] < 2016) & (df[\"price\"] > 100000)]    # łącząc warunki logiczne używamy spójników & oraz |"
   ]
  },
  {
   "cell_type": "markdown",
   "metadata": {},
   "source": [
    "###### Zadanie 1\n",
    "\n",
    "(czas: 2 min.)\n",
    "\n",
    "---\n",
    "\n",
    "Wyciągnij informacje o ofertach w których skrzynia biegów jest manualna"
   ]
  },
  {
   "cell_type": "code",
   "execution_count": null,
   "metadata": {},
   "outputs": [],
   "source": [
    "# ..."
   ]
  },
  {
   "cell_type": "markdown",
   "metadata": {},
   "source": [
    "###### Zadanie 2\n",
    "\n",
    "(czas: 2 min.)\n",
    "\n",
    "---\n",
    "\n",
    "Znajdź samochody z silnikiem diesla których przebieg jest mniejszy niż 50000"
   ]
  },
  {
   "cell_type": "code",
   "execution_count": null,
   "metadata": {},
   "outputs": [],
   "source": [
    "# ..."
   ]
  },
  {
   "cell_type": "markdown",
   "metadata": {},
   "source": [
    "###### Zadanie 3\n",
    "\n",
    "(czas: 2 min.)\n",
    "\n",
    "---\n",
    "\n",
    "Znajdź samochody marki \"Toyota\" lub takie, które mają napęd na przód"
   ]
  },
  {
   "cell_type": "code",
   "execution_count": null,
   "metadata": {},
   "outputs": [],
   "source": [
    "# ..."
   ]
  },
  {
   "cell_type": "markdown",
   "metadata": {},
   "source": [
    "### Rysowanie wykresów"
   ]
  },
  {
   "cell_type": "code",
   "execution_count": null,
   "metadata": {},
   "outputs": [],
   "source": [
    "df[\"engine_vol\"].hist()"
   ]
  },
  {
   "cell_type": "code",
   "execution_count": null,
   "metadata": {},
   "outputs": [],
   "source": [
    "df[\"engine_vol\"].hist(figsize=(14, 8), bins=20, edgecolor='black')"
   ]
  },
  {
   "cell_type": "code",
   "execution_count": null,
   "metadata": {},
   "outputs": [],
   "source": [
    "pd.DataFrame({\"a\": [1, 2, 3, 4], \"b\": [2, 4, 3, 6]})[\"b\"].plot(title=\"Column b\")"
   ]
  },
  {
   "cell_type": "code",
   "execution_count": null,
   "metadata": {},
   "outputs": [],
   "source": [
    "pd.DataFrame({\"a\": [1, 2, 3, 4], \"b\": [2, 4, 3, 6]}).plot(title=\"Column b\", marker='o', kind='scatter', x='a', y='b')"
   ]
  },
  {
   "cell_type": "markdown",
   "metadata": {},
   "source": [
    "## Modyfikacje i transformacje\n",
    "### Zmiana istniejących wartości"
   ]
  },
  {
   "cell_type": "markdown",
   "metadata": {},
   "source": [
    "#### nadpisanie"
   ]
  },
  {
   "cell_type": "code",
   "execution_count": null,
   "metadata": {},
   "outputs": [],
   "source": [
    "df.loc[0, \"engine_vol\"] = 123"
   ]
  },
  {
   "cell_type": "code",
   "execution_count": null,
   "metadata": {},
   "outputs": [],
   "source": [
    "df.head()"
   ]
  },
  {
   "cell_type": "markdown",
   "metadata": {},
   "source": [
    "#### `replace`"
   ]
  },
  {
   "cell_type": "code",
   "execution_count": null,
   "metadata": {},
   "outputs": [],
   "source": [
    "df.replace(\"Diesel\", \"Olej napędowy\")"
   ]
  },
  {
   "cell_type": "code",
   "execution_count": null,
   "metadata": {},
   "outputs": [],
   "source": [
    "df.head()"
   ]
  },
  {
   "cell_type": "code",
   "execution_count": null,
   "metadata": {},
   "outputs": [],
   "source": [
    "df.replace({\"Diesel\": \"Olej napędowy\"})"
   ]
  },
  {
   "cell_type": "code",
   "execution_count": null,
   "metadata": {},
   "outputs": [],
   "source": [
    "df.replace(\"Diesel\", \"Olej napędowy\", inplace=True)"
   ]
  },
  {
   "cell_type": "code",
   "execution_count": null,
   "metadata": {},
   "outputs": [],
   "source": [
    "df.head()"
   ]
  },
  {
   "cell_type": "code",
   "execution_count": null,
   "metadata": {},
   "outputs": [],
   "source": [
    "df[\"drive\"].replace(\"Przód\", \"Przedni\", inplace=True)"
   ]
  },
  {
   "cell_type": "code",
   "execution_count": null,
   "metadata": {},
   "outputs": [],
   "source": [
    "df.head()"
   ]
  },
  {
   "cell_type": "markdown",
   "metadata": {},
   "source": [
    "#### `rename`"
   ]
  },
  {
   "cell_type": "code",
   "execution_count": null,
   "metadata": {},
   "outputs": [],
   "source": [
    "df.rename({'brand': 'marka', 'currency': 'waluta'}, axis='columns')  # axis=1"
   ]
  },
  {
   "cell_type": "code",
   "execution_count": null,
   "metadata": {},
   "outputs": [],
   "source": [
    "df.rename({'brand': 'marka', 'currency': 'waluta'}, inplace=True, axis='columns')"
   ]
  },
  {
   "cell_type": "code",
   "execution_count": null,
   "metadata": {},
   "outputs": [],
   "source": [
    "df.head()"
   ]
  },
  {
   "cell_type": "code",
   "execution_count": null,
   "metadata": {},
   "outputs": [],
   "source": [
    "df.rename({0: -1, 1: 0}, axis='index')  # axis='rows', axis=0"
   ]
  },
  {
   "cell_type": "markdown",
   "metadata": {},
   "source": [
    "#### `fillna`"
   ]
  },
  {
   "cell_type": "code",
   "execution_count": null,
   "metadata": {},
   "outputs": [],
   "source": [
    "df.isna().sum()"
   ]
  },
  {
   "cell_type": "code",
   "execution_count": null,
   "metadata": {},
   "outputs": [],
   "source": [
    "df[df[\"gearbox_is_manual\"].isna()]"
   ]
  },
  {
   "cell_type": "code",
   "execution_count": null,
   "metadata": {},
   "outputs": [],
   "source": [
    "df[\"gearbox_is_manual\"].value_counts(dropna=False)"
   ]
  },
  {
   "cell_type": "code",
   "execution_count": null,
   "metadata": {},
   "outputs": [],
   "source": [
    "df[\"gearbox_is_manual\"].fillna(\"brak danych\", inplace=True)"
   ]
  },
  {
   "cell_type": "code",
   "execution_count": null,
   "metadata": {},
   "outputs": [],
   "source": [
    "df[\"gearbox_is_manual\"].value_counts(dropna=False)"
   ]
  },
  {
   "cell_type": "markdown",
   "metadata": {},
   "source": [
    "#### `dropna`"
   ]
  },
  {
   "cell_type": "code",
   "execution_count": null,
   "metadata": {},
   "outputs": [],
   "source": [
    "df2 = pd.DataFrame({\"a\": [None, None, 4, None], \"b\": [None, 1, 2, None], \"c\": [5, 6, 3, None]})\n",
    "df2"
   ]
  },
  {
   "cell_type": "code",
   "execution_count": null,
   "metadata": {},
   "outputs": [],
   "source": [
    "df2.dropna()"
   ]
  },
  {
   "cell_type": "code",
   "execution_count": null,
   "metadata": {},
   "outputs": [],
   "source": [
    "df2"
   ]
  },
  {
   "cell_type": "code",
   "execution_count": null,
   "metadata": {},
   "outputs": [],
   "source": [
    "df2.dropna(subset=[\"b\", \"c\"])"
   ]
  },
  {
   "cell_type": "code",
   "execution_count": null,
   "metadata": {},
   "outputs": [],
   "source": [
    "df2.dropna(how='all')  # 'any'"
   ]
  },
  {
   "cell_type": "code",
   "execution_count": null,
   "metadata": {},
   "outputs": [],
   "source": [
    "df2"
   ]
  },
  {
   "cell_type": "code",
   "execution_count": null,
   "metadata": {},
   "outputs": [],
   "source": [
    "df2.dropna(inplace=True)"
   ]
  },
  {
   "cell_type": "code",
   "execution_count": null,
   "metadata": {},
   "outputs": [],
   "source": [
    "df2"
   ]
  },
  {
   "cell_type": "markdown",
   "metadata": {},
   "source": [
    "#### `drop`"
   ]
  },
  {
   "cell_type": "code",
   "execution_count": null,
   "metadata": {},
   "outputs": [],
   "source": [
    "df.head()"
   ]
  },
  {
   "cell_type": "code",
   "execution_count": null,
   "metadata": {},
   "outputs": [],
   "source": [
    "df.drop([\"prod_year\"], axis=1)"
   ]
  },
  {
   "cell_type": "code",
   "execution_count": null,
   "metadata": {},
   "outputs": [],
   "source": [
    "\"prod_year\" in df.columns"
   ]
  },
  {
   "cell_type": "code",
   "execution_count": null,
   "metadata": {},
   "outputs": [],
   "source": [
    "df.drop([\"prod_year\"], axis=1, inplace=True)"
   ]
  },
  {
   "cell_type": "code",
   "execution_count": null,
   "metadata": {},
   "outputs": [],
   "source": [
    "\"prod_year\" in df.columns"
   ]
  },
  {
   "cell_type": "code",
   "execution_count": null,
   "metadata": {},
   "outputs": [],
   "source": [
    "df.drop([1, 2], axis=0)  # 'rows'"
   ]
  },
  {
   "cell_type": "markdown",
   "metadata": {},
   "source": [
    "#### `drop_duplicates`"
   ]
  },
  {
   "cell_type": "code",
   "execution_count": null,
   "metadata": {},
   "outputs": [],
   "source": [
    "df_ = pd.DataFrame({\"a\": [1, 2, 2, 3], \"b\": [\"a\", \"b\", \"b\", \"c\"], \"c\": [1.324, 2.2, 2.2, 3.542]})\n",
    "df_"
   ]
  },
  {
   "cell_type": "code",
   "execution_count": null,
   "metadata": {},
   "outputs": [],
   "source": [
    "df_.drop_duplicates()"
   ]
  },
  {
   "cell_type": "code",
   "execution_count": null,
   "metadata": {},
   "outputs": [],
   "source": [
    "df_.drop_duplicates(ignore_index=True)"
   ]
  },
  {
   "cell_type": "code",
   "execution_count": null,
   "metadata": {},
   "outputs": [],
   "source": [
    "df_.drop_duplicates(inplace=True)\n",
    "df_"
   ]
  },
  {
   "cell_type": "markdown",
   "metadata": {},
   "source": [
    "#### `astype`"
   ]
  },
  {
   "cell_type": "code",
   "execution_count": null,
   "metadata": {},
   "outputs": [],
   "source": [
    "df[\"gearbox_is_manual\"]"
   ]
  },
  {
   "cell_type": "code",
   "execution_count": null,
   "metadata": {},
   "outputs": [],
   "source": [
    "df[\"gearbox_is_manual\"].astype(\"bool\")"
   ]
  },
  {
   "cell_type": "code",
   "execution_count": null,
   "metadata": {},
   "outputs": [],
   "source": [
    "df[\"gearbox_is_manual\"]"
   ]
  },
  {
   "cell_type": "markdown",
   "metadata": {},
   "source": [
    "###### Zadanie 1\n",
    "\n",
    "(czas: 2 min.)\n",
    "\n",
    "---\n",
    "\n",
    "Zmień nazwę kolumny `power` na `horsepower`"
   ]
  },
  {
   "cell_type": "code",
   "execution_count": null,
   "metadata": {},
   "outputs": [],
   "source": [
    "# ..."
   ]
  },
  {
   "cell_type": "markdown",
   "metadata": {},
   "source": [
    "###### Zadanie 2\n",
    "\n",
    "(czas: 2 min.)\n",
    "\n",
    "---\n",
    "\n",
    "Zamień wartości \"brak danych\" w kolumnie `gearbox_is_manual` na \"no data\""
   ]
  },
  {
   "cell_type": "code",
   "execution_count": null,
   "metadata": {},
   "outputs": [],
   "source": [
    "# ..."
   ]
  },
  {
   "cell_type": "markdown",
   "metadata": {},
   "source": [
    "###### Zadanie 3\n",
    "\n",
    "(czas: 3 min.)\n",
    "\n",
    "---\n",
    "\n",
    "Utwórz pętlę for po wszystkich kolumnach w df-ie. Jeśli nazwa kolumny ma więcej niż 7 znaków - usuń kolumnę na stałe."
   ]
  },
  {
   "cell_type": "code",
   "execution_count": null,
   "metadata": {},
   "outputs": [],
   "source": [
    "# ..."
   ]
  },
  {
   "cell_type": "markdown",
   "metadata": {},
   "source": [
    "###### Zadanie 4\n",
    "\n",
    "(czas: 2 min.)\n",
    "\n",
    "---\n",
    "\n",
    "Zamień brakujące wartości w całym df-ie na tekst \"b.d.\""
   ]
  },
  {
   "cell_type": "code",
   "execution_count": null,
   "metadata": {},
   "outputs": [],
   "source": [
    "# ..."
   ]
  },
  {
   "cell_type": "markdown",
   "metadata": {},
   "source": [
    "###### Zadanie 5\n",
    "\n",
    "(czas: 1 min.)\n",
    "\n",
    "---\n",
    "\n",
    "Wczytaj od nowa wyjściowy data frame aby nie brakowało żadnych wartości, które zostały usunięte lub podmienione"
   ]
  },
  {
   "cell_type": "code",
   "execution_count": null,
   "metadata": {},
   "outputs": [],
   "source": [
    "# ..."
   ]
  },
  {
   "cell_type": "markdown",
   "metadata": {},
   "source": [
    "### Sortowanie\n",
    "#### `sort_values`"
   ]
  },
  {
   "cell_type": "code",
   "execution_count": null,
   "metadata": {},
   "outputs": [],
   "source": [
    "df.sort_values(\"prod_year\")"
   ]
  },
  {
   "cell_type": "code",
   "execution_count": null,
   "metadata": {},
   "outputs": [],
   "source": [
    "df.sort_values(\"prod_year\")[[\"prod_year\", \"price\"]]"
   ]
  },
  {
   "cell_type": "code",
   "execution_count": null,
   "metadata": {},
   "outputs": [],
   "source": [
    "df.sort_values([\"prod_year\", \"price\"])[[\"prod_year\", \"price\"]]"
   ]
  },
  {
   "cell_type": "code",
   "execution_count": null,
   "metadata": {},
   "outputs": [],
   "source": [
    "df.sort_values([\"prod_year\", \"price\"], ascending=False)[[\"prod_year\", \"price\"]]"
   ]
  },
  {
   "cell_type": "code",
   "execution_count": null,
   "metadata": {},
   "outputs": [],
   "source": [
    "df.sort_values([\"prod_year\", \"price\"], ascending=[False, True])[[\"prod_year\", \"price\"]]"
   ]
  },
  {
   "cell_type": "code",
   "execution_count": null,
   "metadata": {},
   "outputs": [],
   "source": [
    "df.sort_values([\"prod_year\", \"price\"], ignore_index=True)[[\"prod_year\", \"price\"]]"
   ]
  },
  {
   "cell_type": "code",
   "execution_count": null,
   "metadata": {},
   "outputs": [],
   "source": [
    "df.sort_values(\"prod_year\", inplace=True)\n",
    "df.head()"
   ]
  },
  {
   "cell_type": "code",
   "execution_count": null,
   "metadata": {},
   "outputs": [],
   "source": [
    "df.reset_index(drop=True, inplace=True)\n",
    "df.head()"
   ]
  },
  {
   "cell_type": "markdown",
   "metadata": {},
   "source": [
    "#### `sort_index`"
   ]
  },
  {
   "cell_type": "code",
   "execution_count": null,
   "metadata": {},
   "outputs": [],
   "source": [
    "df_ = pd.DataFrame({\"a\": [1, 2, 3, 4]}, index=[1, 0, 3, 2])\n",
    "df_"
   ]
  },
  {
   "cell_type": "code",
   "execution_count": null,
   "metadata": {},
   "outputs": [],
   "source": [
    "df_.sort_index()"
   ]
  },
  {
   "cell_type": "markdown",
   "metadata": {},
   "source": [
    "###### Zadanie 1\n",
    "\n",
    "(czas: 2 min.)\n",
    "\n",
    "---\n",
    "\n",
    "Posortuj malejąco wiersze według wartości w kolumnach `power` oraz `mileage`. Nadpisz dataframe."
   ]
  },
  {
   "cell_type": "code",
   "execution_count": null,
   "metadata": {},
   "outputs": [],
   "source": [
    "# ..."
   ]
  },
  {
   "cell_type": "markdown",
   "metadata": {},
   "source": [
    "###### Zadanie 2\n",
    "\n",
    "(czas: 1 min.)\n",
    "\n",
    "---\n",
    "\n",
    "Posortuj dataframe według rosnącego indeksu. Nadpisz go."
   ]
  },
  {
   "cell_type": "code",
   "execution_count": null,
   "metadata": {},
   "outputs": [],
   "source": [
    "# ..."
   ]
  },
  {
   "cell_type": "markdown",
   "metadata": {},
   "source": [
    "### Tworzenie nowych kolumn"
   ]
  },
  {
   "cell_type": "code",
   "execution_count": null,
   "metadata": {},
   "outputs": [],
   "source": [
    "df = pd.read_csv(\"data/cars.csv\")"
   ]
  },
  {
   "cell_type": "code",
   "execution_count": null,
   "metadata": {},
   "outputs": [],
   "source": [
    "from datetime import datetime\n",
    "\n",
    "current_year = datetime.now().year"
   ]
  },
  {
   "cell_type": "code",
   "execution_count": null,
   "metadata": {},
   "outputs": [],
   "source": [
    "df[\"age\"] = current_year - df[\"prod_year\"]"
   ]
  },
  {
   "cell_type": "code",
   "execution_count": null,
   "metadata": {},
   "outputs": [],
   "source": [
    "df.head()"
   ]
  },
  {
   "cell_type": "code",
   "execution_count": null,
   "metadata": {},
   "outputs": [],
   "source": [
    "df['km_per_year'] = df['mileage'] / df['age']\n",
    "df.head()"
   ]
  },
  {
   "cell_type": "code",
   "execution_count": null,
   "metadata": {},
   "outputs": [],
   "source": [
    "df[\"new_column\"] = pd.Series()\n",
    "df[\"new_column_zeros\"] = pd.Series([0]*len(df))"
   ]
  },
  {
   "cell_type": "code",
   "execution_count": null,
   "metadata": {},
   "outputs": [],
   "source": [
    "df.head()"
   ]
  },
  {
   "cell_type": "markdown",
   "metadata": {},
   "source": [
    "***Dodawanie kolumny na konkretnej pozycji***"
   ]
  },
  {
   "cell_type": "code",
   "execution_count": null,
   "metadata": {},
   "outputs": [],
   "source": [
    "df.head()"
   ]
  },
  {
   "cell_type": "code",
   "execution_count": null,
   "metadata": {},
   "outputs": [],
   "source": [
    "df.insert(3, \"price_twice\", 2*df[\"price\"])"
   ]
  },
  {
   "cell_type": "code",
   "execution_count": null,
   "metadata": {},
   "outputs": [],
   "source": [
    "df.head()"
   ]
  },
  {
   "cell_type": "markdown",
   "metadata": {},
   "source": [
    "###### Zadanie 1\n",
    "\n",
    "(czas: 3 min.)\n",
    "\n",
    "---\n",
    "\n",
    "Utwórz kolumnę `brand_and_body`, która będzie zawierać informacje o marce oraz typie nadwozia jednocześnie"
   ]
  },
  {
   "cell_type": "code",
   "execution_count": null,
   "metadata": {},
   "outputs": [],
   "source": [
    "# ..."
   ]
  },
  {
   "cell_type": "markdown",
   "metadata": {},
   "source": [
    "### Operacje na całych kolumnach"
   ]
  },
  {
   "cell_type": "code",
   "execution_count": null,
   "metadata": {},
   "outputs": [],
   "source": [
    "df[\"power\"].mean()"
   ]
  },
  {
   "cell_type": "code",
   "execution_count": null,
   "metadata": {},
   "outputs": [],
   "source": [
    "np.sqrt(df[\"price\"])"
   ]
  },
  {
   "cell_type": "code",
   "execution_count": null,
   "metadata": {},
   "outputs": [],
   "source": [
    "np.exp(df[\"age\"])"
   ]
  },
  {
   "cell_type": "markdown",
   "metadata": {},
   "source": [
    "***`apply`***\n",
    "\n",
    "Do wywoływania bardziej złożonych funkcji na wszystkich elementach kolumny służy metoda `apply`, którą często łączymy z wyrażeniami `lambda`  "
   ]
  },
  {
   "cell_type": "code",
   "execution_count": null,
   "metadata": {},
   "outputs": [],
   "source": [
    "df[\"prod_year\"]"
   ]
  },
  {
   "cell_type": "code",
   "execution_count": null,
   "metadata": {},
   "outputs": [],
   "source": [
    "df[\"prod_year\"].apply(np.sqrt)"
   ]
  },
  {
   "cell_type": "code",
   "execution_count": null,
   "metadata": {},
   "outputs": [],
   "source": [
    "def check_if_is_new(x):\n",
    "    if datetime.now().year == x:\n",
    "        return True\n",
    "    else:\n",
    "        return False"
   ]
  },
  {
   "cell_type": "code",
   "execution_count": null,
   "metadata": {},
   "outputs": [],
   "source": [
    "df[\"prod_year\"].apply(check_if_is_new)   #.value_counts()"
   ]
  },
  {
   "cell_type": "markdown",
   "metadata": {},
   "source": [
    "---"
   ]
  },
  {
   "cell_type": "code",
   "execution_count": null,
   "metadata": {
    "scrolled": true
   },
   "outputs": [],
   "source": [
    "df['is_new'] = df['prod_year'].apply(lambda x: datetime.now().year == x)\n",
    "\n",
    "df[[\"is_new\", \"prod_year\"]].head(15)"
   ]
  },
  {
   "cell_type": "markdown",
   "metadata": {},
   "source": [
    "***`apply` na całym df-ie***"
   ]
  },
  {
   "cell_type": "code",
   "execution_count": null,
   "metadata": {},
   "outputs": [],
   "source": [
    "def check_if_is_new_advanced(row):\n",
    "    return int(row[\"offer_timestamp\"][:4]) == row[\"prod_year\"]"
   ]
  },
  {
   "cell_type": "code",
   "execution_count": null,
   "metadata": {},
   "outputs": [],
   "source": [
    "df.apply(check_if_is_new_advanced, axis=1)"
   ]
  },
  {
   "cell_type": "code",
   "execution_count": null,
   "metadata": {},
   "outputs": [],
   "source": [
    "df.apply(check_if_is_new_advanced, axis=1).value_counts()"
   ]
  },
  {
   "cell_type": "markdown",
   "metadata": {},
   "source": [
    "***`apply` + funkcja z argumentami***"
   ]
  },
  {
   "cell_type": "code",
   "execution_count": null,
   "metadata": {},
   "outputs": [],
   "source": [
    "pd.Series([1.14242, 4.6254, 2, 2.54343])  #.apply(round, args=(2,))"
   ]
  },
  {
   "cell_type": "markdown",
   "metadata": {},
   "source": [
    "###### Zadanie 1\n",
    "\n",
    "(czas: 3 min.)\n",
    "\n",
    "---\n",
    "\n",
    "Za pomocą `apply` utwórz kolumnę `brand_short`, która będzie przechowywać pierwszą literę wartości z kolumny `brand` "
   ]
  },
  {
   "cell_type": "code",
   "execution_count": null,
   "metadata": {},
   "outputs": [],
   "source": [
    "# ..."
   ]
  },
  {
   "cell_type": "markdown",
   "metadata": {},
   "source": [
    "###### Zadanie 2\n",
    "\n",
    "(czas: 3 min.)\n",
    "\n",
    "---\n",
    "\n",
    "Za pomocą `apply` utwórz kolumnę `power_twice`, która będzie zawierać przemnożoną przez 2 moc pojazdu"
   ]
  },
  {
   "cell_type": "code",
   "execution_count": null,
   "metadata": {},
   "outputs": [],
   "source": [
    "# ..."
   ]
  },
  {
   "cell_type": "markdown",
   "metadata": {},
   "source": [
    "###### Zadanie 3\n",
    "\n",
    "(czas: 6 min.)\n",
    "\n",
    "---\n",
    "\n",
    "Utwórz kolumnę `prod_year_after_2010` która będzie zawierać `True` jeśli data produkcji jest późniejsza niż 2010 albo `False` w przeciwnym wypadku. Niech ta kolumna będzie na pozycji o indeksie 1"
   ]
  },
  {
   "cell_type": "code",
   "execution_count": null,
   "metadata": {},
   "outputs": [],
   "source": [
    "# ..."
   ]
  },
  {
   "cell_type": "markdown",
   "metadata": {},
   "source": [
    "## Pozostałe operacje na dataframe'ach\n",
    "### Grupowanie i agregacja"
   ]
  },
  {
   "cell_type": "code",
   "execution_count": null,
   "metadata": {},
   "outputs": [],
   "source": [
    "df = pd.read_csv(\"data/cars.csv\")"
   ]
  },
  {
   "cell_type": "code",
   "execution_count": null,
   "metadata": {},
   "outputs": [],
   "source": [
    "df.groupby(\"fuel\")"
   ]
  },
  {
   "cell_type": "code",
   "execution_count": null,
   "metadata": {},
   "outputs": [],
   "source": [
    "df.groupby(\"fuel\").count()"
   ]
  },
  {
   "cell_type": "code",
   "execution_count": null,
   "metadata": {},
   "outputs": [],
   "source": [
    "df.groupby(\"fuel\").mean(numeric_only=True)"
   ]
  },
  {
   "cell_type": "code",
   "execution_count": null,
   "metadata": {},
   "outputs": [],
   "source": [
    "df.groupby([\"fuel\", \"drive\"]).mean(numeric_only=True)"
   ]
  },
  {
   "cell_type": "code",
   "execution_count": null,
   "metadata": {},
   "outputs": [],
   "source": [
    "df.groupby(\"fuel\").agg('mean', numeric_only=True)"
   ]
  },
  {
   "cell_type": "markdown",
   "metadata": {},
   "source": [
    "### Łączenie tabel"
   ]
  },
  {
   "cell_type": "code",
   "execution_count": null,
   "metadata": {},
   "outputs": [],
   "source": [
    "s1 = pd.Series(['a', 'b'])\n",
    "s2 = pd.Series(['c', 'd'])"
   ]
  },
  {
   "cell_type": "code",
   "execution_count": null,
   "metadata": {},
   "outputs": [],
   "source": [
    "s1"
   ]
  },
  {
   "cell_type": "code",
   "execution_count": null,
   "metadata": {},
   "outputs": [],
   "source": [
    "s2"
   ]
  },
  {
   "cell_type": "code",
   "execution_count": null,
   "metadata": {},
   "outputs": [],
   "source": [
    "pd.concat([s1, s2])"
   ]
  },
  {
   "cell_type": "code",
   "execution_count": null,
   "metadata": {},
   "outputs": [],
   "source": [
    "pd.concat([s1, s2], ignore_index=True)"
   ]
  },
  {
   "cell_type": "markdown",
   "metadata": {},
   "source": [
    "---"
   ]
  },
  {
   "cell_type": "code",
   "execution_count": null,
   "metadata": {},
   "outputs": [],
   "source": [
    "df1 = pd.DataFrame([['a', 1], ['b', 2]], columns=['letter', 'number'])\n",
    "df2 = pd.DataFrame([['c', 3], ['d', 4]], columns=['letter', 'number'])"
   ]
  },
  {
   "cell_type": "code",
   "execution_count": null,
   "metadata": {},
   "outputs": [],
   "source": [
    "df1"
   ]
  },
  {
   "cell_type": "code",
   "execution_count": null,
   "metadata": {},
   "outputs": [],
   "source": [
    "df2"
   ]
  },
  {
   "cell_type": "code",
   "execution_count": null,
   "metadata": {},
   "outputs": [],
   "source": [
    "pd.concat([df1, df2])"
   ]
  },
  {
   "cell_type": "code",
   "execution_count": null,
   "metadata": {},
   "outputs": [],
   "source": [
    "pd.concat([df1, df2], axis=1)"
   ]
  },
  {
   "cell_type": "code",
   "execution_count": null,
   "metadata": {},
   "outputs": [],
   "source": [
    "pd.concat([df1, df2], axis=0)"
   ]
  },
  {
   "cell_type": "code",
   "execution_count": null,
   "metadata": {},
   "outputs": [],
   "source": [
    "pd.concat([df1, df2], ignore_index=True)"
   ]
  },
  {
   "cell_type": "markdown",
   "metadata": {},
   "source": [
    "### Wczytywanie dużych zbiorów danych"
   ]
  },
  {
   "cell_type": "code",
   "execution_count": null,
   "metadata": {},
   "outputs": [],
   "source": [
    "for chunk in pd.read_csv(\"data/cars.csv\", chunksize=10000):\n",
    "    print(chunk.shape)"
   ]
  },
  {
   "cell_type": "code",
   "execution_count": null,
   "metadata": {},
   "outputs": [],
   "source": [
    "chunk"
   ]
  },
  {
   "cell_type": "markdown",
   "metadata": {},
   "source": [
    "### Typ datetime"
   ]
  },
  {
   "cell_type": "code",
   "execution_count": null,
   "metadata": {},
   "outputs": [],
   "source": [
    "df[\"offer_timestamp\"]"
   ]
  },
  {
   "cell_type": "code",
   "execution_count": null,
   "metadata": {},
   "outputs": [],
   "source": [
    "offer_timestamp = pd.to_datetime(df[\"offer_timestamp\"])"
   ]
  },
  {
   "cell_type": "code",
   "execution_count": null,
   "metadata": {},
   "outputs": [],
   "source": [
    "offer_timestamp"
   ]
  },
  {
   "cell_type": "code",
   "execution_count": null,
   "metadata": {},
   "outputs": [],
   "source": [
    "offer_timestamp.iloc[0]"
   ]
  },
  {
   "cell_type": "code",
   "execution_count": null,
   "metadata": {},
   "outputs": [],
   "source": [
    "print(offer_timestamp.iloc[0].year)\n",
    "print(offer_timestamp.iloc[0].month)\n",
    "print(offer_timestamp.iloc[0].day)\n",
    "print(offer_timestamp.iloc[0].hour)\n",
    "print(offer_timestamp.iloc[0].minute)\n",
    "print(offer_timestamp.iloc[0].second)\n",
    "print(offer_timestamp.iloc[0].weekday())  # 0 - monday, 6 - sunday"
   ]
  }
 ],
 "metadata": {
  "kernelspec": {
   "display_name": "Python 3 (ipykernel)",
   "language": "python",
   "name": "python3"
  },
  "language_info": {
   "codemirror_mode": {
    "name": "ipython",
    "version": 3
   },
   "file_extension": ".py",
   "mimetype": "text/x-python",
   "name": "python",
   "nbconvert_exporter": "python",
   "pygments_lexer": "ipython3",
   "version": "3.12.5"
  },
  "toc": {
   "base_numbering": 1,
   "nav_menu": {},
   "number_sections": true,
   "sideBar": true,
   "skip_h1_title": true,
   "title_cell": "Table of Contents",
   "title_sidebar": "Contents",
   "toc_cell": false,
   "toc_position": {
    "height": "calc(100% - 180px)",
    "left": "10px",
    "top": "150px",
    "width": "257.2px"
   },
   "toc_section_display": true,
   "toc_window_display": false
  },
  "varInspector": {
   "cols": {
    "lenName": 16,
    "lenType": 16,
    "lenVar": 40
   },
   "kernels_config": {
    "python": {
     "delete_cmd_postfix": "",
     "delete_cmd_prefix": "del ",
     "library": "var_list.py",
     "varRefreshCmd": "print(var_dic_list())"
    },
    "r": {
     "delete_cmd_postfix": ") ",
     "delete_cmd_prefix": "rm(",
     "library": "var_list.r",
     "varRefreshCmd": "cat(var_dic_list()) "
    }
   },
   "types_to_exclude": [
    "module",
    "function",
    "builtin_function_or_method",
    "instance",
    "_Feature"
   ],
   "window_display": false
  }
 },
 "nbformat": 4,
 "nbformat_minor": 4
}
