{
 "cells": [
  {
   "cell_type": "code",
   "execution_count": null,
   "id": "acc7a01f",
   "metadata": {},
   "outputs": [],
   "source": [
    "from IPython.display import display, HTML;  display(HTML('<style>.container { width:90% !important; }</style>'))"
   ]
  },
  {
   "cell_type": "markdown",
   "id": "17fe58bf",
   "metadata": {},
   "source": [
    "# Model orbitowania grawitacyjnego"
   ]
  },
  {
   "cell_type": "markdown",
   "id": "8b59838d",
   "metadata": {},
   "source": [
    "Zamodeluj ruch ciała niebieskiego po orbicie. Oznaczenia:\n",
    "- $M$ - masa dużego ciała\n",
    "- $m$ - masa małego ciała\n",
    "- $G$ - stała grawitacyjna\n",
    "- $r$ - odległość między ciałami\n",
    "- $v_{0,x}$ - początkowa prędkość w kierunku $x$\n",
    "- $v_{0,y}$ - początkowa prędkość w kierunku $y$\n",
    "- $x_{0}$ - początkowe położenie wzdłuż osi $x$\n",
    "- $y_{0}$ - początkowe położenie wzdłuż osi $y$\n",
    "\n",
    "\n",
    "\n",
    "Przyjmij następujące założenia:\n",
    "\n",
    "$$\n",
    "M = 10^{14}\n",
    "\\newline\n",
    "m = 1\n",
    "\\newline\n",
    "G = 6.67 \\cdot 10^{-11}\n",
    "\\newline\n",
    "v_{0,x} = 0\n",
    "\\newline\n",
    "v_{0,y} = 10\n",
    "\\newline\n",
    "x_{0} = 100\n",
    "\\newline\n",
    "y_{0} = 0\n",
    "$$\n",
    "\n",
    "Do tego początkowe położenie dużego ciała to $(0, 0)$. Przyjmij że pomimo wzajemności oddziaływania grawitacyjnego nie będzie ono się poruszać.\n",
    "\n",
    "Wzór na wartość siły grawitacji to:\n",
    "\n",
    "$$\n",
    "F = G\\cdot \\dfrac{m \\cdot M}{r^2}\n",
    "$$\n",
    "\n",
    "Zapisując $\\vec{F}$ czyli $\\vec{a} \\cdot m$ jako $[\\dfrac{d^2\\vec{x}}{dt^2}, \\dfrac{d^2\\vec{y}}{dt^2}] \\cdot m$ a następnie zamieniając zapis różniczkowy na różnicowy finalnie otrzymujemy następujące wzory na wartość prędkości dla poszczególnych składowych w iteracji $t+1$:\n",
    "\n",
    "$v_{x, t+1} = v_{x, t} + \\dfrac{G\\cdot M \\cdot x \\cdot \\Delta t}{r^3}$\n",
    "\n",
    "$v_{y, t+1} = v_{y, t} + \\dfrac{G\\cdot M \\cdot y \\cdot \\Delta t}{r^3}$\n",
    "\n",
    "oraz wzory na położenie:\n",
    "\n",
    "$x_{t+1} = x_t + v_{x, t+1}\\cdot \\Delta t$\n",
    "\n",
    "$y_{t+1} = y_t + v_{y, t+1}\\cdot \\Delta t$\n",
    "\n",
    "Można założyć że $\\Delta t = 1$. Następnie dla dowolnej liczby iteracji czasowych - np. 500 - zamodeluj ruch tego ciała po orbicie.\n",
    "\n",
    "W każdej iteracji narysuj wykres położenia obu ciał. Użyj funkcji `plt.pause()` aby na chwilę zatrzymać wyświetlanie kolejnych klatek wykresu.\n",
    "\n",
    "Zapisz kod do pliku .py i uruchom go w ten sposób a nie w notebooku."
   ]
  },
  {
   "cell_type": "code",
   "execution_count": null,
   "id": "425a78e5",
   "metadata": {},
   "outputs": [],
   "source": [
    "# Importy\n",
    "# ...\n",
    "\n",
    "\n",
    "# Definicja zmiennych, w tym wartości początkowych\n",
    "# ...\n",
    "\n",
    "# Pętla for, która wykona się 500 razy\n",
    "# Wewnątrz pętli należy wyliczyć nowe prędkości i położenia oraz wyświetlić wykres\n",
    "# ...\n"
   ]
  }
 ],
 "metadata": {
  "kernelspec": {
   "display_name": "Python 3 (ipykernel)",
   "language": "python",
   "name": "python3"
  },
  "language_info": {
   "codemirror_mode": {
    "name": "ipython",
    "version": 3
   },
   "file_extension": ".py",
   "mimetype": "text/x-python",
   "name": "python",
   "nbconvert_exporter": "python",
   "pygments_lexer": "ipython3",
   "version": "3.12.5"
  },
  "toc": {
   "base_numbering": 1,
   "nav_menu": {},
   "number_sections": true,
   "sideBar": true,
   "skip_h1_title": true,
   "title_cell": "Table of Contents",
   "title_sidebar": "Contents",
   "toc_cell": false,
   "toc_position": {},
   "toc_section_display": true,
   "toc_window_display": false
  },
  "varInspector": {
   "cols": {
    "lenName": 16,
    "lenType": 16,
    "lenVar": 40
   },
   "kernels_config": {
    "python": {
     "delete_cmd_postfix": "",
     "delete_cmd_prefix": "del ",
     "library": "var_list.py",
     "varRefreshCmd": "print(var_dic_list())"
    },
    "r": {
     "delete_cmd_postfix": ") ",
     "delete_cmd_prefix": "rm(",
     "library": "var_list.r",
     "varRefreshCmd": "cat(var_dic_list()) "
    }
   },
   "types_to_exclude": [
    "module",
    "function",
    "builtin_function_or_method",
    "instance",
    "_Feature"
   ],
   "window_display": false
  }
 },
 "nbformat": 4,
 "nbformat_minor": 5
}
