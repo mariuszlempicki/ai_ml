{
 "cells": [
  {
   "cell_type": "code",
   "execution_count": 2,
   "id": "a1ac7b4a-037b-471f-b7f9-d83be5a2a8dd",
   "metadata": {},
   "outputs": [],
   "source": [
    "import numpy as np"
   ]
  },
  {
   "cell_type": "code",
   "execution_count": 10,
   "id": "921c0673-8ede-4529-b5ca-d6d3771ed4a8",
   "metadata": {},
   "outputs": [],
   "source": [
    "x = np.array([1 ,2 , np.nan, 4, np.nan])"
   ]
  },
  {
   "cell_type": "code",
   "execution_count": 12,
   "id": "5c8615a8-ee5a-43b4-b7c0-6198dceadaed",
   "metadata": {},
   "outputs": [
    {
     "data": {
      "text/plain": [
       "array([ 1.,  2., nan,  4., nan])"
      ]
     },
     "execution_count": 12,
     "metadata": {},
     "output_type": "execute_result"
    }
   ],
   "source": [
    "x"
   ]
  },
  {
   "cell_type": "code",
   "execution_count": 14,
   "id": "30b12fe9-e5cd-488e-b003-e803e4230889",
   "metadata": {},
   "outputs": [
    {
     "data": {
      "text/plain": [
       "array([False, False,  True, False,  True])"
      ]
     },
     "execution_count": 14,
     "metadata": {},
     "output_type": "execute_result"
    }
   ],
   "source": [
    "np.isnan(x)"
   ]
  },
  {
   "cell_type": "code",
   "execution_count": 16,
   "id": "e90e8098-7b9a-4e5f-aa46-f8997e6e9da3",
   "metadata": {},
   "outputs": [
    {
     "data": {
      "text/plain": [
       "2"
      ]
     },
     "execution_count": 16,
     "metadata": {},
     "output_type": "execute_result"
    }
   ],
   "source": [
    "np.sum(np.isnan(x))"
   ]
  },
  {
   "cell_type": "code",
   "execution_count": 18,
   "id": "d700a8a1-2281-41dc-8f70-fc8a30c854e8",
   "metadata": {},
   "outputs": [
    {
     "data": {
      "text/plain": [
       "nan"
      ]
     },
     "execution_count": 18,
     "metadata": {},
     "output_type": "execute_result"
    }
   ],
   "source": [
    "np.sum(x)"
   ]
  },
  {
   "cell_type": "code",
   "execution_count": 20,
   "id": "433f4251-ea46-4609-9c35-fdfcdfe91d1c",
   "metadata": {},
   "outputs": [],
   "source": [
    "not_nan = x[~np.isnan(x)]"
   ]
  },
  {
   "cell_type": "code",
   "execution_count": 22,
   "id": "e2bee097-3cb6-4e05-95dc-ac9ab2c33df1",
   "metadata": {},
   "outputs": [
    {
     "data": {
      "text/plain": [
       "7.0"
      ]
     },
     "execution_count": 22,
     "metadata": {},
     "output_type": "execute_result"
    }
   ],
   "source": [
    "np.sum(not_nan)"
   ]
  },
  {
   "cell_type": "code",
   "execution_count": null,
   "id": "efa489d3-dcd0-4cfa-b2f1-debaeae85904",
   "metadata": {},
   "outputs": [],
   "source": []
  }
 ],
 "metadata": {
  "kernelspec": {
   "display_name": "Python 3 (ipykernel)",
   "language": "python",
   "name": "python3"
  },
  "language_info": {
   "codemirror_mode": {
    "name": "ipython",
    "version": 3
   },
   "file_extension": ".py",
   "mimetype": "text/x-python",
   "name": "python",
   "nbconvert_exporter": "python",
   "pygments_lexer": "ipython3",
   "version": "3.12.4"
  }
 },
 "nbformat": 4,
 "nbformat_minor": 5
}
