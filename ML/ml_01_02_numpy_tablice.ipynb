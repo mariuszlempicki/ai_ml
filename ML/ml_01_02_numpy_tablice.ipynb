{
 "cells": [
  {
   "cell_type": "code",
   "execution_count": 1,
   "id": "38e4c4eb-4b44-4c45-8dbf-68afc598ac49",
   "metadata": {},
   "outputs": [],
   "source": [
    "import numpy as np"
   ]
  },
  {
   "cell_type": "code",
   "execution_count": 3,
   "id": "26548baf-9477-40e1-bb5f-e70cc2595071",
   "metadata": {},
   "outputs": [],
   "source": [
    "list = [1,2,3,4]"
   ]
  },
  {
   "cell_type": "code",
   "execution_count": 5,
   "id": "253cd6a9-7d37-4c8b-8714-6c1340118875",
   "metadata": {},
   "outputs": [
    {
     "data": {
      "text/plain": [
       "array([1, 2, 3, 4])"
      ]
     },
     "execution_count": 5,
     "metadata": {},
     "output_type": "execute_result"
    }
   ],
   "source": [
    "np.array(list)"
   ]
  },
  {
   "cell_type": "code",
   "execution_count": 7,
   "id": "7cb24ce3-0e0c-4032-9fbf-145cbbae5e4a",
   "metadata": {},
   "outputs": [],
   "source": [
    "list_text = [\"a\", \"b\"]"
   ]
  },
  {
   "cell_type": "code",
   "execution_count": 9,
   "id": "b6b6820e-91bf-46b7-827d-32199e9e4660",
   "metadata": {},
   "outputs": [
    {
     "data": {
      "text/plain": [
       "array(['a', 'b'], dtype='<U1')"
      ]
     },
     "execution_count": 9,
     "metadata": {},
     "output_type": "execute_result"
    }
   ],
   "source": [
    "np.array(list_text)"
   ]
  },
  {
   "cell_type": "code",
   "execution_count": 11,
   "id": "493b3af5-1a8d-4c2c-865e-be084b8c26d7",
   "metadata": {},
   "outputs": [],
   "source": [
    "list_text_2 = [\"a\", 1, True]"
   ]
  },
  {
   "cell_type": "code",
   "execution_count": 13,
   "id": "af36027e-8ac5-4de0-b0a5-5d6dbe4cb07d",
   "metadata": {},
   "outputs": [
    {
     "data": {
      "text/plain": [
       "array(['a', '1', 'True'], dtype='<U11')"
      ]
     },
     "execution_count": 13,
     "metadata": {},
     "output_type": "execute_result"
    }
   ],
   "source": [
    "np.array(list_text_2)"
   ]
  },
  {
   "cell_type": "code",
   "execution_count": 15,
   "id": "1b1977f6-ee6e-4aaf-9700-0948c97420e5",
   "metadata": {},
   "outputs": [],
   "source": [
    "x = np.array([0, 1, 2, 3, 4])"
   ]
  },
  {
   "cell_type": "code",
   "execution_count": 17,
   "id": "a6bf8ecd-7d09-4975-a7de-7b6a3cc9afee",
   "metadata": {},
   "outputs": [
    {
     "data": {
      "text/plain": [
       "2"
      ]
     },
     "execution_count": 17,
     "metadata": {},
     "output_type": "execute_result"
    }
   ],
   "source": [
    "x[2]"
   ]
  },
  {
   "cell_type": "code",
   "execution_count": 19,
   "id": "2efb8368-f76a-4ab7-9453-b9f0a05abe1b",
   "metadata": {},
   "outputs": [
    {
     "data": {
      "text/plain": [
       "4"
      ]
     },
     "execution_count": 19,
     "metadata": {},
     "output_type": "execute_result"
    }
   ],
   "source": [
    "x[-1]"
   ]
  },
  {
   "cell_type": "code",
   "execution_count": 21,
   "id": "7d835bbf-edbc-40b9-a0c7-ba9fbf952ea6",
   "metadata": {},
   "outputs": [
    {
     "data": {
      "text/plain": [
       "array([1, 2])"
      ]
     },
     "execution_count": 21,
     "metadata": {},
     "output_type": "execute_result"
    }
   ],
   "source": [
    "x[1:3]"
   ]
  },
  {
   "cell_type": "code",
   "execution_count": 23,
   "id": "3816ca25-fbed-4624-a2b2-5439701b23e5",
   "metadata": {},
   "outputs": [
    {
     "data": {
      "text/plain": [
       "array([0, 1])"
      ]
     },
     "execution_count": 23,
     "metadata": {},
     "output_type": "execute_result"
    }
   ],
   "source": [
    "x[:2]"
   ]
  },
  {
   "cell_type": "code",
   "execution_count": 25,
   "id": "2cb89668-835a-43d7-a63d-cf32506bf91c",
   "metadata": {},
   "outputs": [
    {
     "data": {
      "text/plain": [
       "array([2, 3, 4])"
      ]
     },
     "execution_count": 25,
     "metadata": {},
     "output_type": "execute_result"
    }
   ],
   "source": [
    "x[2:]"
   ]
  },
  {
   "cell_type": "code",
   "execution_count": 27,
   "id": "e60adc4d-9595-45b7-adbd-6dd6d044ff24",
   "metadata": {},
   "outputs": [
    {
     "data": {
      "text/plain": [
       "array([2, 0, 3])"
      ]
     },
     "execution_count": 27,
     "metadata": {},
     "output_type": "execute_result"
    }
   ],
   "source": [
    "x[[2,0,3]]"
   ]
  },
  {
   "cell_type": "code",
   "execution_count": 29,
   "id": "4ee13acf-027a-4520-b468-3997fad74c03",
   "metadata": {},
   "outputs": [
    {
     "data": {
      "text/plain": [
       "array([2, 0, 3])"
      ]
     },
     "execution_count": 29,
     "metadata": {},
     "output_type": "execute_result"
    }
   ],
   "source": [
    "x[np.array([2,0,3])]"
   ]
  },
  {
   "cell_type": "code",
   "execution_count": 33,
   "id": "ed755bbd-9eee-470f-97c8-52ace3513ad8",
   "metadata": {},
   "outputs": [
    {
     "data": {
      "text/plain": [
       "array([0, 2, 4])"
      ]
     },
     "execution_count": 33,
     "metadata": {},
     "output_type": "execute_result"
    }
   ],
   "source": [
    "x[[True, False, True, False, True]]"
   ]
  },
  {
   "cell_type": "code",
   "execution_count": 35,
   "id": "b441f28f-a699-4d2d-81f4-1a5a77aabfa0",
   "metadata": {},
   "outputs": [],
   "source": [
    "x[2] = 20"
   ]
  },
  {
   "cell_type": "code",
   "execution_count": 37,
   "id": "6c96350d-d3fb-4d4a-9d0e-1f338771106a",
   "metadata": {},
   "outputs": [
    {
     "data": {
      "text/plain": [
       "array([ 0,  1, 20,  3,  4])"
      ]
     },
     "execution_count": 37,
     "metadata": {},
     "output_type": "execute_result"
    }
   ],
   "source": [
    "x"
   ]
  },
  {
   "cell_type": "code",
   "execution_count": 39,
   "id": "fd3c05db-2605-48e2-84a4-8f616e38371f",
   "metadata": {},
   "outputs": [
    {
     "data": {
      "text/plain": [
       "array([  0,   1, 200, 300,   4])"
      ]
     },
     "execution_count": 39,
     "metadata": {},
     "output_type": "execute_result"
    }
   ],
   "source": [
    "x[2:4] = [200, 300]\n",
    "x"
   ]
  },
  {
   "cell_type": "code",
   "execution_count": 41,
   "id": "93d58221-5d9f-4892-a0c3-a4d259d26dbb",
   "metadata": {},
   "outputs": [
    {
     "data": {
      "text/plain": [
       "array([   0, 1000, 1000, 1000,    4])"
      ]
     },
     "execution_count": 41,
     "metadata": {},
     "output_type": "execute_result"
    }
   ],
   "source": [
    "x[1:4] = 1000\n",
    "x"
   ]
  },
  {
   "cell_type": "code",
   "execution_count": null,
   "id": "08c8e928-819f-4119-b4e9-150732621792",
   "metadata": {},
   "outputs": [],
   "source": []
  }
 ],
 "metadata": {
  "kernelspec": {
   "display_name": "Python 3 (ipykernel)",
   "language": "python",
   "name": "python3"
  },
  "language_info": {
   "codemirror_mode": {
    "name": "ipython",
    "version": 3
   },
   "file_extension": ".py",
   "mimetype": "text/x-python",
   "name": "python",
   "nbconvert_exporter": "python",
   "pygments_lexer": "ipython3",
   "version": "3.12.4"
  }
 },
 "nbformat": 4,
 "nbformat_minor": 5
}
