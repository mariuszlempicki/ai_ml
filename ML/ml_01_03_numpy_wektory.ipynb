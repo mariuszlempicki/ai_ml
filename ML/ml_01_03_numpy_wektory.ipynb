{
 "cells": [
  {
   "cell_type": "code",
   "execution_count": 1,
   "id": "8fe0d362-4483-476a-8d1c-5e9c46f7f7a4",
   "metadata": {},
   "outputs": [],
   "source": [
    "import numpy as np"
   ]
  },
  {
   "cell_type": "code",
   "execution_count": 2,
   "id": "7ec7033c-6a5e-4d9a-b6e5-7ebdfd273cdd",
   "metadata": {},
   "outputs": [],
   "source": [
    "x = np.array([0, 1, 2, 3, 4])"
   ]
  },
  {
   "cell_type": "code",
   "execution_count": 3,
   "id": "020718be-fd3f-43ce-9633-13cfc9bc6a23",
   "metadata": {},
   "outputs": [],
   "source": [
    "y = np.array([0, 10, 20, 30, 40])"
   ]
  },
  {
   "cell_type": "code",
   "execution_count": 4,
   "id": "32fb8890-477f-474a-9e42-e8b12c131840",
   "metadata": {},
   "outputs": [
    {
     "data": {
      "text/plain": [
       "array([ 0, 11, 22, 33, 44])"
      ]
     },
     "execution_count": 4,
     "metadata": {},
     "output_type": "execute_result"
    }
   ],
   "source": [
    "x + y"
   ]
  },
  {
   "cell_type": "code",
   "execution_count": 5,
   "id": "cb93abb0-1132-4814-a375-bc43245eede4",
   "metadata": {},
   "outputs": [
    {
     "data": {
      "text/plain": [
       "array([  0,  10,  40,  90, 160])"
      ]
     },
     "execution_count": 5,
     "metadata": {},
     "output_type": "execute_result"
    }
   ],
   "source": [
    "x * y"
   ]
  },
  {
   "cell_type": "code",
   "execution_count": 6,
   "id": "5cd6de9e-5415-4478-a3f2-8190fe465214",
   "metadata": {},
   "outputs": [
    {
     "data": {
      "text/plain": [
       "array([100, 101, 102, 103, 104])"
      ]
     },
     "execution_count": 6,
     "metadata": {},
     "output_type": "execute_result"
    }
   ],
   "source": [
    "x + 100"
   ]
  },
  {
   "cell_type": "code",
   "execution_count": 7,
   "id": "ac2c7d4e-32d2-4c3d-b279-1cd229a88693",
   "metadata": {},
   "outputs": [
    {
     "ename": "ValueError",
     "evalue": "operands could not be broadcast together with shapes (5,) (2,) ",
     "output_type": "error",
     "traceback": [
      "\u001b[1;31m---------------------------------------------------------------------------\u001b[0m",
      "\u001b[1;31mValueError\u001b[0m                                Traceback (most recent call last)",
      "Cell \u001b[1;32mIn[7], line 1\u001b[0m\n\u001b[1;32m----> 1\u001b[0m x \u001b[38;5;241m+\u001b[39m np\u001b[38;5;241m.\u001b[39marray([\u001b[38;5;241m1\u001b[39m,\u001b[38;5;241m2\u001b[39m])\n",
      "\u001b[1;31mValueError\u001b[0m: operands could not be broadcast together with shapes (5,) (2,) "
     ]
    }
   ],
   "source": [
    "x + np.array([1,2])"
   ]
  },
  {
   "cell_type": "code",
   "execution_count": 14,
   "id": "014aa4fe-a293-4a0f-8caa-76effcbd0ba8",
   "metadata": {},
   "outputs": [
    {
     "name": "stdout",
     "output_type": "stream",
     "text": [
      "[ 0  9 18 27 36]\n"
     ]
    },
    {
     "data": {
      "text/plain": [
       "18.0"
      ]
     },
     "execution_count": 14,
     "metadata": {},
     "output_type": "execute_result"
    }
   ],
   "source": [
    "# średnia różnica między elementami tablic x i y\n",
    "print(np.abs(x - y))\n",
    "np.mean(np.abs(x - y))"
   ]
  },
  {
   "cell_type": "code",
   "execution_count": 16,
   "id": "04ddcd7f-224f-4686-9d37-74c11a1d7f10",
   "metadata": {},
   "outputs": [
    {
     "name": "stdout",
     "output_type": "stream",
     "text": [
      "[   0   81  324  729 1296]\n"
     ]
    },
    {
     "data": {
      "text/plain": [
       "2430"
      ]
     },
     "execution_count": 16,
     "metadata": {},
     "output_type": "execute_result"
    }
   ],
   "source": [
    "# suma kwadratów różnic\n",
    "print((x - y)**2)\n",
    "np.sum((x - y)**2)"
   ]
  },
  {
   "cell_type": "code",
   "execution_count": 18,
   "id": "ab0b8759-2807-465f-bb54-0f9e575c4f63",
   "metadata": {},
   "outputs": [
    {
     "data": {
      "text/plain": [
       "array([0.        , 1.        , 1.41421356, 1.73205081, 2.        ])"
      ]
     },
     "execution_count": 18,
     "metadata": {},
     "output_type": "execute_result"
    }
   ],
   "source": [
    "np.sqrt(x)"
   ]
  },
  {
   "cell_type": "code",
   "execution_count": 20,
   "id": "f26edc7e-d5c1-44de-b8f1-d10827c33607",
   "metadata": {},
   "outputs": [
    {
     "data": {
      "text/plain": [
       "array([0, 1, 2, 3, 4])"
      ]
     },
     "execution_count": 20,
     "metadata": {},
     "output_type": "execute_result"
    }
   ],
   "source": [
    "x"
   ]
  },
  {
   "cell_type": "code",
   "execution_count": 22,
   "id": "6a72e228-ca84-468f-8f03-8debeb297e40",
   "metadata": {},
   "outputs": [
    {
     "data": {
      "text/plain": [
       "array([ 0,  1,  8, 27, 64], dtype=int32)"
      ]
     },
     "execution_count": 22,
     "metadata": {},
     "output_type": "execute_result"
    }
   ],
   "source": [
    "np.power(x, 3)"
   ]
  },
  {
   "cell_type": "code",
   "execution_count": 24,
   "id": "76d8edf5-fe0b-46d3-a192-1485b7de86cc",
   "metadata": {},
   "outputs": [
    {
     "data": {
      "text/plain": [
       "array([ 0,  1,  8, 27,  1])"
      ]
     },
     "execution_count": 24,
     "metadata": {},
     "output_type": "execute_result"
    }
   ],
   "source": [
    "np.power(x, np.array([2, 2, 3, 3, 0]))"
   ]
  },
  {
   "cell_type": "code",
   "execution_count": 26,
   "id": "32a216eb-e655-41e7-a0a3-ef6c23f39c1b",
   "metadata": {},
   "outputs": [
    {
     "data": {
      "text/plain": [
       "array([False, False, False, False, False])"
      ]
     },
     "execution_count": 26,
     "metadata": {},
     "output_type": "execute_result"
    }
   ],
   "source": [
    "x > y"
   ]
  },
  {
   "cell_type": "code",
   "execution_count": 28,
   "id": "76bf6c15-f0bb-40a8-a6b8-c41e9e248f08",
   "metadata": {},
   "outputs": [
    {
     "data": {
      "text/plain": [
       "array([False,  True,  True,  True,  True])"
      ]
     },
     "execution_count": 28,
     "metadata": {},
     "output_type": "execute_result"
    }
   ],
   "source": [
    "x < y"
   ]
  },
  {
   "cell_type": "code",
   "execution_count": 30,
   "id": "454edb4b-5c11-4247-95b6-0f7fcdb20e2d",
   "metadata": {},
   "outputs": [
    {
     "data": {
      "text/plain": [
       "array([False, False, False,  True,  True])"
      ]
     },
     "execution_count": 30,
     "metadata": {},
     "output_type": "execute_result"
    }
   ],
   "source": [
    "x > 2"
   ]
  },
  {
   "cell_type": "code",
   "execution_count": 32,
   "id": "338b7f66-a938-4ea2-b13a-b3e34d295cce",
   "metadata": {},
   "outputs": [],
   "source": [
    "a = [0, 1, 2, 3, 4]"
   ]
  },
  {
   "cell_type": "code",
   "execution_count": 34,
   "id": "72d8f8fd-da7d-46d1-9f21-c1191291f313",
   "metadata": {},
   "outputs": [
    {
     "ename": "TypeError",
     "evalue": "'>' not supported between instances of 'list' and 'int'",
     "output_type": "error",
     "traceback": [
      "\u001b[1;31m---------------------------------------------------------------------------\u001b[0m",
      "\u001b[1;31mTypeError\u001b[0m                                 Traceback (most recent call last)",
      "Cell \u001b[1;32mIn[34], line 1\u001b[0m\n\u001b[1;32m----> 1\u001b[0m a \u001b[38;5;241m>\u001b[39m \u001b[38;5;241m2\u001b[39m\n",
      "\u001b[1;31mTypeError\u001b[0m: '>' not supported between instances of 'list' and 'int'"
     ]
    }
   ],
   "source": [
    "a > 2"
   ]
  },
  {
   "cell_type": "code",
   "execution_count": 36,
   "id": "b5c01279-96d1-4209-9cae-5ce3583dda96",
   "metadata": {},
   "outputs": [
    {
     "data": {
      "text/plain": [
       "([0, 1, 2, 3, 4], array([0, 1, 2, 3, 4]))"
      ]
     },
     "execution_count": 36,
     "metadata": {},
     "output_type": "execute_result"
    }
   ],
   "source": [
    "a, x"
   ]
  },
  {
   "cell_type": "code",
   "execution_count": 38,
   "id": "ad72cc40-67fa-4d15-bfc0-da3fe5e83efc",
   "metadata": {},
   "outputs": [
    {
     "data": {
      "text/plain": [
       "array([3, 4])"
      ]
     },
     "execution_count": 38,
     "metadata": {},
     "output_type": "execute_result"
    }
   ],
   "source": [
    "x[x > 2]"
   ]
  },
  {
   "cell_type": "code",
   "execution_count": 40,
   "id": "9b9e99b3-8a3a-4866-a894-8f83053d7762",
   "metadata": {},
   "outputs": [
    {
     "data": {
      "text/plain": [
       "7"
      ]
     },
     "execution_count": 40,
     "metadata": {},
     "output_type": "execute_result"
    }
   ],
   "source": [
    "np.sum(x[x > 2])"
   ]
  },
  {
   "cell_type": "code",
   "execution_count": 42,
   "id": "a3f9c7ef-84d7-4f59-8109-056331d57b97",
   "metadata": {},
   "outputs": [
    {
     "data": {
      "text/plain": [
       "array([False, False,  True, False, False])"
      ]
     },
     "execution_count": 42,
     "metadata": {},
     "output_type": "execute_result"
    }
   ],
   "source": [
    "(x > 1) & (x < 3)"
   ]
  },
  {
   "cell_type": "code",
   "execution_count": 48,
   "id": "dd981288-3399-4772-9865-e75ad69cc888",
   "metadata": {},
   "outputs": [
    {
     "data": {
      "text/plain": [
       "2"
      ]
     },
     "execution_count": 48,
     "metadata": {},
     "output_type": "execute_result"
    }
   ],
   "source": [
    "# ile elementów jest większych od 2\n",
    "np.sum(x > 2)"
   ]
  },
  {
   "cell_type": "code",
   "execution_count": 50,
   "id": "3a0c70c0-f7e9-402e-af0e-4cd328b5e722",
   "metadata": {},
   "outputs": [
    {
     "data": {
      "text/plain": [
       "2"
      ]
     },
     "execution_count": 50,
     "metadata": {},
     "output_type": "execute_result"
    }
   ],
   "source": [
    "len(x[x > 2])"
   ]
  },
  {
   "cell_type": "code",
   "execution_count": null,
   "id": "f030f4c6-fe99-4d60-a2d8-c5fb80b63225",
   "metadata": {},
   "outputs": [],
   "source": []
  },
  {
   "cell_type": "code",
   "execution_count": null,
   "id": "211c8c99-3970-4d48-ab86-4b25e088b3c4",
   "metadata": {},
   "outputs": [],
   "source": []
  }
 ],
 "metadata": {
  "kernelspec": {
   "display_name": "Python 3 (ipykernel)",
   "language": "python",
   "name": "python3"
  },
  "language_info": {
   "codemirror_mode": {
    "name": "ipython",
    "version": 3
   },
   "file_extension": ".py",
   "mimetype": "text/x-python",
   "name": "python",
   "nbconvert_exporter": "python",
   "pygments_lexer": "ipython3",
   "version": "3.12.4"
  }
 },
 "nbformat": 4,
 "nbformat_minor": 5
}
